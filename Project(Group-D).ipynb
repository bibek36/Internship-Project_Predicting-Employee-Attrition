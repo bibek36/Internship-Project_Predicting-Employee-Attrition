{
 "cells": [
  {
   "cell_type": "code",
   "execution_count": 352,
   "id": "27f8ec4d",
   "metadata": {},
   "outputs": [],
   "source": [
    "import numpy as np\n",
    "import pandas as pd\n",
    "import matplotlib.pyplot as plt\n",
    "import seaborn as sns\n",
    "\n",
    "from sklearn import linear_model\n",
    "from sklearn import model_selection\n",
    "from sklearn import metrics\n",
    "from sklearn import preprocessing\n",
    "from sklearn import feature_selection\n",
    "from sklearn import tree\n",
    "from sklearn import ensemble\n",
    "\n",
    "pd.set_option('display.float_format', lambda x: '%.5f' % x)"
   ]
  },
  {
   "cell_type": "code",
   "execution_count": 353,
   "id": "86f1b6db",
   "metadata": {},
   "outputs": [],
   "source": [
    "df0=pd.read_csv(\"F:\\Programming\\Machine Learning\\ClassWorks\\project\\interview.csv\")"
   ]
  },
  {
   "cell_type": "code",
   "execution_count": 354,
   "id": "8be4fb3e",
   "metadata": {},
   "outputs": [],
   "source": [
    "#pd.set_option(\"display.max_rows\", None, \"display.max_columns\", None)"
   ]
  },
  {
   "cell_type": "code",
   "execution_count": 355,
   "id": "1866b40a",
   "metadata": {},
   "outputs": [
    {
     "data": {
      "text/html": [
       "<div>\n",
       "<style scoped>\n",
       "    .dataframe tbody tr th:only-of-type {\n",
       "        vertical-align: middle;\n",
       "    }\n",
       "\n",
       "    .dataframe tbody tr th {\n",
       "        vertical-align: top;\n",
       "    }\n",
       "\n",
       "    .dataframe thead th {\n",
       "        text-align: right;\n",
       "    }\n",
       "</style>\n",
       "<table border=\"1\" class=\"dataframe\">\n",
       "  <thead>\n",
       "    <tr style=\"text-align: right;\">\n",
       "      <th></th>\n",
       "      <th>Date of Interview</th>\n",
       "      <th>Client name</th>\n",
       "      <th>Industry</th>\n",
       "      <th>Location</th>\n",
       "      <th>Position to be closed</th>\n",
       "      <th>Nature of Skillset</th>\n",
       "      <th>Interview Type</th>\n",
       "      <th>Name(Cand ID)</th>\n",
       "      <th>Gender</th>\n",
       "      <th>Candidate Current Location</th>\n",
       "      <th>...</th>\n",
       "      <th>Are you clear with the venue details and the landmark.</th>\n",
       "      <th>Has the call letter been shared</th>\n",
       "      <th>Expected Attendance</th>\n",
       "      <th>Observed Attendance</th>\n",
       "      <th>Marital Status</th>\n",
       "      <th>Unnamed: 23</th>\n",
       "      <th>Unnamed: 24</th>\n",
       "      <th>Unnamed: 25</th>\n",
       "      <th>Unnamed: 26</th>\n",
       "      <th>Unnamed: 27</th>\n",
       "    </tr>\n",
       "  </thead>\n",
       "  <tbody>\n",
       "    <tr>\n",
       "      <th>0</th>\n",
       "      <td>13.02.2015</td>\n",
       "      <td>Hospira</td>\n",
       "      <td>Pharmaceuticals</td>\n",
       "      <td>Chennai</td>\n",
       "      <td>Production- Sterile</td>\n",
       "      <td>Routine</td>\n",
       "      <td>Scheduled Walkin</td>\n",
       "      <td>Candidate 1</td>\n",
       "      <td>Male</td>\n",
       "      <td>Chennai</td>\n",
       "      <td>...</td>\n",
       "      <td>Yes</td>\n",
       "      <td>Yes</td>\n",
       "      <td>Yes</td>\n",
       "      <td>No</td>\n",
       "      <td>Single</td>\n",
       "      <td>NaN</td>\n",
       "      <td>NaN</td>\n",
       "      <td>NaN</td>\n",
       "      <td>NaN</td>\n",
       "      <td>NaN</td>\n",
       "    </tr>\n",
       "    <tr>\n",
       "      <th>1</th>\n",
       "      <td>13.02.2015</td>\n",
       "      <td>Hospira</td>\n",
       "      <td>Pharmaceuticals</td>\n",
       "      <td>Chennai</td>\n",
       "      <td>Production- Sterile</td>\n",
       "      <td>Routine</td>\n",
       "      <td>Scheduled Walkin</td>\n",
       "      <td>Candidate 2</td>\n",
       "      <td>Male</td>\n",
       "      <td>Chennai</td>\n",
       "      <td>...</td>\n",
       "      <td>Yes</td>\n",
       "      <td>Yes</td>\n",
       "      <td>Yes</td>\n",
       "      <td>No</td>\n",
       "      <td>Single</td>\n",
       "      <td>NaN</td>\n",
       "      <td>NaN</td>\n",
       "      <td>NaN</td>\n",
       "      <td>NaN</td>\n",
       "      <td>NaN</td>\n",
       "    </tr>\n",
       "    <tr>\n",
       "      <th>2</th>\n",
       "      <td>13.02.2015</td>\n",
       "      <td>Hospira</td>\n",
       "      <td>Pharmaceuticals</td>\n",
       "      <td>Chennai</td>\n",
       "      <td>Production- Sterile</td>\n",
       "      <td>Routine</td>\n",
       "      <td>Scheduled Walkin</td>\n",
       "      <td>Candidate 3</td>\n",
       "      <td>Male</td>\n",
       "      <td>Chennai</td>\n",
       "      <td>...</td>\n",
       "      <td>NaN</td>\n",
       "      <td>NaN</td>\n",
       "      <td>Uncertain</td>\n",
       "      <td>No</td>\n",
       "      <td>Single</td>\n",
       "      <td>NaN</td>\n",
       "      <td>NaN</td>\n",
       "      <td>NaN</td>\n",
       "      <td>NaN</td>\n",
       "      <td>NaN</td>\n",
       "    </tr>\n",
       "    <tr>\n",
       "      <th>3</th>\n",
       "      <td>13.02.2015</td>\n",
       "      <td>Hospira</td>\n",
       "      <td>Pharmaceuticals</td>\n",
       "      <td>Chennai</td>\n",
       "      <td>Production- Sterile</td>\n",
       "      <td>Routine</td>\n",
       "      <td>Scheduled Walkin</td>\n",
       "      <td>Candidate 4</td>\n",
       "      <td>Male</td>\n",
       "      <td>Chennai</td>\n",
       "      <td>...</td>\n",
       "      <td>Yes</td>\n",
       "      <td>Yes</td>\n",
       "      <td>Uncertain</td>\n",
       "      <td>No</td>\n",
       "      <td>Single</td>\n",
       "      <td>NaN</td>\n",
       "      <td>NaN</td>\n",
       "      <td>NaN</td>\n",
       "      <td>NaN</td>\n",
       "      <td>NaN</td>\n",
       "    </tr>\n",
       "    <tr>\n",
       "      <th>4</th>\n",
       "      <td>13.02.2015</td>\n",
       "      <td>Hospira</td>\n",
       "      <td>Pharmaceuticals</td>\n",
       "      <td>Chennai</td>\n",
       "      <td>Production- Sterile</td>\n",
       "      <td>Routine</td>\n",
       "      <td>Scheduled Walkin</td>\n",
       "      <td>Candidate 5</td>\n",
       "      <td>Male</td>\n",
       "      <td>Chennai</td>\n",
       "      <td>...</td>\n",
       "      <td>Yes</td>\n",
       "      <td>Yes</td>\n",
       "      <td>Uncertain</td>\n",
       "      <td>No</td>\n",
       "      <td>Married</td>\n",
       "      <td>NaN</td>\n",
       "      <td>NaN</td>\n",
       "      <td>NaN</td>\n",
       "      <td>NaN</td>\n",
       "      <td>NaN</td>\n",
       "    </tr>\n",
       "  </tbody>\n",
       "</table>\n",
       "<p>5 rows × 28 columns</p>\n",
       "</div>"
      ],
      "text/plain": [
       "  Date of Interview Client name         Industry Location  \\\n",
       "0        13.02.2015     Hospira  Pharmaceuticals  Chennai   \n",
       "1        13.02.2015     Hospira  Pharmaceuticals  Chennai   \n",
       "2        13.02.2015     Hospira  Pharmaceuticals  Chennai   \n",
       "3        13.02.2015     Hospira  Pharmaceuticals  Chennai   \n",
       "4        13.02.2015     Hospira  Pharmaceuticals  Chennai   \n",
       "\n",
       "  Position to be closed Nature of Skillset    Interview Type Name(Cand ID)  \\\n",
       "0   Production- Sterile            Routine  Scheduled Walkin   Candidate 1   \n",
       "1   Production- Sterile            Routine  Scheduled Walkin   Candidate 2   \n",
       "2   Production- Sterile            Routine  Scheduled Walkin   Candidate 3   \n",
       "3   Production- Sterile            Routine  Scheduled Walkin   Candidate 4   \n",
       "4   Production- Sterile            Routine  Scheduled Walkin   Candidate 5   \n",
       "\n",
       "  Gender Candidate Current Location  ...  \\\n",
       "0   Male                    Chennai  ...   \n",
       "1   Male                    Chennai  ...   \n",
       "2   Male                    Chennai  ...   \n",
       "3   Male                    Chennai  ...   \n",
       "4   Male                    Chennai  ...   \n",
       "\n",
       "  Are you clear with the venue details and the landmark.  \\\n",
       "0                                                Yes       \n",
       "1                                                Yes       \n",
       "2                                                NaN       \n",
       "3                                                Yes       \n",
       "4                                                Yes       \n",
       "\n",
       "  Has the call letter been shared Expected Attendance Observed Attendance  \\\n",
       "0                             Yes                 Yes                  No   \n",
       "1                             Yes                 Yes                  No   \n",
       "2                             NaN           Uncertain                  No   \n",
       "3                             Yes           Uncertain                  No   \n",
       "4                             Yes           Uncertain                  No   \n",
       "\n",
       "  Marital Status Unnamed: 23 Unnamed: 24 Unnamed: 25 Unnamed: 26 Unnamed: 27  \n",
       "0         Single         NaN         NaN         NaN         NaN         NaN  \n",
       "1         Single         NaN         NaN         NaN         NaN         NaN  \n",
       "2         Single         NaN         NaN         NaN         NaN         NaN  \n",
       "3         Single         NaN         NaN         NaN         NaN         NaN  \n",
       "4        Married         NaN         NaN         NaN         NaN         NaN  \n",
       "\n",
       "[5 rows x 28 columns]"
      ]
     },
     "execution_count": 355,
     "metadata": {},
     "output_type": "execute_result"
    }
   ],
   "source": [
    "df0.head()"
   ]
  },
  {
   "cell_type": "code",
   "execution_count": 356,
   "id": "3d32b303",
   "metadata": {},
   "outputs": [],
   "source": [
    "df0=df0.drop([\"Unnamed: 23\",\"Unnamed: 24\",\"Unnamed: 25\", \"Unnamed: 26\", \"Unnamed: 27\"],axis=1)\n",
    "df0=df0.drop(1233)\n",
    "df0=df0.drop([\"Date of Interview\",\"Name(Cand ID)\"],axis=1)"
   ]
  },
  {
   "cell_type": "code",
   "execution_count": null,
   "id": "8d1643f4",
   "metadata": {},
   "outputs": [],
   "source": []
  },
  {
   "cell_type": "code",
   "execution_count": 357,
   "id": "6d744f69",
   "metadata": {},
   "outputs": [
    {
     "data": {
      "text/plain": [
       "(1233, 21)"
      ]
     },
     "execution_count": 357,
     "metadata": {},
     "output_type": "execute_result"
    }
   ],
   "source": [
    "df0.shape"
   ]
  },
  {
   "cell_type": "code",
   "execution_count": 358,
   "id": "394adedd",
   "metadata": {},
   "outputs": [],
   "source": [
    "#Renaming columns\n",
    "df1 = df0.rename(columns = {'Date of Interview':'Interview_date', 'Client name':'Client_name', 'Industry':'Industry', 'Location':'Location','Position to be closed':'Closed_pos' , 'Nature of Skillset':'Skillset', 'Interview Type':'Interview_type','Name(Cand ID)':'Cand_id', 'Gender':'Gender', 'Candidate Current Location':'Curr_loc','Candidate Job Location':'Curr_job_loc', 'Interview Venue':'Interview_venue','Candidate Native location':'Native_loc','Have you obtained the necessary permission to start at the required time':'Permission_status','Hope there will be no unscheduled meetings':'Unscd_meet_status','Can I Call you three hours before the interview and follow up on your attendance for the interview':'Followup_status','Can I have an alternative number/ desk number. I assure you that I will not trouble you too much':'AltNum_status','Have you taken a printout of your updated resume. Have you read the JD and understood the same':'Resume_status','Are you clear with the venue details and the landmark.':'Venue_status','Has the call letter been shared':'Call_letter_status', 'Expected Attendance':'Ex_attend','Observed Attendance':'Obs_attend', 'Marital Status':'Matital_status'}, inplace = False)"
   ]
  },
  {
   "cell_type": "code",
   "execution_count": 359,
   "id": "d848112d",
   "metadata": {},
   "outputs": [
    {
     "data": {
      "text/plain": [
       "Index(['Client_name', 'Industry', 'Location', 'Closed_pos', 'Skillset',\n",
       "       'Interview_type', 'Gender', 'Curr_loc', 'Curr_job_loc',\n",
       "       'Interview_venue', 'Native_loc', 'Permission_status',\n",
       "       'Unscd_meet_status', 'Followup_status', 'AltNum_status',\n",
       "       'Resume_status', 'Venue_status', 'Call_letter_status', 'Ex_attend',\n",
       "       'Obs_attend', 'Matital_status'],\n",
       "      dtype='object')"
      ]
     },
     "execution_count": 359,
     "metadata": {},
     "output_type": "execute_result"
    }
   ],
   "source": [
    "df1.columns"
   ]
  },
  {
   "cell_type": "code",
   "execution_count": 360,
   "id": "cc14ed09",
   "metadata": {},
   "outputs": [
    {
     "data": {
      "text/plain": [
       "(1233, 21)"
      ]
     },
     "execution_count": 360,
     "metadata": {},
     "output_type": "execute_result"
    }
   ],
   "source": [
    "df1.shape"
   ]
  },
  {
   "cell_type": "markdown",
   "id": "1e11c8c4",
   "metadata": {},
   "source": [
    "# Cleaning the DATA"
   ]
  },
  {
   "cell_type": "markdown",
   "id": "c88180c3",
   "metadata": {},
   "source": [
    "### Column 1. \"Client_name\""
   ]
  },
  {
   "cell_type": "code",
   "execution_count": 361,
   "id": "98602760",
   "metadata": {},
   "outputs": [
    {
     "data": {
      "text/plain": [
       "(Standard Chartered Bank            904\n",
       " Pfizer                              75\n",
       " Hospira                             75\n",
       " Aon Hewitt                          28\n",
       " Flextronics                         23\n",
       " ANZ                                 22\n",
       " Hewitt                              20\n",
       " UST                                 18\n",
       " Standard Chartered Bank Chennai     17\n",
       " Prodapt                             17\n",
       " Astrazeneca                         15\n",
       " Williams Lea                        11\n",
       " Barclays                             5\n",
       " Aon hewitt Gurgaon                   2\n",
       " Woori Bank                           1\n",
       " Name: Client_name, dtype: int64,\n",
       " 1233)"
      ]
     },
     "execution_count": 361,
     "metadata": {},
     "output_type": "execute_result"
    }
   ],
   "source": [
    "df1[\"Client_name\"].value_counts(),df1[\"Client_name\"].value_counts().sum()"
   ]
  },
  {
   "cell_type": "code",
   "execution_count": 362,
   "id": "36b3cf1b",
   "metadata": {},
   "outputs": [
    {
     "data": {
      "text/plain": [
       "0"
      ]
     },
     "execution_count": 362,
     "metadata": {},
     "output_type": "execute_result"
    }
   ],
   "source": [
    "df1[\"Client_name\"].isna().sum()#NO missing values"
   ]
  },
  {
   "cell_type": "code",
   "execution_count": null,
   "id": "1239817b",
   "metadata": {},
   "outputs": [],
   "source": []
  },
  {
   "cell_type": "markdown",
   "id": "19221e22",
   "metadata": {},
   "source": [
    "### Column 2. \"Industry\""
   ]
  },
  {
   "cell_type": "code",
   "execution_count": 363,
   "id": "ff91b58c",
   "metadata": {},
   "outputs": [
    {
     "data": {
      "text/plain": [
       "(BFSI                        949\n",
       " Pharmaceuticals             165\n",
       " IT Products and Services     45\n",
       " Electronics                  23\n",
       " IT Services                  23\n",
       " Telecom                      17\n",
       " IT                           11\n",
       " Name: Industry, dtype: int64,\n",
       " 1233)"
      ]
     },
     "execution_count": 363,
     "metadata": {},
     "output_type": "execute_result"
    }
   ],
   "source": [
    "df1[\"Industry\"].value_counts(),df1[\"Industry\"].value_counts().sum()"
   ]
  },
  {
   "cell_type": "code",
   "execution_count": 364,
   "id": "65c50aee",
   "metadata": {},
   "outputs": [
    {
     "data": {
      "text/plain": [
       "0"
      ]
     },
     "execution_count": 364,
     "metadata": {},
     "output_type": "execute_result"
    }
   ],
   "source": [
    "df1[\"Industry\"].isna().sum()#NO missing values"
   ]
  },
  {
   "cell_type": "code",
   "execution_count": 365,
   "id": "aa42c3af",
   "metadata": {},
   "outputs": [],
   "source": [
    "# Group IT in one category\n",
    "def rename_industry(data):\n",
    "    if 'IT' in data:\n",
    "        return 'IT'\n",
    "    else:\n",
    "        return data\n",
    "df1.Industry=df1.Industry.apply(rename_industry)"
   ]
  },
  {
   "cell_type": "code",
   "execution_count": 366,
   "id": "ee7d2d48",
   "metadata": {},
   "outputs": [
    {
     "data": {
      "text/plain": [
       "(BFSI               949\n",
       " Pharmaceuticals    165\n",
       " IT                  79\n",
       " Electronics         23\n",
       " Telecom             17\n",
       " Name: Industry, dtype: int64,\n",
       " 1233)"
      ]
     },
     "execution_count": 366,
     "metadata": {},
     "output_type": "execute_result"
    }
   ],
   "source": [
    "df1[\"Industry\"].value_counts(),df1[\"Industry\"].value_counts().sum()"
   ]
  },
  {
   "cell_type": "code",
   "execution_count": null,
   "id": "42c452f8",
   "metadata": {},
   "outputs": [],
   "source": []
  },
  {
   "cell_type": "markdown",
   "id": "eab89640",
   "metadata": {},
   "source": [
    "### Column 3. \"Location\""
   ]
  },
  {
   "cell_type": "code",
   "execution_count": 367,
   "id": "1cda2c22",
   "metadata": {},
   "outputs": [
    {
     "data": {
      "text/plain": [
       "(Chennai       754\n",
       " Bangalore     292\n",
       " chennai        86\n",
       " Hyderabad      38\n",
       " Gurgaon        33\n",
       " Noida          15\n",
       " - Cochin-       9\n",
       " chennai         3\n",
       " Delhi           1\n",
       " Gurgaonr        1\n",
       " CHENNAI         1\n",
       " Name: Location, dtype: int64,\n",
       " 1233)"
      ]
     },
     "execution_count": 367,
     "metadata": {},
     "output_type": "execute_result"
    }
   ],
   "source": [
    "df1[\"Location\"].value_counts(),df1[\"Location\"].value_counts().sum()"
   ]
  },
  {
   "cell_type": "code",
   "execution_count": 368,
   "id": "ea2867d6",
   "metadata": {},
   "outputs": [],
   "source": [
    "#NOTICE that, the value of this column are similar to that of column \"Curr_loc\".\n",
    "#Therefore we can simply drop this column.\n",
    "df1=df1.drop(\"Location\",axis=1)"
   ]
  },
  {
   "cell_type": "code",
   "execution_count": null,
   "id": "7b4b26ec",
   "metadata": {},
   "outputs": [],
   "source": []
  },
  {
   "cell_type": "markdown",
   "id": "66d10932",
   "metadata": {},
   "source": [
    "### Column 4. \"Closed_pos\""
   ]
  },
  {
   "cell_type": "code",
   "execution_count": 369,
   "id": "2c83438d",
   "metadata": {},
   "outputs": [
    {
     "data": {
      "text/plain": [
       "(Routine                1023\n",
       " Niche                   163\n",
       " Dot Net                  18\n",
       " Trade Finance            11\n",
       " AML                       8\n",
       " Selenium testing          5\n",
       " Production- Sterile       5\n",
       " Name: Closed_pos, dtype: int64,\n",
       " 1233)"
      ]
     },
     "execution_count": 369,
     "metadata": {},
     "output_type": "execute_result"
    }
   ],
   "source": [
    "df1[\"Closed_pos\"].value_counts(),df1[\"Closed_pos\"].value_counts().sum()"
   ]
  },
  {
   "cell_type": "code",
   "execution_count": 370,
   "id": "cf6a7644",
   "metadata": {},
   "outputs": [
    {
     "data": {
      "text/plain": [
       "0"
      ]
     },
     "execution_count": 370,
     "metadata": {},
     "output_type": "execute_result"
    }
   ],
   "source": [
    "df1[\"Closed_pos\"].isna().sum()#NO missing values"
   ]
  },
  {
   "cell_type": "code",
   "execution_count": 371,
   "id": "07666d40",
   "metadata": {},
   "outputs": [],
   "source": [
    "#Since Routine values are significantly more compared to other values.\n",
    "#Grouping Closed position into Routine or Non-Routine.\n",
    "def rename_Closed_pos(data):\n",
    "    value=data.rstrip().lower()\n",
    "    if value == 'routine':\n",
    "        return 'Routine'\n",
    "    else:\n",
    "        return 'Non-Routine'\n",
    "\n",
    "df1.Closed_pos=df1.Closed_pos.apply(rename_Closed_pos)"
   ]
  },
  {
   "cell_type": "code",
   "execution_count": 372,
   "id": "42406afb",
   "metadata": {},
   "outputs": [
    {
     "data": {
      "text/plain": [
       "(Routine        1023\n",
       " Non-Routine     210\n",
       " Name: Closed_pos, dtype: int64,\n",
       " 1233)"
      ]
     },
     "execution_count": 372,
     "metadata": {},
     "output_type": "execute_result"
    }
   ],
   "source": [
    "df1[\"Closed_pos\"].value_counts(),df1[\"Closed_pos\"].value_counts().sum()"
   ]
  },
  {
   "cell_type": "code",
   "execution_count": null,
   "id": "b762ace9",
   "metadata": {},
   "outputs": [],
   "source": []
  },
  {
   "cell_type": "markdown",
   "id": "272d6aff",
   "metadata": {},
   "source": [
    "### Column 5. \"Skillset\""
   ]
  },
  {
   "cell_type": "code",
   "execution_count": 373,
   "id": "96a43cb2",
   "metadata": {},
   "outputs": [
    {
     "data": {
      "text/plain": [
       "(JAVA/J2EE/Struts/Hibernate    220\n",
       " Accounting Operations          86\n",
       " Fresher                        86\n",
       " AML/KYC/CDD                    84\n",
       " CDD KYC                        52\n",
       "                              ... \n",
       " SCCM – Sharepoint               1\n",
       " sccm                            1\n",
       " 11.30 Am                        1\n",
       " JAVA, J2ee                      1\n",
       " BaseSAS Program/ Reporting      1\n",
       " Name: Skillset, Length: 92, dtype: int64,\n",
       " 1233)"
      ]
     },
     "execution_count": 373,
     "metadata": {},
     "output_type": "execute_result"
    }
   ],
   "source": [
    "df1[\"Skillset\"].value_counts(),df1[\"Skillset\"].value_counts().sum()"
   ]
  },
  {
   "cell_type": "code",
   "execution_count": 374,
   "id": "42a72dca",
   "metadata": {},
   "outputs": [],
   "source": [
    "df1=df1[~(df1[\"Skillset\"]== '11.30 AM')]\n",
    "\n",
    "df1=df1[~(df1[\"Skillset\"]== '10.00 AM')]\n",
    "\n",
    "df1=df1[~(df1[\"Skillset\"]== '11.30 Am')]\n",
    "\n",
    "df1=df1[~(df1[\"Skillset\"]== '9.30 AM')]\n",
    "\n",
    "df1=df1[~(df1[\"Skillset\"]== '9.00 Am')]\n",
    "\n",
    "df1=df1[~(df1[\"Skillset\"]== '12.30 Pm')]"
   ]
  },
  {
   "cell_type": "code",
   "execution_count": 375,
   "id": "e08887cb",
   "metadata": {},
   "outputs": [
    {
     "data": {
      "text/plain": [
       "(1226, 20)"
      ]
     },
     "execution_count": 375,
     "metadata": {},
     "output_type": "execute_result"
    }
   ],
   "source": [
    "df1.shape"
   ]
  },
  {
   "cell_type": "code",
   "execution_count": 376,
   "id": "c5fc78ad",
   "metadata": {},
   "outputs": [
    {
     "data": {
      "text/plain": [
       "(JAVA/J2EE/Struts/Hibernate    220\n",
       " Accounting Operations          86\n",
       " Fresher                        86\n",
       " AML/KYC/CDD                    84\n",
       " CDD KYC                        52\n",
       "                              ... \n",
       " Biosimilars                     1\n",
       " SCCM – Sharepoint               1\n",
       " sccm                            1\n",
       " JAVA, J2ee                      1\n",
       " BaseSAS Program/ Reporting      1\n",
       " Name: Skillset, Length: 86, dtype: int64,\n",
       " 1226)"
      ]
     },
     "execution_count": 376,
     "metadata": {},
     "output_type": "execute_result"
    }
   ],
   "source": [
    "df1[\"Skillset\"].value_counts(),df1[\"Skillset\"].value_counts().sum()"
   ]
  },
  {
   "cell_type": "code",
   "execution_count": 377,
   "id": "897df3fb",
   "metadata": {},
   "outputs": [
    {
     "data": {
      "text/plain": [
       "86"
      ]
     },
     "execution_count": 377,
     "metadata": {},
     "output_type": "execute_result"
    }
   ],
   "source": [
    "df1[\"Skillset\"].nunique()"
   ]
  },
  {
   "cell_type": "code",
   "execution_count": 378,
   "id": "af643b51",
   "metadata": {},
   "outputs": [
    {
     "data": {
      "text/plain": [
       "0"
      ]
     },
     "execution_count": 378,
     "metadata": {},
     "output_type": "execute_result"
    }
   ],
   "source": [
    "df1[\"Skillset\"].isna().sum()#NO missing values"
   ]
  },
  {
   "cell_type": "code",
   "execution_count": 379,
   "id": "bbdfadd4",
   "metadata": {},
   "outputs": [
    {
     "data": {
      "text/plain": [
       "1226"
      ]
     },
     "execution_count": 379,
     "metadata": {},
     "output_type": "execute_result"
    }
   ],
   "source": [
    "df1[\"Skillset\"].value_counts().sum()"
   ]
  },
  {
   "cell_type": "code",
   "execution_count": 380,
   "id": "b36a85ba",
   "metadata": {},
   "outputs": [
    {
     "name": "stderr",
     "output_type": "stream",
     "text": [
      "<ipython-input-380-807a17c05c07>:2: DeprecationWarning: The default dtype for empty Series will be 'object' instead of 'float64' in a future version. Specify a dtype explicitly to silence this warning.\n",
      "  df1['Skill']=pd.Series()\n",
      "<ipython-input-380-807a17c05c07>:3: SettingWithCopyWarning: \n",
      "A value is trying to be set on a copy of a slice from a DataFrame\n",
      "\n",
      "See the caveats in the documentation: https://pandas.pydata.org/pandas-docs/stable/user_guide/indexing.html#returning-a-view-versus-a-copy\n",
      "  df1['Skill'][df1['Skillset'].str.contains(\"eveloper\")]='Developer'\n"
     ]
    }
   ],
   "source": [
    "#Merging 'Sillset' data and creating new columns \"Skill\" which is cleaner.\n",
    "df1['Skill']=pd.Series()\n",
    "df1['Skill'][df1['Skillset'].str.contains(\"eveloper\")]='Developer'\n",
    "df1['Skill'][df1['Skillset'].str.contains(\"SAP\")]='SAP'\n",
    "df1['Skill'][df1['Skillset'].str.contains(\"naly\")]='Analyst'\n",
    "df1['Skill'][df1['Skillset'].str.contains(\"RA\")]='RA'\n",
    "df1['Skill'][df1['Skillset'].str.contains(\"roduc\")]='Product'\n",
    "df1['Skill'][df1['Skillset'].str.contains(\"SCC\")]='SCCM'\n",
    "df1['Skill'][df1['Skillset'].str.contains(\"Scc\")]='SCCM'\n",
    "df1['Skill'][df1['Skillset'].str.contains(\"sccm\")]='SCCM'\n",
    "df1['Skill'][df1['Skillset'].str.contains(\"abili\")]='LL'\n",
    "df1['Skill'][df1['Skillset'].str.contains(\"L & L\")]='LL'\n",
    "df1['Skill'][df1['Skillset'].str.contains(\"abli\")]='LL'\n",
    "df1['Skill'][df1['Skillset'].str.contains(\"Publi\")]='Publishing'\n",
    "df1['Skill'][df1['Skillset'].str.contains('esti')]='Testing'\n",
    "df1['Skill'][df1['Skillset'].str.contains(\"ednet\")]='Mednet'\n",
    "df1['Skill'][df1['Skillset'].str.contains(\"Java\")]='Java'\n",
    "df1['Skill'][df1['Skillset'].str.contains(\"JAVA\")]='Java'\n",
    "df1['Skill'][df1['Skillset'].str.contains(\"Oracle\")]='Oracle'\n",
    "df1['Skill'][df1['Skillset'].str.contains(\"Fres\")]='Fresher'\n",
    "df1['Skill'][df1['Skillset'].str.contains(\"pera\")]='Operations'\n",
    "df1['Skill'][df1['Skillset'].str.contains(\"KYC\")]='KYC'\n",
    "df1['Skill'][df1['Skillset'].str.contains(\"Routi\")]='Routine'\n",
    "df1['Skill'][df1['Skillset'].str.contains(\"SAS\")]='SAS'\n",
    "df1['Skill'][df1['Skillset'].str.contains(\"anag\")]='Manager'\n",
    "df1['Skill'][df1['Skillset'].str.contains(\"iosim\")]='Biosimilarity'\n",
    "df1['Skill'][df1['Skillset'].str.contains(\"ot \")]='Dot Net'\n",
    "df1['Skill'][df1['Skillset'].str.contains(\"Hadoop\")]='Hadoop'\n",
    "df1['Skill'][df1['Skillset'].str.contains(\"egula\")]='Regulatory'\n",
    "df1['Skill'][df1['Skillset'].str.contains(\"EMEA\")]='EMEA'\n",
    "df1['Skill'][df1['Skillset'].str.contains(\"COTS\")]='COTS'\n",
    "df1['Skill'][df1['Skillset'].str.contains(\"ETL\")]='ETL'\n",
    "df1['Skill'][df1['Skillset'].str.contains(\"abel\")]='Labelling'"
   ]
  },
  {
   "cell_type": "code",
   "execution_count": 381,
   "id": "08bf787c",
   "metadata": {},
   "outputs": [
    {
     "data": {
      "text/plain": [
       "1222"
      ]
     },
     "execution_count": 381,
     "metadata": {},
     "output_type": "execute_result"
    }
   ],
   "source": [
    "df1[\"Skill\"].value_counts().sum()"
   ]
  },
  {
   "cell_type": "code",
   "execution_count": 382,
   "id": "02d1b8b5",
   "metadata": {},
   "outputs": [
    {
     "data": {
      "text/plain": [
       "Java             454\n",
       "KYC              136\n",
       "Operations       110\n",
       "Fresher           86\n",
       "Oracle            68\n",
       "Routine           47\n",
       "Testing           39\n",
       "SAS               33\n",
       "LL                33\n",
       "SCCM              25\n",
       "Mednet            24\n",
       "Analyst           21\n",
       "Publishing        18\n",
       "COTS              17\n",
       "Developer         15\n",
       "Product           13\n",
       "Regulatory        12\n",
       "Hadoop            12\n",
       "Biosimilarity     10\n",
       "Dot Net            9\n",
       "ETL                9\n",
       "RA                 8\n",
       "Labelling          8\n",
       "EMEA               6\n",
       "Manager            5\n",
       "SAP                4\n",
       "Name: Skill, dtype: int64"
      ]
     },
     "execution_count": 382,
     "metadata": {},
     "output_type": "execute_result"
    }
   ],
   "source": [
    "df1[\"Skill\"].value_counts()"
   ]
  },
  {
   "cell_type": "code",
   "execution_count": 383,
   "id": "8a613553",
   "metadata": {},
   "outputs": [],
   "source": [
    "#droping the 'Skillset' column\n",
    "df1=df1.drop(\"Skillset\",axis=1)"
   ]
  },
  {
   "cell_type": "code",
   "execution_count": 384,
   "id": "7db29a7e",
   "metadata": {},
   "outputs": [
    {
     "data": {
      "text/plain": [
       "4"
      ]
     },
     "execution_count": 384,
     "metadata": {},
     "output_type": "execute_result"
    }
   ],
   "source": [
    "df1[\"Skill\"].isna().sum()"
   ]
  },
  {
   "cell_type": "code",
   "execution_count": 385,
   "id": "40293eb5",
   "metadata": {},
   "outputs": [],
   "source": [
    "#set missing values as 'others'\n",
    "df1[\"Skill\"]=df1[\"Skill\"].fillna(value='others')"
   ]
  },
  {
   "cell_type": "code",
   "execution_count": 386,
   "id": "3c077a77",
   "metadata": {},
   "outputs": [
    {
     "data": {
      "text/plain": [
       "(1226, 20)"
      ]
     },
     "execution_count": 386,
     "metadata": {},
     "output_type": "execute_result"
    }
   ],
   "source": [
    "df1.shape"
   ]
  },
  {
   "cell_type": "code",
   "execution_count": 387,
   "id": "88018ea3",
   "metadata": {},
   "outputs": [
    {
     "data": {
      "text/plain": [
       "0"
      ]
     },
     "execution_count": 387,
     "metadata": {},
     "output_type": "execute_result"
    }
   ],
   "source": [
    "df1[\"Skill\"].isna().sum()"
   ]
  },
  {
   "cell_type": "code",
   "execution_count": 388,
   "id": "04a06da8",
   "metadata": {},
   "outputs": [
    {
     "data": {
      "text/plain": [
       "27"
      ]
     },
     "execution_count": 388,
     "metadata": {},
     "output_type": "execute_result"
    }
   ],
   "source": [
    "df1[\"Skill\"].nunique()"
   ]
  },
  {
   "cell_type": "code",
   "execution_count": 389,
   "id": "260e975b",
   "metadata": {},
   "outputs": [],
   "source": [
    "#droping rows which has less distinct values \n",
    "df1.drop(df1.loc[df1['Skill']=='SAP'].index, inplace=True)\n",
    "df1.drop(df1.loc[df1['Skill']=='Manager'].index, inplace=True)\n",
    "df1.drop(df1.loc[df1['Skill']=='EMEA'].index, inplace=True)\n",
    "df1.drop(df1.loc[df1['Skill']=='Labelling'].index, inplace=True)\n",
    "df1.drop(df1.loc[df1['Skill']=='RA'].index, inplace=True)\n",
    "df1.drop(df1.loc[df1['Skill']=='ETL'].index, inplace=True)\n",
    "df1.drop(df1.loc[df1['Skill']=='Dot Net'].index, inplace=True)\n",
    "df1.drop(df1.loc[df1['Skill']=='Biosimilarity'].index, inplace=True)\n",
    "df1.drop(df1.loc[df1['Skill']=='Hadoop'].index, inplace=True)\n",
    "df1.drop(df1.loc[df1['Skill']=='Regulatory'].index, inplace=True)\n",
    "df1.drop(df1.loc[df1['Skill']=='Product'].index, inplace=True)\n",
    "df1.drop(df1.loc[df1['Skill']=='Developer'].index, inplace=True)\n",
    "df1.drop(df1.loc[df1['Skill']=='COTS'].index, inplace=True)\n",
    "df1.drop(df1.loc[df1['Skill']=='Publishing'].index, inplace=True)\n",
    "df1.drop(df1.loc[df1['Skill']=='Analyst'].index, inplace=True)\n",
    "df1.drop(df1.loc[df1['Skill']=='Mednet'].index, inplace=True)\n",
    "df1.drop(df1.loc[df1['Skill']=='SCCM'].index, inplace=True)\n",
    "df1.drop(df1.loc[df1['Skill']=='LL'].index, inplace=True)\n",
    "df1.drop(df1.loc[df1['Skill']=='SAS'].index, inplace=True)\n",
    "df1.drop(df1.loc[df1['Skill']=='others'].index, inplace=True)"
   ]
  },
  {
   "cell_type": "code",
   "execution_count": 390,
   "id": "a4f2f9e9",
   "metadata": {},
   "outputs": [
    {
     "data": {
      "text/plain": [
       "Java          454\n",
       "KYC           136\n",
       "Operations    110\n",
       "Fresher        86\n",
       "Oracle         68\n",
       "Routine        47\n",
       "Testing        39\n",
       "Name: Skill, dtype: int64"
      ]
     },
     "execution_count": 390,
     "metadata": {},
     "output_type": "execute_result"
    }
   ],
   "source": [
    "df1['Skill'].value_counts()"
   ]
  },
  {
   "cell_type": "code",
   "execution_count": null,
   "id": "f6cfd37b",
   "metadata": {},
   "outputs": [],
   "source": []
  },
  {
   "cell_type": "markdown",
   "id": "95ff3a60",
   "metadata": {},
   "source": [
    "### Column 6. \"Interview_type\""
   ]
  },
  {
   "cell_type": "code",
   "execution_count": 391,
   "id": "0444d278",
   "metadata": {},
   "outputs": [
    {
     "data": {
      "text/plain": [
       "(Scheduled Walk In    449\n",
       " Scheduled Walkin     168\n",
       " Walkin               167\n",
       " Scheduled            128\n",
       " Walkin                27\n",
       " Sceduled walkin        1\n",
       " Name: Interview_type, dtype: int64,\n",
       " 940)"
      ]
     },
     "execution_count": 391,
     "metadata": {},
     "output_type": "execute_result"
    }
   ],
   "source": [
    "df1[\"Interview_type\"].value_counts(),df1[\"Interview_type\"].value_counts().sum()"
   ]
  },
  {
   "cell_type": "code",
   "execution_count": 392,
   "id": "a1fbcb2a",
   "metadata": {},
   "outputs": [
    {
     "data": {
      "text/plain": [
       "0"
      ]
     },
     "execution_count": 392,
     "metadata": {},
     "output_type": "execute_result"
    }
   ],
   "source": [
    "df1[\"Interview_type\"].isna().sum()#NO missing values"
   ]
  },
  {
   "cell_type": "code",
   "execution_count": 393,
   "id": "97ae2a9d",
   "metadata": {},
   "outputs": [],
   "source": [
    "#re-classifying them into walkin, scheduled and scheduled_walkin\n",
    "def rename_interview_type(data):\n",
    "    interview_type=data.rstrip().lower()\n",
    "    if interview_type=='walkin':\n",
    "        return 'walkin'\n",
    "    elif interview_type =='scheduled':\n",
    "        return 'scheduled'\n",
    "    else:\n",
    "        return 'scheduled_walkin'\n",
    "df1.Interview_type=df1.Interview_type.apply(rename_interview_type) \n",
    "    "
   ]
  },
  {
   "cell_type": "code",
   "execution_count": 394,
   "id": "70fb9448",
   "metadata": {},
   "outputs": [
    {
     "data": {
      "text/plain": [
       "scheduled_walkin    618\n",
       "walkin              194\n",
       "scheduled           128\n",
       "Name: Interview_type, dtype: int64"
      ]
     },
     "execution_count": 394,
     "metadata": {},
     "output_type": "execute_result"
    }
   ],
   "source": [
    "df1[\"Interview_type\"].value_counts()"
   ]
  },
  {
   "cell_type": "code",
   "execution_count": 395,
   "id": "ad7394c5",
   "metadata": {},
   "outputs": [
    {
     "data": {
      "text/plain": [
       "(scheduled_walkin    618\n",
       " walkin              194\n",
       " scheduled           128\n",
       " Name: Interview_type, dtype: int64,\n",
       " 940)"
      ]
     },
     "execution_count": 395,
     "metadata": {},
     "output_type": "execute_result"
    }
   ],
   "source": [
    "df1[\"Interview_type\"].value_counts(),df1[\"Interview_type\"].value_counts().sum()"
   ]
  },
  {
   "cell_type": "code",
   "execution_count": null,
   "id": "f8104e10",
   "metadata": {},
   "outputs": [],
   "source": []
  },
  {
   "cell_type": "markdown",
   "id": "00380a59",
   "metadata": {},
   "source": [
    "### Column 7. \"Gender\""
   ]
  },
  {
   "cell_type": "code",
   "execution_count": 396,
   "id": "d7d6d574",
   "metadata": {},
   "outputs": [
    {
     "data": {
      "text/plain": [
       "(Male      723\n",
       " Female    217\n",
       " Name: Gender, dtype: int64,\n",
       " 940)"
      ]
     },
     "execution_count": 396,
     "metadata": {},
     "output_type": "execute_result"
    }
   ],
   "source": [
    "df1[\"Gender\"].value_counts(),df1[\"Gender\"].value_counts().sum()"
   ]
  },
  {
   "cell_type": "code",
   "execution_count": 397,
   "id": "9709dc12",
   "metadata": {},
   "outputs": [
    {
     "data": {
      "text/plain": [
       "0"
      ]
     },
     "execution_count": 397,
     "metadata": {},
     "output_type": "execute_result"
    }
   ],
   "source": [
    "df1[\"Gender\"].isna().sum()#NO missing values"
   ]
  },
  {
   "cell_type": "code",
   "execution_count": null,
   "id": "0b21d48e",
   "metadata": {},
   "outputs": [],
   "source": []
  },
  {
   "cell_type": "markdown",
   "id": "eb10fd98",
   "metadata": {},
   "source": [
    "### Column 8.\"Curr_loc\""
   ]
  },
  {
   "cell_type": "code",
   "execution_count": 398,
   "id": "0cdcaa5e",
   "metadata": {},
   "outputs": [
    {
     "data": {
      "text/plain": [
       "(Chennai      605\n",
       " Bangalore    227\n",
       " chennai       76\n",
       " Gurgaon       20\n",
       " Noida          8\n",
       " chennai        3\n",
       " Delhi          1\n",
       " Name: Curr_loc, dtype: int64,\n",
       " 940)"
      ]
     },
     "execution_count": 398,
     "metadata": {},
     "output_type": "execute_result"
    }
   ],
   "source": [
    "df1[\"Curr_loc\"].value_counts(),df1[\"Curr_loc\"].value_counts().sum()"
   ]
  },
  {
   "cell_type": "code",
   "execution_count": 399,
   "id": "1f5c81b0",
   "metadata": {},
   "outputs": [
    {
     "data": {
      "text/plain": [
       "0"
      ]
     },
     "execution_count": 399,
     "metadata": {},
     "output_type": "execute_result"
    }
   ],
   "source": [
    "df1[\"Curr_loc\"].isna().sum()#NO missing values"
   ]
  },
  {
   "cell_type": "code",
   "execution_count": 400,
   "id": "e52777c7",
   "metadata": {},
   "outputs": [],
   "source": [
    "#Merging the duplicate datas\n",
    "def rename_cochin(data):\n",
    "    value=data.rstrip().lower()\n",
    "    if value=='- cochin-':\n",
    "        return 'Cochin'\n",
    "    elif value=='chennai':\n",
    "        return 'Chennai'\n",
    "    else:\n",
    "        return value\n",
    "df1.Curr_loc=df1.Curr_loc.apply(rename_cochin) "
   ]
  },
  {
   "cell_type": "code",
   "execution_count": 401,
   "id": "08abd4df",
   "metadata": {},
   "outputs": [
    {
     "data": {
      "text/plain": [
       "Chennai      684\n",
       "bangalore    227\n",
       "gurgaon       20\n",
       "noida          8\n",
       "delhi          1\n",
       "Name: Curr_loc, dtype: int64"
      ]
     },
     "execution_count": 401,
     "metadata": {},
     "output_type": "execute_result"
    }
   ],
   "source": [
    "df1[\"Curr_loc\"].value_counts()"
   ]
  },
  {
   "cell_type": "code",
   "execution_count": null,
   "id": "78042a11",
   "metadata": {},
   "outputs": [],
   "source": []
  },
  {
   "cell_type": "markdown",
   "id": "f97495ce",
   "metadata": {},
   "source": [
    "### Column 9.\"Curr_job_loc\""
   ]
  },
  {
   "cell_type": "code",
   "execution_count": 402,
   "id": "841cbe46",
   "metadata": {},
   "outputs": [
    {
     "data": {
      "text/plain": [
       "(Chennai      681\n",
       " Bangalore    229\n",
       " Gurgaon       21\n",
       " Noida          8\n",
       " Hosur          1\n",
       " Name: Curr_job_loc, dtype: int64,\n",
       " 940)"
      ]
     },
     "execution_count": 402,
     "metadata": {},
     "output_type": "execute_result"
    }
   ],
   "source": [
    "df1[\"Curr_job_loc\"].value_counts(),df1[\"Curr_job_loc\"].value_counts().sum()"
   ]
  },
  {
   "cell_type": "code",
   "execution_count": 403,
   "id": "c0c0f379",
   "metadata": {},
   "outputs": [
    {
     "data": {
      "text/plain": [
       "0"
      ]
     },
     "execution_count": 403,
     "metadata": {},
     "output_type": "execute_result"
    }
   ],
   "source": [
    "df1[\"Curr_job_loc\"].isna().sum()#NO missing values"
   ]
  },
  {
   "cell_type": "code",
   "execution_count": 404,
   "id": "568f5f50",
   "metadata": {},
   "outputs": [],
   "source": [
    "#Removing ' - ' from '- Cochin- ' values\n",
    "def rename_Curr_job_loc(data):\n",
    "    value=data.rstrip().lower()\n",
    "    if value=='- cochin-':\n",
    "        return 'Cochin'\n",
    "    else:\n",
    "        return value\n",
    "df1.Curr_job_loc=df1.Curr_job_loc.apply(rename_Curr_job_loc) "
   ]
  },
  {
   "cell_type": "code",
   "execution_count": 405,
   "id": "841dff3b",
   "metadata": {},
   "outputs": [
    {
     "data": {
      "text/plain": [
       "(chennai      681\n",
       " bangalore    229\n",
       " gurgaon       21\n",
       " noida          8\n",
       " hosur          1\n",
       " Name: Curr_job_loc, dtype: int64,\n",
       " 940)"
      ]
     },
     "execution_count": 405,
     "metadata": {},
     "output_type": "execute_result"
    }
   ],
   "source": [
    "df1[\"Curr_job_loc\"].value_counts(),df1[\"Curr_job_loc\"].value_counts().sum()"
   ]
  },
  {
   "cell_type": "code",
   "execution_count": null,
   "id": "9a756c18",
   "metadata": {},
   "outputs": [],
   "source": []
  },
  {
   "cell_type": "markdown",
   "id": "e586d028",
   "metadata": {},
   "source": [
    "### Column 10.\"Interview_venue\""
   ]
  },
  {
   "cell_type": "code",
   "execution_count": 406,
   "id": "901e5445",
   "metadata": {},
   "outputs": [
    {
     "data": {
      "text/plain": [
       "(Chennai      679\n",
       " Bangalore    227\n",
       " Gurgaon       21\n",
       " Noida          8\n",
       " Hosur          5\n",
       " Name: Interview_venue, dtype: int64,\n",
       " 940)"
      ]
     },
     "execution_count": 406,
     "metadata": {},
     "output_type": "execute_result"
    }
   ],
   "source": [
    "df1[\"Interview_venue\"].value_counts(),df1[\"Interview_venue\"].value_counts().sum()"
   ]
  },
  {
   "cell_type": "code",
   "execution_count": 407,
   "id": "a3e851c2",
   "metadata": {},
   "outputs": [
    {
     "data": {
      "text/plain": [
       "0"
      ]
     },
     "execution_count": 407,
     "metadata": {},
     "output_type": "execute_result"
    }
   ],
   "source": [
    "df1[\"Interview_venue\"].isna().sum()#NO missing values"
   ]
  },
  {
   "cell_type": "code",
   "execution_count": 408,
   "id": "10c80e38",
   "metadata": {},
   "outputs": [],
   "source": [
    "#Removing ' - ' from '- Cochin- ' values\n",
    "def rename_Interview_venue(data):\n",
    "    value=data.rstrip().lower()\n",
    "    if value=='- cochin-':\n",
    "        return 'Cochin'\n",
    "    else:\n",
    "        return value\n",
    "df1.Interview_venue=df1.Interview_venue.apply(rename_Interview_venue) "
   ]
  },
  {
   "cell_type": "code",
   "execution_count": 409,
   "id": "895dfcad",
   "metadata": {},
   "outputs": [
    {
     "data": {
      "text/plain": [
       "(chennai      679\n",
       " bangalore    227\n",
       " gurgaon       21\n",
       " noida          8\n",
       " hosur          5\n",
       " Name: Interview_venue, dtype: int64,\n",
       " 940)"
      ]
     },
     "execution_count": 409,
     "metadata": {},
     "output_type": "execute_result"
    }
   ],
   "source": [
    "df1[\"Interview_venue\"].value_counts(),df1[\"Interview_venue\"].value_counts().sum()"
   ]
  },
  {
   "cell_type": "code",
   "execution_count": null,
   "id": "59d62a01",
   "metadata": {},
   "outputs": [],
   "source": []
  },
  {
   "cell_type": "markdown",
   "id": "0e430ce4",
   "metadata": {},
   "source": [
    "### Column 11.\"Native_loc\""
   ]
  },
  {
   "cell_type": "code",
   "execution_count": 410,
   "id": "26e9c7af",
   "metadata": {},
   "outputs": [
    {
     "data": {
      "text/plain": [
       "(Chennai          470\n",
       " Bangalore        131\n",
       " Hyderabad        124\n",
       " Cochin            23\n",
       " Allahabad         18\n",
       " Pune              17\n",
       " Coimbatore        17\n",
       " Cuttack           16\n",
       " Gurgaon           15\n",
       " Nagercoil         12\n",
       " Trivandrum        10\n",
       " Vellore           10\n",
       " Trichy            10\n",
       " Kolkata            9\n",
       " Visakapatinam      8\n",
       " Noida              8\n",
       " Mumbai             5\n",
       " Chandigarh         5\n",
       " Chitoor            4\n",
       " Pondicherry        4\n",
       " Hosur              3\n",
       " Tirupati           3\n",
       " Ahmedabad          2\n",
       " Delhi /NCR         2\n",
       " Delhi              2\n",
       " Patna              2\n",
       " Tuticorin          1\n",
       " Panjim             1\n",
       " Agra               1\n",
       " Tanjore            1\n",
       " Lucknow            1\n",
       " Salem              1\n",
       " Belgaum            1\n",
       " Mysore             1\n",
       " Kanpur             1\n",
       " Faizabad           1\n",
       " Name: Native_loc, dtype: int64,\n",
       " 940)"
      ]
     },
     "execution_count": 410,
     "metadata": {},
     "output_type": "execute_result"
    }
   ],
   "source": [
    "df1[\"Native_loc\"].value_counts(),df1[\"Native_loc\"].value_counts().sum()"
   ]
  },
  {
   "cell_type": "code",
   "execution_count": 411,
   "id": "9b258031",
   "metadata": {},
   "outputs": [
    {
     "data": {
      "text/plain": [
       "36"
      ]
     },
     "execution_count": 411,
     "metadata": {},
     "output_type": "execute_result"
    }
   ],
   "source": [
    "df1[\"Native_loc\"].nunique()"
   ]
  },
  {
   "cell_type": "code",
   "execution_count": 412,
   "id": "2f8b75d9",
   "metadata": {},
   "outputs": [],
   "source": [
    "#we can drop the column 'Native_loc' as we dont think it is not that significant and also many distict values.\n",
    "df1=df1.drop(\"Native_loc\",axis=1)"
   ]
  },
  {
   "cell_type": "code",
   "execution_count": null,
   "id": "0e2ae6b6",
   "metadata": {},
   "outputs": [],
   "source": []
  },
  {
   "cell_type": "markdown",
   "id": "36b15ded",
   "metadata": {},
   "source": [
    "### Column 12.\"Permission_status\""
   ]
  },
  {
   "cell_type": "code",
   "execution_count": 413,
   "id": "f5505ad8",
   "metadata": {},
   "outputs": [
    {
     "data": {
      "text/plain": [
       "Yes               716\n",
       "No                 53\n",
       "Not yet            11\n",
       "Yet to confirm      4\n",
       "yes                 3\n",
       "NO                  1\n",
       "Name: Permission_status, dtype: int64"
      ]
     },
     "execution_count": 413,
     "metadata": {},
     "output_type": "execute_result"
    }
   ],
   "source": [
    "df1[\"Permission_status\"].value_counts()"
   ]
  },
  {
   "cell_type": "code",
   "execution_count": 414,
   "id": "f70556a8",
   "metadata": {},
   "outputs": [],
   "source": [
    "#Merging \"Permission_status\" values\n",
    "def rename_permission(data):\n",
    "    if pd.isnull(data):\n",
    "        return np.nan\n",
    "    value=data.rstrip().lower()\n",
    "    if value == 'not yet' or value == 'na' or value =='no':\n",
    "        return 'no'\n",
    "    elif value == 'yet to confirm' or value == 'yes':\n",
    "        return 'yes'\n",
    "    else:\n",
    "        return data\n",
    "\n",
    "df1.Permission_status = df1.Permission_status.apply(rename_permission)"
   ]
  },
  {
   "cell_type": "code",
   "execution_count": 415,
   "id": "43a8ab10",
   "metadata": {},
   "outputs": [
    {
     "data": {
      "text/plain": [
       "152"
      ]
     },
     "execution_count": 415,
     "metadata": {},
     "output_type": "execute_result"
    }
   ],
   "source": [
    "df1[\"Permission_status\"].isna().sum()"
   ]
  },
  {
   "cell_type": "code",
   "execution_count": 416,
   "id": "571be1e3",
   "metadata": {},
   "outputs": [],
   "source": [
    "#Consider missing values as 'no'\n",
    "df1[\"Permission_status\"]=df1[\"Permission_status\"].fillna(value='no')"
   ]
  },
  {
   "cell_type": "code",
   "execution_count": 417,
   "id": "d57c9f5c",
   "metadata": {},
   "outputs": [
    {
     "data": {
      "text/plain": [
       "(yes    723\n",
       " no     217\n",
       " Name: Permission_status, dtype: int64,\n",
       " 940)"
      ]
     },
     "execution_count": 417,
     "metadata": {},
     "output_type": "execute_result"
    }
   ],
   "source": [
    "df1[\"Permission_status\"].value_counts(),df1[\"Permission_status\"].value_counts().sum()"
   ]
  },
  {
   "cell_type": "code",
   "execution_count": 418,
   "id": "b34eacec",
   "metadata": {},
   "outputs": [
    {
     "data": {
      "text/plain": [
       "0"
      ]
     },
     "execution_count": 418,
     "metadata": {},
     "output_type": "execute_result"
    }
   ],
   "source": [
    "df1[\"Permission_status\"].isna().sum()"
   ]
  },
  {
   "cell_type": "code",
   "execution_count": 419,
   "id": "3b540a06",
   "metadata": {},
   "outputs": [
    {
     "data": {
      "text/html": [
       "<div>\n",
       "<style scoped>\n",
       "    .dataframe tbody tr th:only-of-type {\n",
       "        vertical-align: middle;\n",
       "    }\n",
       "\n",
       "    .dataframe tbody tr th {\n",
       "        vertical-align: top;\n",
       "    }\n",
       "\n",
       "    .dataframe thead th {\n",
       "        text-align: right;\n",
       "    }\n",
       "</style>\n",
       "<table border=\"1\" class=\"dataframe\">\n",
       "  <thead>\n",
       "    <tr style=\"text-align: right;\">\n",
       "      <th></th>\n",
       "      <th>Client_name</th>\n",
       "      <th>Industry</th>\n",
       "      <th>Closed_pos</th>\n",
       "      <th>Interview_type</th>\n",
       "      <th>Gender</th>\n",
       "      <th>Curr_loc</th>\n",
       "      <th>Curr_job_loc</th>\n",
       "      <th>Interview_venue</th>\n",
       "      <th>Permission_status</th>\n",
       "      <th>Unscd_meet_status</th>\n",
       "      <th>Followup_status</th>\n",
       "      <th>AltNum_status</th>\n",
       "      <th>Resume_status</th>\n",
       "      <th>Venue_status</th>\n",
       "      <th>Call_letter_status</th>\n",
       "      <th>Ex_attend</th>\n",
       "      <th>Obs_attend</th>\n",
       "      <th>Matital_status</th>\n",
       "      <th>Skill</th>\n",
       "    </tr>\n",
       "  </thead>\n",
       "  <tbody>\n",
       "    <tr>\n",
       "      <th>0</th>\n",
       "      <td>Hospira</td>\n",
       "      <td>Pharmaceuticals</td>\n",
       "      <td>Non-Routine</td>\n",
       "      <td>scheduled_walkin</td>\n",
       "      <td>Male</td>\n",
       "      <td>Chennai</td>\n",
       "      <td>hosur</td>\n",
       "      <td>hosur</td>\n",
       "      <td>yes</td>\n",
       "      <td>Yes</td>\n",
       "      <td>Yes</td>\n",
       "      <td>Yes</td>\n",
       "      <td>Yes</td>\n",
       "      <td>Yes</td>\n",
       "      <td>Yes</td>\n",
       "      <td>Yes</td>\n",
       "      <td>No</td>\n",
       "      <td>Single</td>\n",
       "      <td>Routine</td>\n",
       "    </tr>\n",
       "    <tr>\n",
       "      <th>1</th>\n",
       "      <td>Hospira</td>\n",
       "      <td>Pharmaceuticals</td>\n",
       "      <td>Non-Routine</td>\n",
       "      <td>scheduled_walkin</td>\n",
       "      <td>Male</td>\n",
       "      <td>Chennai</td>\n",
       "      <td>bangalore</td>\n",
       "      <td>hosur</td>\n",
       "      <td>yes</td>\n",
       "      <td>Yes</td>\n",
       "      <td>Yes</td>\n",
       "      <td>Yes</td>\n",
       "      <td>Yes</td>\n",
       "      <td>Yes</td>\n",
       "      <td>Yes</td>\n",
       "      <td>Yes</td>\n",
       "      <td>No</td>\n",
       "      <td>Single</td>\n",
       "      <td>Routine</td>\n",
       "    </tr>\n",
       "    <tr>\n",
       "      <th>2</th>\n",
       "      <td>Hospira</td>\n",
       "      <td>Pharmaceuticals</td>\n",
       "      <td>Non-Routine</td>\n",
       "      <td>scheduled_walkin</td>\n",
       "      <td>Male</td>\n",
       "      <td>Chennai</td>\n",
       "      <td>chennai</td>\n",
       "      <td>hosur</td>\n",
       "      <td>no</td>\n",
       "      <td>Na</td>\n",
       "      <td>NaN</td>\n",
       "      <td>NaN</td>\n",
       "      <td>NaN</td>\n",
       "      <td>NaN</td>\n",
       "      <td>NaN</td>\n",
       "      <td>Uncertain</td>\n",
       "      <td>No</td>\n",
       "      <td>Single</td>\n",
       "      <td>Routine</td>\n",
       "    </tr>\n",
       "    <tr>\n",
       "      <th>3</th>\n",
       "      <td>Hospira</td>\n",
       "      <td>Pharmaceuticals</td>\n",
       "      <td>Non-Routine</td>\n",
       "      <td>scheduled_walkin</td>\n",
       "      <td>Male</td>\n",
       "      <td>Chennai</td>\n",
       "      <td>chennai</td>\n",
       "      <td>hosur</td>\n",
       "      <td>yes</td>\n",
       "      <td>Yes</td>\n",
       "      <td>No</td>\n",
       "      <td>Yes</td>\n",
       "      <td>No</td>\n",
       "      <td>Yes</td>\n",
       "      <td>Yes</td>\n",
       "      <td>Uncertain</td>\n",
       "      <td>No</td>\n",
       "      <td>Single</td>\n",
       "      <td>Routine</td>\n",
       "    </tr>\n",
       "  </tbody>\n",
       "</table>\n",
       "</div>"
      ],
      "text/plain": [
       "  Client_name         Industry   Closed_pos    Interview_type Gender Curr_loc  \\\n",
       "0     Hospira  Pharmaceuticals  Non-Routine  scheduled_walkin   Male  Chennai   \n",
       "1     Hospira  Pharmaceuticals  Non-Routine  scheduled_walkin   Male  Chennai   \n",
       "2     Hospira  Pharmaceuticals  Non-Routine  scheduled_walkin   Male  Chennai   \n",
       "3     Hospira  Pharmaceuticals  Non-Routine  scheduled_walkin   Male  Chennai   \n",
       "\n",
       "  Curr_job_loc Interview_venue Permission_status Unscd_meet_status  \\\n",
       "0        hosur           hosur               yes               Yes   \n",
       "1    bangalore           hosur               yes               Yes   \n",
       "2      chennai           hosur                no                Na   \n",
       "3      chennai           hosur               yes               Yes   \n",
       "\n",
       "  Followup_status AltNum_status Resume_status Venue_status Call_letter_status  \\\n",
       "0             Yes           Yes           Yes          Yes                Yes   \n",
       "1             Yes           Yes           Yes          Yes                Yes   \n",
       "2             NaN           NaN           NaN          NaN                NaN   \n",
       "3              No           Yes            No          Yes                Yes   \n",
       "\n",
       "   Ex_attend Obs_attend Matital_status    Skill  \n",
       "0        Yes         No         Single  Routine  \n",
       "1        Yes         No         Single  Routine  \n",
       "2  Uncertain         No         Single  Routine  \n",
       "3  Uncertain         No         Single  Routine  "
      ]
     },
     "execution_count": 419,
     "metadata": {},
     "output_type": "execute_result"
    }
   ],
   "source": [
    "df1.head(4)"
   ]
  },
  {
   "cell_type": "code",
   "execution_count": null,
   "id": "c1ffa52c",
   "metadata": {},
   "outputs": [],
   "source": []
  },
  {
   "cell_type": "markdown",
   "id": "5611f1f8",
   "metadata": {},
   "source": [
    "### Column 13.\"Unscd_meet_status\""
   ]
  },
  {
   "cell_type": "code",
   "execution_count": 420,
   "id": "0e11a38b",
   "metadata": {},
   "outputs": [
    {
     "data": {
      "text/plain": [
       "(Yes         737\n",
       " Na           11\n",
       " yes           4\n",
       " No            2\n",
       " cant Say      1\n",
       " Not sure      1\n",
       " Name: Unscd_meet_status, dtype: int64,\n",
       " 756)"
      ]
     },
     "execution_count": 420,
     "metadata": {},
     "output_type": "execute_result"
    }
   ],
   "source": [
    "df1[\"Unscd_meet_status\"].value_counts(),df1[\"Unscd_meet_status\"].value_counts().sum()"
   ]
  },
  {
   "cell_type": "code",
   "execution_count": 421,
   "id": "7e12a8f3",
   "metadata": {},
   "outputs": [],
   "source": [
    "#Merging \"Unscd_meet_status\" values\n",
    "def rename_Unscd_meet_status(data):\n",
    "    if pd.isnull(data):\n",
    "        return np.nan\n",
    "    value=data.rstrip().lower()\n",
    "    if value == 'unsure' or value == 'not sure' or value == 'cant say' or value == 'nan' or value == 'na':\n",
    "        return 'no'\n",
    "    else:\n",
    "        return 'yes'\n",
    "\n",
    "df1.Unscd_meet_status=df1.Unscd_meet_status.apply(rename_Unscd_meet_status)"
   ]
  },
  {
   "cell_type": "code",
   "execution_count": 422,
   "id": "c08a137b",
   "metadata": {},
   "outputs": [
    {
     "data": {
      "text/plain": [
       "(yes    743\n",
       " no      13\n",
       " Name: Unscd_meet_status, dtype: int64,\n",
       " 756)"
      ]
     },
     "execution_count": 422,
     "metadata": {},
     "output_type": "execute_result"
    }
   ],
   "source": [
    "df1[\"Unscd_meet_status\"].value_counts(),df1[\"Unscd_meet_status\"].value_counts().sum()"
   ]
  },
  {
   "cell_type": "code",
   "execution_count": 423,
   "id": "8548e8f4",
   "metadata": {},
   "outputs": [
    {
     "data": {
      "text/plain": [
       "184"
      ]
     },
     "execution_count": 423,
     "metadata": {},
     "output_type": "execute_result"
    }
   ],
   "source": [
    "df1[\"Unscd_meet_status\"].isna().sum()"
   ]
  },
  {
   "cell_type": "code",
   "execution_count": 424,
   "id": "2ef55dbf",
   "metadata": {},
   "outputs": [],
   "source": [
    "#Consider missing values as 'no'\n",
    "df1[\"Unscd_meet_status\"] = df1[\"Unscd_meet_status\"].fillna(value='no')"
   ]
  },
  {
   "cell_type": "code",
   "execution_count": 425,
   "id": "b49c75bd",
   "metadata": {},
   "outputs": [
    {
     "data": {
      "text/plain": [
       "(yes    743\n",
       " no     197\n",
       " Name: Unscd_meet_status, dtype: int64,\n",
       " 940)"
      ]
     },
     "execution_count": 425,
     "metadata": {},
     "output_type": "execute_result"
    }
   ],
   "source": [
    "df1[\"Unscd_meet_status\"].value_counts(),df1[\"Unscd_meet_status\"].value_counts().sum()"
   ]
  },
  {
   "cell_type": "code",
   "execution_count": 426,
   "id": "9465f6d3",
   "metadata": {},
   "outputs": [
    {
     "data": {
      "text/plain": [
       "0"
      ]
     },
     "execution_count": 426,
     "metadata": {},
     "output_type": "execute_result"
    }
   ],
   "source": [
    "df1[\"Unscd_meet_status\"].isna().sum()"
   ]
  },
  {
   "cell_type": "code",
   "execution_count": null,
   "id": "790635a9",
   "metadata": {},
   "outputs": [],
   "source": []
  },
  {
   "cell_type": "markdown",
   "id": "4b9f1772",
   "metadata": {},
   "source": [
    "### Column 14.\"AltNum_status\""
   ]
  },
  {
   "cell_type": "code",
   "execution_count": 427,
   "id": "ead405a5",
   "metadata": {},
   "outputs": [
    {
     "data": {
      "text/plain": [
       "(Yes                          723\n",
       " No                            20\n",
       " Na                            10\n",
       " No I have only thi number      2\n",
       " na                             1\n",
       " Name: AltNum_status, dtype: int64,\n",
       " 756)"
      ]
     },
     "execution_count": 427,
     "metadata": {},
     "output_type": "execute_result"
    }
   ],
   "source": [
    "df1[\"AltNum_status\"].value_counts(),df1[\"AltNum_status\"].value_counts().sum()"
   ]
  },
  {
   "cell_type": "code",
   "execution_count": 428,
   "id": "348a8669",
   "metadata": {},
   "outputs": [
    {
     "data": {
      "text/plain": [
       "184"
      ]
     },
     "execution_count": 428,
     "metadata": {},
     "output_type": "execute_result"
    }
   ],
   "source": [
    "df1[\"AltNum_status\"].isna().sum()"
   ]
  },
  {
   "cell_type": "code",
   "execution_count": 429,
   "id": "eef80a1b",
   "metadata": {},
   "outputs": [],
   "source": [
    "#Merging \"AltNum_status\" values\n",
    "def rename_AltNum_status(data):\n",
    "    if pd.isnull(data):\n",
    "        return np.nan\n",
    "    value=data.rstrip().lower()\n",
    "    if value == 'no i have only this number' or value == 'na':\n",
    "        return 'no'\n",
    "    else:\n",
    "        return 'yes'\n",
    "\n",
    "df1.AltNum_status=df1.AltNum_status.apply(rename_AltNum_status)"
   ]
  },
  {
   "cell_type": "code",
   "execution_count": 430,
   "id": "37005ab0",
   "metadata": {},
   "outputs": [],
   "source": [
    "#Consider missing values as 'no'\n",
    "df1[\"AltNum_status\"]=df1[\"AltNum_status\"].fillna(value='no')"
   ]
  },
  {
   "cell_type": "code",
   "execution_count": 431,
   "id": "d8988a16",
   "metadata": {},
   "outputs": [
    {
     "data": {
      "text/plain": [
       "(yes    745\n",
       " no     195\n",
       " Name: AltNum_status, dtype: int64,\n",
       " 940)"
      ]
     },
     "execution_count": 431,
     "metadata": {},
     "output_type": "execute_result"
    }
   ],
   "source": [
    "df1[\"AltNum_status\"].value_counts(),df1[\"AltNum_status\"].value_counts().sum()"
   ]
  },
  {
   "cell_type": "code",
   "execution_count": 432,
   "id": "0a731078",
   "metadata": {},
   "outputs": [
    {
     "data": {
      "text/plain": [
       "0"
      ]
     },
     "execution_count": 432,
     "metadata": {},
     "output_type": "execute_result"
    }
   ],
   "source": [
    "df1[\"AltNum_status\"].isna().sum()"
   ]
  },
  {
   "cell_type": "code",
   "execution_count": null,
   "id": "923e06d8",
   "metadata": {},
   "outputs": [],
   "source": []
  },
  {
   "cell_type": "markdown",
   "id": "46eb8df0",
   "metadata": {},
   "source": [
    "### Column 15.\"Resume_status\""
   ]
  },
  {
   "cell_type": "code",
   "execution_count": 433,
   "id": "f3fe7d2a",
   "metadata": {},
   "outputs": [
    {
     "data": {
      "text/plain": [
       "(Yes                      730\n",
       " No                        10\n",
       " Na                        10\n",
       " Not yet                    2\n",
       " na                         1\n",
       " No- will take it soon      1\n",
       " Not Yet                    1\n",
       " Name: Resume_status, dtype: int64,\n",
       " 755)"
      ]
     },
     "execution_count": 433,
     "metadata": {},
     "output_type": "execute_result"
    }
   ],
   "source": [
    "df1[\"Resume_status\"].value_counts(),df1[\"Resume_status\"].value_counts().sum()"
   ]
  },
  {
   "cell_type": "code",
   "execution_count": 434,
   "id": "9f8cdd4f",
   "metadata": {},
   "outputs": [
    {
     "data": {
      "text/plain": [
       "185"
      ]
     },
     "execution_count": 434,
     "metadata": {},
     "output_type": "execute_result"
    }
   ],
   "source": [
    "df1[\"Resume_status\"].isna().sum()"
   ]
  },
  {
   "cell_type": "code",
   "execution_count": 435,
   "id": "60d53020",
   "metadata": {},
   "outputs": [],
   "source": [
    "#Merging \"Resume_status\" values\n",
    "def rename_Resume_status(data):\n",
    "    if pd.isnull(data):\n",
    "        return np.nan\n",
    "    value=data.rstrip().lower()\n",
    "    if value == 'no- will take it soon' or value == 'not yet' or value == 'na' or value=='no':\n",
    "        return 'no'\n",
    "    elif value == 'yes':\n",
    "        return 'yes'\n",
    "    \n",
    "df1.Resume_status=df1.Resume_status.apply(rename_Resume_status)"
   ]
  },
  {
   "cell_type": "code",
   "execution_count": 436,
   "id": "1e6ad5ca",
   "metadata": {},
   "outputs": [],
   "source": [
    "#Consider missing values as 'no'\n",
    "df1[\"Resume_status\"]=df1[\"Resume_status\"].fillna(value='no')"
   ]
  },
  {
   "cell_type": "code",
   "execution_count": 437,
   "id": "a62e9806",
   "metadata": {},
   "outputs": [
    {
     "data": {
      "text/plain": [
       "(yes    730\n",
       " no     210\n",
       " Name: Resume_status, dtype: int64,\n",
       " 940)"
      ]
     },
     "execution_count": 437,
     "metadata": {},
     "output_type": "execute_result"
    }
   ],
   "source": [
    "df1[\"Resume_status\"].value_counts(),df1[\"Resume_status\"].value_counts().sum()"
   ]
  },
  {
   "cell_type": "code",
   "execution_count": 438,
   "id": "0fa27c64",
   "metadata": {},
   "outputs": [
    {
     "data": {
      "text/plain": [
       "0"
      ]
     },
     "execution_count": 438,
     "metadata": {},
     "output_type": "execute_result"
    }
   ],
   "source": [
    "df1[\"Resume_status\"].isna().sum()"
   ]
  },
  {
   "cell_type": "code",
   "execution_count": null,
   "id": "106c7453",
   "metadata": {},
   "outputs": [],
   "source": []
  },
  {
   "cell_type": "markdown",
   "id": "cc785b28",
   "metadata": {},
   "source": [
    "### Column 16.\"Venue_status\""
   ]
  },
  {
   "cell_type": "code",
   "execution_count": 439,
   "id": "d8e72620",
   "metadata": {},
   "outputs": [
    {
     "data": {
      "text/plain": [
       "(Yes                    735\n",
       " Na                      10\n",
       " No                       7\n",
       " No- I need to check      2\n",
       " na                       1\n",
       " Name: Venue_status, dtype: int64,\n",
       " 755)"
      ]
     },
     "execution_count": 439,
     "metadata": {},
     "output_type": "execute_result"
    }
   ],
   "source": [
    "df1[\"Venue_status\"].value_counts(),df1[\"Venue_status\"].value_counts().sum()"
   ]
  },
  {
   "cell_type": "code",
   "execution_count": 440,
   "id": "8b8ae3ac",
   "metadata": {},
   "outputs": [
    {
     "data": {
      "text/plain": [
       "185"
      ]
     },
     "execution_count": 440,
     "metadata": {},
     "output_type": "execute_result"
    }
   ],
   "source": [
    "df1[\"Venue_status\"].isna().sum()"
   ]
  },
  {
   "cell_type": "code",
   "execution_count": 441,
   "id": "289d5cda",
   "metadata": {},
   "outputs": [],
   "source": [
    "#Merging \"Venue_status\" values\n",
    "def rename_Venue_status(data):\n",
    "    if pd.isnull(data):\n",
    "        return np.nan\n",
    "    value=data.rstrip().lower()\n",
    "    if value == 'no- i need to check' or value == 'not yet' or value == 'na' or value=='no':\n",
    "        return 'no'\n",
    "    elif value == 'yes':\n",
    "        return 'yes'\n",
    "    \n",
    "df1.Venue_status=df1.Venue_status.apply(rename_Venue_status)"
   ]
  },
  {
   "cell_type": "code",
   "execution_count": 442,
   "id": "7be8dac0",
   "metadata": {},
   "outputs": [],
   "source": [
    "#Consider missing values as 'no'\n",
    "df1[\"Venue_status\"] = df1[\"Venue_status\"].fillna(value='no')"
   ]
  },
  {
   "cell_type": "code",
   "execution_count": 443,
   "id": "3ef3a573",
   "metadata": {},
   "outputs": [
    {
     "data": {
      "text/plain": [
       "(yes    735\n",
       " no     205\n",
       " Name: Venue_status, dtype: int64,\n",
       " 940)"
      ]
     },
     "execution_count": 443,
     "metadata": {},
     "output_type": "execute_result"
    }
   ],
   "source": [
    "df1[\"Venue_status\"].value_counts(),df1[\"Venue_status\"].value_counts().sum()"
   ]
  },
  {
   "cell_type": "code",
   "execution_count": 444,
   "id": "14ef8ca0",
   "metadata": {},
   "outputs": [
    {
     "data": {
      "text/plain": [
       "0"
      ]
     },
     "execution_count": 444,
     "metadata": {},
     "output_type": "execute_result"
    }
   ],
   "source": [
    "df1[\"Venue_status\"].isna().sum()"
   ]
  },
  {
   "cell_type": "code",
   "execution_count": null,
   "id": "5c0b4fa2",
   "metadata": {},
   "outputs": [],
   "source": []
  },
  {
   "cell_type": "markdown",
   "id": "6959d1cf",
   "metadata": {},
   "source": [
    "### Column 17.\"Followup_status\""
   ]
  },
  {
   "cell_type": "code",
   "execution_count": 445,
   "id": "20afefa6",
   "metadata": {},
   "outputs": [
    {
     "data": {
      "text/plain": [
       "(Yes    736\n",
       " Na      11\n",
       " No       7\n",
       " yes      2\n",
       " Name: Followup_status, dtype: int64,\n",
       " 756)"
      ]
     },
     "execution_count": 445,
     "metadata": {},
     "output_type": "execute_result"
    }
   ],
   "source": [
    "df1[\"Followup_status\"].value_counts(),df1[\"Followup_status\"].value_counts().sum()"
   ]
  },
  {
   "cell_type": "code",
   "execution_count": 446,
   "id": "2d9df8d6",
   "metadata": {},
   "outputs": [
    {
     "data": {
      "text/plain": [
       "184"
      ]
     },
     "execution_count": 446,
     "metadata": {},
     "output_type": "execute_result"
    }
   ],
   "source": [
    "df1[\"Followup_status\"].isna().sum()"
   ]
  },
  {
   "cell_type": "code",
   "execution_count": 447,
   "id": "648b57e5",
   "metadata": {},
   "outputs": [],
   "source": [
    "#Merging \"Followup_status\" values\n",
    "def rename_Followup_status(data):\n",
    "    if pd.isnull(data):\n",
    "        return np.nan\n",
    "    value=data.rstrip().lower()\n",
    "    if value == 'no dont' or value == 'no' or value == 'na':\n",
    "        return 'no'\n",
    "    elif value == 'yes':\n",
    "        return 'yes'\n",
    "    \n",
    "df1.Followup_status=df1.Followup_status.apply(rename_Followup_status)"
   ]
  },
  {
   "cell_type": "code",
   "execution_count": 448,
   "id": "94313c4e",
   "metadata": {},
   "outputs": [],
   "source": [
    "#Consider missing values as 'no'\n",
    "df1[\"Followup_status\"] = df1[\"Followup_status\"].fillna(value='no')"
   ]
  },
  {
   "cell_type": "code",
   "execution_count": 449,
   "id": "69146522",
   "metadata": {},
   "outputs": [
    {
     "data": {
      "text/plain": [
       "(yes    738\n",
       " no     202\n",
       " Name: Followup_status, dtype: int64,\n",
       " 940)"
      ]
     },
     "execution_count": 449,
     "metadata": {},
     "output_type": "execute_result"
    }
   ],
   "source": [
    "df1[\"Followup_status\"].value_counts(),df1[\"Followup_status\"].value_counts().sum()"
   ]
  },
  {
   "cell_type": "code",
   "execution_count": 450,
   "id": "f8e75259",
   "metadata": {},
   "outputs": [
    {
     "data": {
      "text/plain": [
       "0"
      ]
     },
     "execution_count": 450,
     "metadata": {},
     "output_type": "execute_result"
    }
   ],
   "source": [
    "df1[\"Followup_status\"].isna().sum()"
   ]
  },
  {
   "cell_type": "code",
   "execution_count": null,
   "id": "d82df103",
   "metadata": {},
   "outputs": [],
   "source": []
  },
  {
   "cell_type": "markdown",
   "id": "6937d5ba",
   "metadata": {},
   "source": [
    "### Column 18.\"Call_letter_status\""
   ]
  },
  {
   "cell_type": "code",
   "execution_count": 451,
   "id": "84dec97d",
   "metadata": {},
   "outputs": [
    {
     "data": {
      "text/plain": [
       "(Yes               723\n",
       " No                 10\n",
       " Na                 10\n",
       " Not Sure            4\n",
       " Need To Check       3\n",
       " na                  1\n",
       " no                  1\n",
       " Not yet             1\n",
       " Yet to Check        1\n",
       " Havent Checked      1\n",
       " Not sure            1\n",
       " Name: Call_letter_status, dtype: int64,\n",
       " 756)"
      ]
     },
     "execution_count": 451,
     "metadata": {},
     "output_type": "execute_result"
    }
   ],
   "source": [
    "df1[\"Call_letter_status\"].value_counts(),df1[\"Call_letter_status\"].value_counts().sum()"
   ]
  },
  {
   "cell_type": "code",
   "execution_count": 452,
   "id": "9b0adcd5",
   "metadata": {},
   "outputs": [
    {
     "data": {
      "text/plain": [
       "184"
      ]
     },
     "execution_count": 452,
     "metadata": {},
     "output_type": "execute_result"
    }
   ],
   "source": [
    "df1[\"Call_letter_status\"].isna().sum()"
   ]
  },
  {
   "cell_type": "code",
   "execution_count": 453,
   "id": "13f35a66",
   "metadata": {},
   "outputs": [],
   "source": [
    "#Merging \"Call_letter_status\" values\n",
    "def rename_Call_letter_status(data):\n",
    "    if pd.isnull(data):\n",
    "        return np.nan\n",
    "    value=data.rstrip().lower()\n",
    "    if value == 'not sure' or value == 'no' or value == 'need to check' or value == \"not yet\" or value == \"yet to check\" or value == \"havent checked\" or value == \"na\":\n",
    "        return 'no'\n",
    "    elif value == 'yes':\n",
    "        return 'yes'\n",
    "    \n",
    "df1.Call_letter_status=df1.Call_letter_status.apply(rename_Call_letter_status)"
   ]
  },
  {
   "cell_type": "code",
   "execution_count": 454,
   "id": "7aff443c",
   "metadata": {},
   "outputs": [],
   "source": [
    "#Consider missing values as 'no'\n",
    "df1[\"Call_letter_status\"] = df1[\"Call_letter_status\"].fillna(value='no')"
   ]
  },
  {
   "cell_type": "code",
   "execution_count": 455,
   "id": "3bccdda2",
   "metadata": {},
   "outputs": [
    {
     "data": {
      "text/plain": [
       "(yes    723\n",
       " no     217\n",
       " Name: Call_letter_status, dtype: int64,\n",
       " 940)"
      ]
     },
     "execution_count": 455,
     "metadata": {},
     "output_type": "execute_result"
    }
   ],
   "source": [
    "df1[\"Call_letter_status\"].value_counts(),df1[\"Call_letter_status\"].value_counts().sum()"
   ]
  },
  {
   "cell_type": "code",
   "execution_count": 456,
   "id": "93d34dd4",
   "metadata": {},
   "outputs": [
    {
     "data": {
      "text/plain": [
       "0"
      ]
     },
     "execution_count": 456,
     "metadata": {},
     "output_type": "execute_result"
    }
   ],
   "source": [
    "df1[\"Call_letter_status\"].isna().sum()"
   ]
  },
  {
   "cell_type": "code",
   "execution_count": null,
   "id": "25884e30",
   "metadata": {},
   "outputs": [],
   "source": []
  },
  {
   "cell_type": "code",
   "execution_count": null,
   "id": "059995ae",
   "metadata": {},
   "outputs": [],
   "source": []
  },
  {
   "cell_type": "markdown",
   "id": "3ed1362b",
   "metadata": {},
   "source": [
    "### Column 19.\"Ex_attend\""
   ]
  },
  {
   "cell_type": "code",
   "execution_count": 457,
   "id": "e58b1ec5",
   "metadata": {},
   "outputs": [
    {
     "data": {
      "text/plain": [
       "(Yes          696\n",
       " Uncertain    183\n",
       " No            35\n",
       " NO            26\n",
       " Name: Ex_attend, dtype: int64,\n",
       " 940)"
      ]
     },
     "execution_count": 457,
     "metadata": {},
     "output_type": "execute_result"
    }
   ],
   "source": [
    "df1[\"Ex_attend\"].value_counts(),df1[\"Ex_attend\"].value_counts().sum()"
   ]
  },
  {
   "cell_type": "code",
   "execution_count": 458,
   "id": "c21081e4",
   "metadata": {},
   "outputs": [],
   "source": [
    "df1=df1[~(df1[\"Ex_attend\"]== '11:00 AM')]\n",
    "df1=df1[~(df1[\"Ex_attend\"]== '10.30 Am')]"
   ]
  },
  {
   "cell_type": "code",
   "execution_count": 459,
   "id": "261d7726",
   "metadata": {},
   "outputs": [
    {
     "data": {
      "text/plain": [
       "(Yes          696\n",
       " Uncertain    183\n",
       " No            35\n",
       " NO            26\n",
       " Name: Ex_attend, dtype: int64,\n",
       " 940)"
      ]
     },
     "execution_count": 459,
     "metadata": {},
     "output_type": "execute_result"
    }
   ],
   "source": [
    "df1[\"Ex_attend\"].value_counts(),df1[\"Ex_attend\"].value_counts().sum()"
   ]
  },
  {
   "cell_type": "code",
   "execution_count": 460,
   "id": "4de0d8c9",
   "metadata": {},
   "outputs": [
    {
     "data": {
      "text/plain": [
       "0"
      ]
     },
     "execution_count": 460,
     "metadata": {},
     "output_type": "execute_result"
    }
   ],
   "source": [
    "df1[\"Ex_attend\"].isna().sum()"
   ]
  },
  {
   "cell_type": "code",
   "execution_count": 461,
   "id": "ef899983",
   "metadata": {},
   "outputs": [
    {
     "data": {
      "text/plain": [
       "(183, 19)"
      ]
     },
     "execution_count": 461,
     "metadata": {},
     "output_type": "execute_result"
    }
   ],
   "source": [
    "df1[df1[\"Ex_attend\"]==\"Uncertain\"].shape"
   ]
  },
  {
   "cell_type": "code",
   "execution_count": 462,
   "id": "b50f936b",
   "metadata": {},
   "outputs": [],
   "source": [
    "#Merging \"Ex_attend\" values\n",
    "def rename_Ex_attend(data):\n",
    "    if pd.isnull(data):\n",
    "        return np.nan\n",
    "    value=data.rstrip().lower()\n",
    "    if value =='no' or value == 'uncertain':\n",
    "        return value\n",
    "    else:\n",
    "        return 'yes'\n",
    "    \n",
    "df1.Ex_attend=df1.Ex_attend.apply(rename_Ex_attend)"
   ]
  },
  {
   "cell_type": "code",
   "execution_count": 463,
   "id": "5765a88d",
   "metadata": {},
   "outputs": [
    {
     "data": {
      "text/plain": [
       "(yes          696\n",
       " uncertain    183\n",
       " no            61\n",
       " Name: Ex_attend, dtype: int64,\n",
       " 940)"
      ]
     },
     "execution_count": 463,
     "metadata": {},
     "output_type": "execute_result"
    }
   ],
   "source": [
    "df1[\"Ex_attend\"].value_counts(),df1[\"Ex_attend\"].value_counts().sum()"
   ]
  },
  {
   "cell_type": "code",
   "execution_count": 464,
   "id": "be63dfba",
   "metadata": {},
   "outputs": [
    {
     "data": {
      "text/plain": [
       "0"
      ]
     },
     "execution_count": 464,
     "metadata": {},
     "output_type": "execute_result"
    }
   ],
   "source": [
    "df1[\"Ex_attend\"].isna().sum()"
   ]
  },
  {
   "cell_type": "code",
   "execution_count": 465,
   "id": "e1dbd990",
   "metadata": {},
   "outputs": [],
   "source": [
    "#Consider missing values as 'no'\n",
    "df1[\"Ex_attend\"]=df1[\"Ex_attend\"].fillna(value=\"no\")"
   ]
  },
  {
   "cell_type": "code",
   "execution_count": 466,
   "id": "9ad8698c",
   "metadata": {},
   "outputs": [
    {
     "data": {
      "text/plain": [
       "0"
      ]
     },
     "execution_count": 466,
     "metadata": {},
     "output_type": "execute_result"
    }
   ],
   "source": [
    "df1[\"Ex_attend\"].isna().sum()"
   ]
  },
  {
   "cell_type": "code",
   "execution_count": 467,
   "id": "85d87083",
   "metadata": {},
   "outputs": [
    {
     "data": {
      "text/plain": [
       "(yes          696\n",
       " uncertain    183\n",
       " no            61\n",
       " Name: Ex_attend, dtype: int64,\n",
       " 940)"
      ]
     },
     "execution_count": 467,
     "metadata": {},
     "output_type": "execute_result"
    }
   ],
   "source": [
    "df1[\"Ex_attend\"].value_counts(),df1[\"Ex_attend\"].value_counts().sum()"
   ]
  },
  {
   "cell_type": "code",
   "execution_count": null,
   "id": "ec2f8824",
   "metadata": {},
   "outputs": [],
   "source": []
  },
  {
   "cell_type": "code",
   "execution_count": null,
   "id": "641122e1",
   "metadata": {},
   "outputs": [],
   "source": []
  },
  {
   "cell_type": "markdown",
   "id": "349238c3",
   "metadata": {},
   "source": [
    "### Column 20.\"Obs_attend\""
   ]
  },
  {
   "cell_type": "code",
   "execution_count": 468,
   "id": "eb6ee3e6",
   "metadata": {},
   "outputs": [
    {
     "data": {
      "text/plain": [
       "(Yes     520\n",
       " No      314\n",
       " yes      66\n",
       " NO       26\n",
       " no        6\n",
       " No        6\n",
       " yes       1\n",
       " no        1\n",
       " Name: Obs_attend, dtype: int64,\n",
       " 940)"
      ]
     },
     "execution_count": 468,
     "metadata": {},
     "output_type": "execute_result"
    }
   ],
   "source": [
    "df1[\"Obs_attend\"].value_counts(),df1[\"Obs_attend\"].value_counts().sum()"
   ]
  },
  {
   "cell_type": "code",
   "execution_count": 469,
   "id": "8be30092",
   "metadata": {},
   "outputs": [
    {
     "data": {
      "text/plain": [
       "0"
      ]
     },
     "execution_count": 469,
     "metadata": {},
     "output_type": "execute_result"
    }
   ],
   "source": [
    "df1[\"Obs_attend\"].isna().sum()#No missing values"
   ]
  },
  {
   "cell_type": "code",
   "execution_count": 470,
   "id": "4ba09bd1",
   "metadata": {},
   "outputs": [],
   "source": [
    "#Merging \"Obs_attend\" values\n",
    "def rename_Obs_attend(data):\n",
    "    if pd.isnull(data):\n",
    "        return np.nan\n",
    "    value=data.rstrip().lower()\n",
    "    if value =='no':\n",
    "        return value\n",
    "    else:\n",
    "        return 'yes'\n",
    "    \n",
    "df1.Obs_attend=df1.Obs_attend.apply(rename_Obs_attend)"
   ]
  },
  {
   "cell_type": "code",
   "execution_count": 471,
   "id": "16b7b0e9",
   "metadata": {},
   "outputs": [
    {
     "data": {
      "text/plain": [
       "(yes    587\n",
       " no     353\n",
       " Name: Obs_attend, dtype: int64,\n",
       " 940)"
      ]
     },
     "execution_count": 471,
     "metadata": {},
     "output_type": "execute_result"
    }
   ],
   "source": [
    "df1[\"Obs_attend\"].value_counts(),df1[\"Obs_attend\"].value_counts().sum()"
   ]
  },
  {
   "cell_type": "code",
   "execution_count": null,
   "id": "1f1d7406",
   "metadata": {},
   "outputs": [],
   "source": []
  },
  {
   "cell_type": "code",
   "execution_count": null,
   "id": "b76b2500",
   "metadata": {},
   "outputs": [],
   "source": []
  },
  {
   "cell_type": "markdown",
   "id": "d76aa153",
   "metadata": {},
   "source": [
    "### Column 21.\"Matital_status\""
   ]
  },
  {
   "cell_type": "code",
   "execution_count": 472,
   "id": "ee1aa5fa",
   "metadata": {},
   "outputs": [
    {
     "data": {
      "text/plain": [
       "(Single     606\n",
       " Married    334\n",
       " Name: Matital_status, dtype: int64,\n",
       " 940)"
      ]
     },
     "execution_count": 472,
     "metadata": {},
     "output_type": "execute_result"
    }
   ],
   "source": [
    "df1[\"Matital_status\"].value_counts(),df1[\"Matital_status\"].value_counts().sum()"
   ]
  },
  {
   "cell_type": "code",
   "execution_count": 473,
   "id": "c9f4dd81",
   "metadata": {},
   "outputs": [
    {
     "data": {
      "text/plain": [
       "0"
      ]
     },
     "execution_count": 473,
     "metadata": {},
     "output_type": "execute_result"
    }
   ],
   "source": [
    "df1[\"Matital_status\"].isna().sum() #NO misssing values"
   ]
  },
  {
   "cell_type": "code",
   "execution_count": null,
   "id": "d71501d9",
   "metadata": {},
   "outputs": [],
   "source": []
  },
  {
   "cell_type": "code",
   "execution_count": null,
   "id": "9285e118",
   "metadata": {},
   "outputs": [],
   "source": []
  },
  {
   "cell_type": "code",
   "execution_count": null,
   "id": "6330231d",
   "metadata": {},
   "outputs": [],
   "source": []
  },
  {
   "cell_type": "code",
   "execution_count": 474,
   "id": "13f64724",
   "metadata": {},
   "outputs": [
    {
     "data": {
      "text/plain": [
       "Client_name          0.00000\n",
       "Industry             0.00000\n",
       "Closed_pos           0.00000\n",
       "Interview_type       0.00000\n",
       "Gender               0.00000\n",
       "Curr_loc             0.00000\n",
       "Curr_job_loc         0.00000\n",
       "Interview_venue      0.00000\n",
       "Permission_status    0.00000\n",
       "Unscd_meet_status    0.00000\n",
       "Followup_status      0.00000\n",
       "AltNum_status        0.00000\n",
       "Resume_status        0.00000\n",
       "Venue_status         0.00000\n",
       "Call_letter_status   0.00000\n",
       "Ex_attend            0.00000\n",
       "Obs_attend           0.00000\n",
       "Matital_status       0.00000\n",
       "Skill                0.00000\n",
       "dtype: float64"
      ]
     },
     "execution_count": 474,
     "metadata": {},
     "output_type": "execute_result"
    }
   ],
   "source": [
    "df1.isna().sum()/df1.shape[0]"
   ]
  },
  {
   "cell_type": "code",
   "execution_count": 475,
   "id": "9bb5fcc0",
   "metadata": {},
   "outputs": [
    {
     "name": "stdout",
     "output_type": "stream",
     "text": [
      "Unique values:  Client_name \n",
      " ['Hospira' 'Aon Hewitt' 'UST' 'Standard Chartered Bank' 'ANZ'\n",
      " 'Standard Chartered Bank Chennai' 'Aon hewitt Gurgaon' 'Astrazeneca'\n",
      " 'Flextronics' 'Williams Lea' 'Hewitt']\n",
      "Unique values:  Industry \n",
      " ['Pharmaceuticals' 'IT' 'BFSI' 'Electronics']\n",
      "Unique values:  Closed_pos \n",
      " ['Non-Routine' 'Routine']\n",
      "Unique values:  Interview_type \n",
      " ['scheduled_walkin' 'scheduled' 'walkin']\n",
      "Unique values:  Gender \n",
      " ['Male' 'Female']\n",
      "Unique values:  Curr_loc \n",
      " ['Chennai' 'gurgaon' 'bangalore' 'delhi' 'noida']\n",
      "Unique values:  Curr_job_loc \n",
      " ['hosur' 'bangalore' 'chennai' 'gurgaon' 'noida']\n",
      "Unique values:  Interview_venue \n",
      " ['hosur' 'gurgaon' 'bangalore' 'chennai' 'noida']\n",
      "Unique values:  Permission_status \n",
      " ['yes' 'no']\n",
      "Unique values:  Unscd_meet_status \n",
      " ['yes' 'no']\n",
      "Unique values:  Followup_status \n",
      " ['yes' 'no']\n",
      "Unique values:  AltNum_status \n",
      " ['yes' 'no']\n",
      "Unique values:  Resume_status \n",
      " ['yes' 'no']\n",
      "Unique values:  Venue_status \n",
      " ['yes' 'no']\n",
      "Unique values:  Call_letter_status \n",
      " ['yes' 'no']\n",
      "Unique values:  Ex_attend \n",
      " ['yes' 'uncertain' 'no']\n",
      "Unique values:  Obs_attend \n",
      " ['no' 'yes']\n",
      "Unique values:  Matital_status \n",
      " ['Single' 'Married']\n",
      "Unique values:  Skill \n",
      " ['Routine' 'Oracle' 'Operations' 'Fresher' 'KYC' 'Testing' 'Java']\n"
     ]
    }
   ],
   "source": [
    "for col in df1.columns:\n",
    "    print(\"Unique values: \",col,\"\\n\",df1[col].unique())"
   ]
  },
  {
   "cell_type": "code",
   "execution_count": 476,
   "id": "d68dcd29",
   "metadata": {},
   "outputs": [
    {
     "name": "stdout",
     "output_type": "stream",
     "text": [
      "Client_name  :  11\n",
      "Industry  :  4\n",
      "Closed_pos  :  2\n",
      "Interview_type  :  3\n",
      "Gender  :  2\n",
      "Curr_loc  :  5\n",
      "Curr_job_loc  :  5\n",
      "Interview_venue  :  5\n",
      "Permission_status  :  2\n",
      "Unscd_meet_status  :  2\n",
      "Followup_status  :  2\n",
      "AltNum_status  :  2\n",
      "Resume_status  :  2\n",
      "Venue_status  :  2\n",
      "Call_letter_status  :  2\n",
      "Ex_attend  :  3\n",
      "Obs_attend  :  2\n",
      "Matital_status  :  2\n",
      "Skill  :  7\n"
     ]
    }
   ],
   "source": [
    "for col in df1.columns:\n",
    "    print(col,\" : \",df1[col].nunique())"
   ]
  },
  {
   "cell_type": "code",
   "execution_count": null,
   "id": "93d81afa",
   "metadata": {},
   "outputs": [],
   "source": []
  },
  {
   "cell_type": "code",
   "execution_count": null,
   "id": "02f9da21",
   "metadata": {},
   "outputs": [],
   "source": []
  },
  {
   "cell_type": "markdown",
   "id": "ddc8ba90",
   "metadata": {},
   "source": [
    "# Saving the cleaned data as new .csv file"
   ]
  },
  {
   "cell_type": "code",
   "execution_count": 477,
   "id": "1e268d98",
   "metadata": {},
   "outputs": [],
   "source": [
    "df1.to_csv('F:\\Programming\\Machine Learning\\ClassWorks\\project\\interview(Cleaned).csv', index=False)"
   ]
  },
  {
   "cell_type": "code",
   "execution_count": null,
   "id": "e9808d36",
   "metadata": {},
   "outputs": [],
   "source": []
  },
  {
   "cell_type": "code",
   "execution_count": null,
   "id": "aa2fb10d",
   "metadata": {},
   "outputs": [],
   "source": []
  },
  {
   "cell_type": "markdown",
   "id": "764f5286",
   "metadata": {},
   "source": [
    "# Preparing Machine Learning Model"
   ]
  },
  {
   "cell_type": "code",
   "execution_count": null,
   "id": "cc498e74",
   "metadata": {},
   "outputs": [],
   "source": []
  },
  {
   "cell_type": "markdown",
   "id": "ca6618ab",
   "metadata": {},
   "source": [
    "# Model 1: Logistic Regression"
   ]
  },
  {
   "cell_type": "code",
   "execution_count": 332,
   "id": "24c1a875",
   "metadata": {},
   "outputs": [],
   "source": [
    "df=pd.read_csv('F:\\Programming\\Machine Learning\\ClassWorks\\project\\interview(Cleaned).csv')"
   ]
  },
  {
   "cell_type": "code",
   "execution_count": null,
   "id": "1bc77a84",
   "metadata": {},
   "outputs": [],
   "source": []
  },
  {
   "cell_type": "code",
   "execution_count": 333,
   "id": "0967454f",
   "metadata": {},
   "outputs": [
    {
     "data": {
      "text/html": [
       "<div>\n",
       "<style scoped>\n",
       "    .dataframe tbody tr th:only-of-type {\n",
       "        vertical-align: middle;\n",
       "    }\n",
       "\n",
       "    .dataframe tbody tr th {\n",
       "        vertical-align: top;\n",
       "    }\n",
       "\n",
       "    .dataframe thead th {\n",
       "        text-align: right;\n",
       "    }\n",
       "</style>\n",
       "<table border=\"1\" class=\"dataframe\">\n",
       "  <thead>\n",
       "    <tr style=\"text-align: right;\">\n",
       "      <th></th>\n",
       "      <th>Client_name</th>\n",
       "      <th>Industry</th>\n",
       "      <th>Closed_pos</th>\n",
       "      <th>Interview_type</th>\n",
       "      <th>Gender</th>\n",
       "      <th>Curr_loc</th>\n",
       "      <th>Curr_job_loc</th>\n",
       "      <th>Interview_venue</th>\n",
       "      <th>Permission_status</th>\n",
       "      <th>Unscd_meet_status</th>\n",
       "      <th>Followup_status</th>\n",
       "      <th>AltNum_status</th>\n",
       "      <th>Resume_status</th>\n",
       "      <th>Venue_status</th>\n",
       "      <th>Call_letter_status</th>\n",
       "      <th>Ex_attend</th>\n",
       "      <th>Obs_attend</th>\n",
       "      <th>Matital_status</th>\n",
       "      <th>Skill</th>\n",
       "    </tr>\n",
       "  </thead>\n",
       "  <tbody>\n",
       "    <tr>\n",
       "      <th>0</th>\n",
       "      <td>Hospira</td>\n",
       "      <td>Pharmaceuticals</td>\n",
       "      <td>Non-Routine</td>\n",
       "      <td>scheduled_walkin</td>\n",
       "      <td>Male</td>\n",
       "      <td>Chennai</td>\n",
       "      <td>hosur</td>\n",
       "      <td>hosur</td>\n",
       "      <td>yes</td>\n",
       "      <td>yes</td>\n",
       "      <td>yes</td>\n",
       "      <td>yes</td>\n",
       "      <td>yes</td>\n",
       "      <td>yes</td>\n",
       "      <td>yes</td>\n",
       "      <td>yes</td>\n",
       "      <td>no</td>\n",
       "      <td>Single</td>\n",
       "      <td>Routine</td>\n",
       "    </tr>\n",
       "    <tr>\n",
       "      <th>1</th>\n",
       "      <td>Hospira</td>\n",
       "      <td>Pharmaceuticals</td>\n",
       "      <td>Non-Routine</td>\n",
       "      <td>scheduled_walkin</td>\n",
       "      <td>Male</td>\n",
       "      <td>Chennai</td>\n",
       "      <td>bangalore</td>\n",
       "      <td>hosur</td>\n",
       "      <td>yes</td>\n",
       "      <td>yes</td>\n",
       "      <td>yes</td>\n",
       "      <td>yes</td>\n",
       "      <td>yes</td>\n",
       "      <td>yes</td>\n",
       "      <td>yes</td>\n",
       "      <td>yes</td>\n",
       "      <td>no</td>\n",
       "      <td>Single</td>\n",
       "      <td>Routine</td>\n",
       "    </tr>\n",
       "    <tr>\n",
       "      <th>2</th>\n",
       "      <td>Hospira</td>\n",
       "      <td>Pharmaceuticals</td>\n",
       "      <td>Non-Routine</td>\n",
       "      <td>scheduled_walkin</td>\n",
       "      <td>Male</td>\n",
       "      <td>Chennai</td>\n",
       "      <td>chennai</td>\n",
       "      <td>hosur</td>\n",
       "      <td>no</td>\n",
       "      <td>no</td>\n",
       "      <td>no</td>\n",
       "      <td>no</td>\n",
       "      <td>no</td>\n",
       "      <td>no</td>\n",
       "      <td>no</td>\n",
       "      <td>uncertain</td>\n",
       "      <td>no</td>\n",
       "      <td>Single</td>\n",
       "      <td>Routine</td>\n",
       "    </tr>\n",
       "    <tr>\n",
       "      <th>3</th>\n",
       "      <td>Hospira</td>\n",
       "      <td>Pharmaceuticals</td>\n",
       "      <td>Non-Routine</td>\n",
       "      <td>scheduled_walkin</td>\n",
       "      <td>Male</td>\n",
       "      <td>Chennai</td>\n",
       "      <td>chennai</td>\n",
       "      <td>hosur</td>\n",
       "      <td>yes</td>\n",
       "      <td>yes</td>\n",
       "      <td>no</td>\n",
       "      <td>yes</td>\n",
       "      <td>no</td>\n",
       "      <td>yes</td>\n",
       "      <td>yes</td>\n",
       "      <td>uncertain</td>\n",
       "      <td>no</td>\n",
       "      <td>Single</td>\n",
       "      <td>Routine</td>\n",
       "    </tr>\n",
       "    <tr>\n",
       "      <th>4</th>\n",
       "      <td>Hospira</td>\n",
       "      <td>Pharmaceuticals</td>\n",
       "      <td>Non-Routine</td>\n",
       "      <td>scheduled_walkin</td>\n",
       "      <td>Male</td>\n",
       "      <td>Chennai</td>\n",
       "      <td>bangalore</td>\n",
       "      <td>hosur</td>\n",
       "      <td>yes</td>\n",
       "      <td>yes</td>\n",
       "      <td>yes</td>\n",
       "      <td>yes</td>\n",
       "      <td>yes</td>\n",
       "      <td>yes</td>\n",
       "      <td>yes</td>\n",
       "      <td>uncertain</td>\n",
       "      <td>no</td>\n",
       "      <td>Married</td>\n",
       "      <td>Routine</td>\n",
       "    </tr>\n",
       "  </tbody>\n",
       "</table>\n",
       "</div>"
      ],
      "text/plain": [
       "  Client_name         Industry   Closed_pos    Interview_type Gender Curr_loc  \\\n",
       "0     Hospira  Pharmaceuticals  Non-Routine  scheduled_walkin   Male  Chennai   \n",
       "1     Hospira  Pharmaceuticals  Non-Routine  scheduled_walkin   Male  Chennai   \n",
       "2     Hospira  Pharmaceuticals  Non-Routine  scheduled_walkin   Male  Chennai   \n",
       "3     Hospira  Pharmaceuticals  Non-Routine  scheduled_walkin   Male  Chennai   \n",
       "4     Hospira  Pharmaceuticals  Non-Routine  scheduled_walkin   Male  Chennai   \n",
       "\n",
       "  Curr_job_loc Interview_venue Permission_status Unscd_meet_status  \\\n",
       "0        hosur           hosur               yes               yes   \n",
       "1    bangalore           hosur               yes               yes   \n",
       "2      chennai           hosur                no                no   \n",
       "3      chennai           hosur               yes               yes   \n",
       "4    bangalore           hosur               yes               yes   \n",
       "\n",
       "  Followup_status AltNum_status Resume_status Venue_status Call_letter_status  \\\n",
       "0             yes           yes           yes          yes                yes   \n",
       "1             yes           yes           yes          yes                yes   \n",
       "2              no            no            no           no                 no   \n",
       "3              no           yes            no          yes                yes   \n",
       "4             yes           yes           yes          yes                yes   \n",
       "\n",
       "   Ex_attend Obs_attend Matital_status    Skill  \n",
       "0        yes         no         Single  Routine  \n",
       "1        yes         no         Single  Routine  \n",
       "2  uncertain         no         Single  Routine  \n",
       "3  uncertain         no         Single  Routine  \n",
       "4  uncertain         no        Married  Routine  "
      ]
     },
     "execution_count": 333,
     "metadata": {},
     "output_type": "execute_result"
    }
   ],
   "source": [
    "df[:5]"
   ]
  },
  {
   "cell_type": "code",
   "execution_count": 334,
   "id": "30d4520b",
   "metadata": {},
   "outputs": [
    {
     "data": {
      "text/plain": [
       "(940, 19)"
      ]
     },
     "execution_count": 334,
     "metadata": {},
     "output_type": "execute_result"
    }
   ],
   "source": [
    "df.shape"
   ]
  },
  {
   "cell_type": "code",
   "execution_count": 335,
   "id": "7468e8a7",
   "metadata": {},
   "outputs": [],
   "source": [
    "cols=['Client_name', 'Industry', 'Closed_pos', 'Interview_type', 'Gender',\n",
    "       'Curr_loc', 'Curr_job_loc', 'Interview_venue', 'Permission_status',\n",
    "       'Unscd_meet_status', 'Followup_status', 'AltNum_status',\n",
    "       'Resume_status', 'Venue_status', 'Call_letter_status', 'Ex_attend',\n",
    "        'Matital_status', 'Skill']"
   ]
  },
  {
   "cell_type": "code",
   "execution_count": 336,
   "id": "6db768e9",
   "metadata": {},
   "outputs": [
    {
     "data": {
      "text/plain": [
       "['Client_name',\n",
       " 'Industry',\n",
       " 'Closed_pos',\n",
       " 'Interview_type',\n",
       " 'Gender',\n",
       " 'Curr_loc',\n",
       " 'Curr_job_loc',\n",
       " 'Interview_venue',\n",
       " 'Permission_status',\n",
       " 'Unscd_meet_status',\n",
       " 'Followup_status',\n",
       " 'AltNum_status',\n",
       " 'Resume_status',\n",
       " 'Venue_status',\n",
       " 'Call_letter_status',\n",
       " 'Ex_attend',\n",
       " 'Matital_status',\n",
       " 'Skill']"
      ]
     },
     "execution_count": 336,
     "metadata": {},
     "output_type": "execute_result"
    }
   ],
   "source": [
    "cols"
   ]
  },
  {
   "cell_type": "code",
   "execution_count": 337,
   "id": "08efb5bb",
   "metadata": {},
   "outputs": [],
   "source": [
    "X=df.drop(\"Obs_attend\",axis=1)\n",
    "y=df[\"Obs_attend\"]"
   ]
  },
  {
   "cell_type": "markdown",
   "id": "58950a04",
   "metadata": {},
   "source": [
    "## One hot encoding on categorical data"
   ]
  },
  {
   "cell_type": "code",
   "execution_count": 338,
   "id": "0ca1b193",
   "metadata": {},
   "outputs": [],
   "source": [
    "Xohe=pd.get_dummies(X,columns=cols)"
   ]
  },
  {
   "cell_type": "code",
   "execution_count": 339,
   "id": "e39fac27",
   "metadata": {},
   "outputs": [
    {
     "data": {
      "text/plain": [
       "(940, 19)"
      ]
     },
     "execution_count": 339,
     "metadata": {},
     "output_type": "execute_result"
    }
   ],
   "source": [
    "df.shape"
   ]
  },
  {
   "cell_type": "code",
   "execution_count": 340,
   "id": "7878f026",
   "metadata": {},
   "outputs": [
    {
     "data": {
      "text/plain": [
       "(940, 63)"
      ]
     },
     "execution_count": 340,
     "metadata": {},
     "output_type": "execute_result"
    }
   ],
   "source": [
    "Xohe.shape"
   ]
  },
  {
   "cell_type": "code",
   "execution_count": 341,
   "id": "1f3ac4d2",
   "metadata": {},
   "outputs": [
    {
     "data": {
      "text/html": [
       "<div>\n",
       "<style scoped>\n",
       "    .dataframe tbody tr th:only-of-type {\n",
       "        vertical-align: middle;\n",
       "    }\n",
       "\n",
       "    .dataframe tbody tr th {\n",
       "        vertical-align: top;\n",
       "    }\n",
       "\n",
       "    .dataframe thead th {\n",
       "        text-align: right;\n",
       "    }\n",
       "</style>\n",
       "<table border=\"1\" class=\"dataframe\">\n",
       "  <thead>\n",
       "    <tr style=\"text-align: right;\">\n",
       "      <th></th>\n",
       "      <th>Client_name_ANZ</th>\n",
       "      <th>Client_name_Aon Hewitt</th>\n",
       "      <th>Client_name_Aon hewitt Gurgaon</th>\n",
       "      <th>Client_name_Astrazeneca</th>\n",
       "      <th>Client_name_Flextronics</th>\n",
       "      <th>Client_name_Hewitt</th>\n",
       "      <th>Client_name_Hospira</th>\n",
       "      <th>Client_name_Standard Chartered Bank</th>\n",
       "      <th>Client_name_Standard Chartered Bank Chennai</th>\n",
       "      <th>Client_name_UST</th>\n",
       "      <th>...</th>\n",
       "      <th>Ex_attend_yes</th>\n",
       "      <th>Matital_status_Married</th>\n",
       "      <th>Matital_status_Single</th>\n",
       "      <th>Skill_Fresher</th>\n",
       "      <th>Skill_Java</th>\n",
       "      <th>Skill_KYC</th>\n",
       "      <th>Skill_Operations</th>\n",
       "      <th>Skill_Oracle</th>\n",
       "      <th>Skill_Routine</th>\n",
       "      <th>Skill_Testing</th>\n",
       "    </tr>\n",
       "  </thead>\n",
       "  <tbody>\n",
       "    <tr>\n",
       "      <th>0</th>\n",
       "      <td>0</td>\n",
       "      <td>0</td>\n",
       "      <td>0</td>\n",
       "      <td>0</td>\n",
       "      <td>0</td>\n",
       "      <td>0</td>\n",
       "      <td>1</td>\n",
       "      <td>0</td>\n",
       "      <td>0</td>\n",
       "      <td>0</td>\n",
       "      <td>...</td>\n",
       "      <td>1</td>\n",
       "      <td>0</td>\n",
       "      <td>1</td>\n",
       "      <td>0</td>\n",
       "      <td>0</td>\n",
       "      <td>0</td>\n",
       "      <td>0</td>\n",
       "      <td>0</td>\n",
       "      <td>1</td>\n",
       "      <td>0</td>\n",
       "    </tr>\n",
       "    <tr>\n",
       "      <th>1</th>\n",
       "      <td>0</td>\n",
       "      <td>0</td>\n",
       "      <td>0</td>\n",
       "      <td>0</td>\n",
       "      <td>0</td>\n",
       "      <td>0</td>\n",
       "      <td>1</td>\n",
       "      <td>0</td>\n",
       "      <td>0</td>\n",
       "      <td>0</td>\n",
       "      <td>...</td>\n",
       "      <td>1</td>\n",
       "      <td>0</td>\n",
       "      <td>1</td>\n",
       "      <td>0</td>\n",
       "      <td>0</td>\n",
       "      <td>0</td>\n",
       "      <td>0</td>\n",
       "      <td>0</td>\n",
       "      <td>1</td>\n",
       "      <td>0</td>\n",
       "    </tr>\n",
       "    <tr>\n",
       "      <th>2</th>\n",
       "      <td>0</td>\n",
       "      <td>0</td>\n",
       "      <td>0</td>\n",
       "      <td>0</td>\n",
       "      <td>0</td>\n",
       "      <td>0</td>\n",
       "      <td>1</td>\n",
       "      <td>0</td>\n",
       "      <td>0</td>\n",
       "      <td>0</td>\n",
       "      <td>...</td>\n",
       "      <td>0</td>\n",
       "      <td>0</td>\n",
       "      <td>1</td>\n",
       "      <td>0</td>\n",
       "      <td>0</td>\n",
       "      <td>0</td>\n",
       "      <td>0</td>\n",
       "      <td>0</td>\n",
       "      <td>1</td>\n",
       "      <td>0</td>\n",
       "    </tr>\n",
       "    <tr>\n",
       "      <th>3</th>\n",
       "      <td>0</td>\n",
       "      <td>0</td>\n",
       "      <td>0</td>\n",
       "      <td>0</td>\n",
       "      <td>0</td>\n",
       "      <td>0</td>\n",
       "      <td>1</td>\n",
       "      <td>0</td>\n",
       "      <td>0</td>\n",
       "      <td>0</td>\n",
       "      <td>...</td>\n",
       "      <td>0</td>\n",
       "      <td>0</td>\n",
       "      <td>1</td>\n",
       "      <td>0</td>\n",
       "      <td>0</td>\n",
       "      <td>0</td>\n",
       "      <td>0</td>\n",
       "      <td>0</td>\n",
       "      <td>1</td>\n",
       "      <td>0</td>\n",
       "    </tr>\n",
       "    <tr>\n",
       "      <th>4</th>\n",
       "      <td>0</td>\n",
       "      <td>0</td>\n",
       "      <td>0</td>\n",
       "      <td>0</td>\n",
       "      <td>0</td>\n",
       "      <td>0</td>\n",
       "      <td>1</td>\n",
       "      <td>0</td>\n",
       "      <td>0</td>\n",
       "      <td>0</td>\n",
       "      <td>...</td>\n",
       "      <td>0</td>\n",
       "      <td>1</td>\n",
       "      <td>0</td>\n",
       "      <td>0</td>\n",
       "      <td>0</td>\n",
       "      <td>0</td>\n",
       "      <td>0</td>\n",
       "      <td>0</td>\n",
       "      <td>1</td>\n",
       "      <td>0</td>\n",
       "    </tr>\n",
       "  </tbody>\n",
       "</table>\n",
       "<p>5 rows × 63 columns</p>\n",
       "</div>"
      ],
      "text/plain": [
       "   Client_name_ANZ  Client_name_Aon Hewitt  Client_name_Aon hewitt Gurgaon  \\\n",
       "0                0                       0                               0   \n",
       "1                0                       0                               0   \n",
       "2                0                       0                               0   \n",
       "3                0                       0                               0   \n",
       "4                0                       0                               0   \n",
       "\n",
       "   Client_name_Astrazeneca  Client_name_Flextronics  Client_name_Hewitt  \\\n",
       "0                        0                        0                   0   \n",
       "1                        0                        0                   0   \n",
       "2                        0                        0                   0   \n",
       "3                        0                        0                   0   \n",
       "4                        0                        0                   0   \n",
       "\n",
       "   Client_name_Hospira  Client_name_Standard Chartered Bank  \\\n",
       "0                    1                                    0   \n",
       "1                    1                                    0   \n",
       "2                    1                                    0   \n",
       "3                    1                                    0   \n",
       "4                    1                                    0   \n",
       "\n",
       "   Client_name_Standard Chartered Bank Chennai  Client_name_UST  ...  \\\n",
       "0                                            0                0  ...   \n",
       "1                                            0                0  ...   \n",
       "2                                            0                0  ...   \n",
       "3                                            0                0  ...   \n",
       "4                                            0                0  ...   \n",
       "\n",
       "   Ex_attend_yes  Matital_status_Married  Matital_status_Single  \\\n",
       "0              1                       0                      1   \n",
       "1              1                       0                      1   \n",
       "2              0                       0                      1   \n",
       "3              0                       0                      1   \n",
       "4              0                       1                      0   \n",
       "\n",
       "   Skill_Fresher  Skill_Java  Skill_KYC  Skill_Operations  Skill_Oracle  \\\n",
       "0              0           0          0                 0             0   \n",
       "1              0           0          0                 0             0   \n",
       "2              0           0          0                 0             0   \n",
       "3              0           0          0                 0             0   \n",
       "4              0           0          0                 0             0   \n",
       "\n",
       "   Skill_Routine  Skill_Testing  \n",
       "0              1              0  \n",
       "1              1              0  \n",
       "2              1              0  \n",
       "3              1              0  \n",
       "4              1              0  \n",
       "\n",
       "[5 rows x 63 columns]"
      ]
     },
     "execution_count": 341,
     "metadata": {},
     "output_type": "execute_result"
    }
   ],
   "source": [
    "Xohe[:5]"
   ]
  },
  {
   "cell_type": "code",
   "execution_count": 342,
   "id": "758d0ede",
   "metadata": {},
   "outputs": [],
   "source": [
    "dict = {'yes' : 1, 'no' : 0}\n",
    "y= y.map(dict)"
   ]
  },
  {
   "cell_type": "code",
   "execution_count": 343,
   "id": "09732b91",
   "metadata": {},
   "outputs": [
    {
     "data": {
      "text/plain": [
       "1   0.62447\n",
       "0   0.37553\n",
       "Name: Obs_attend, dtype: float64"
      ]
     },
     "execution_count": 343,
     "metadata": {},
     "output_type": "execute_result"
    }
   ],
   "source": [
    "## Target Class distribution:\n",
    "y.value_counts()/y.shape[0]"
   ]
  },
  {
   "cell_type": "markdown",
   "id": "bee3c6d1",
   "metadata": {},
   "source": [
    "## Building Base Logistic Regression Model"
   ]
  },
  {
   "cell_type": "code",
   "execution_count": 344,
   "id": "139af36a",
   "metadata": {},
   "outputs": [],
   "source": [
    "Xtrain,Xtest,ytrain,ytest=model_selection.train_test_split(Xohe,y,test_size=.2,random_state=123)"
   ]
  },
  {
   "cell_type": "code",
   "execution_count": 345,
   "id": "001f1d78",
   "metadata": {},
   "outputs": [
    {
     "name": "stderr",
     "output_type": "stream",
     "text": [
      "C:\\Users\\user\\anaconda3\\lib\\site-packages\\sklearn\\linear_model\\_logistic.py:763: ConvergenceWarning: lbfgs failed to converge (status=1):\n",
      "STOP: TOTAL NO. of ITERATIONS REACHED LIMIT.\n",
      "\n",
      "Increase the number of iterations (max_iter) or scale the data as shown in:\n",
      "    https://scikit-learn.org/stable/modules/preprocessing.html\n",
      "Please also refer to the documentation for alternative solver options:\n",
      "    https://scikit-learn.org/stable/modules/linear_model.html#logistic-regression\n",
      "  n_iter_i = _check_optimize_result(\n"
     ]
    },
    {
     "data": {
      "text/plain": [
       "LogisticRegression()"
      ]
     },
     "execution_count": 345,
     "metadata": {},
     "output_type": "execute_result"
    }
   ],
   "source": [
    "model=linear_model.LogisticRegression()\n",
    "model.fit(Xtrain,ytrain)"
   ]
  },
  {
   "cell_type": "code",
   "execution_count": 346,
   "id": "30852684",
   "metadata": {},
   "outputs": [],
   "source": [
    "trainpred=model.predict(Xtrain)\n",
    "testpred=model.predict(Xtest)"
   ]
  },
  {
   "cell_type": "code",
   "execution_count": 347,
   "id": "4722a9e4",
   "metadata": {},
   "outputs": [
    {
     "name": "stdout",
     "output_type": "stream",
     "text": [
      "-----Train data-----\n",
      "precision : 0.7074010327022375\n",
      "AUC : 0.6378129544101803\n",
      "-----Test data-----\n",
      "precision : 0.7412587412587412\n",
      "AUC : 0.684866828087167\n"
     ]
    }
   ],
   "source": [
    "print(\"-----Train data-----\")\n",
    "print(\"precision :\",metrics.precision_score(ytrain,trainpred))\n",
    "print(\"AUC :\",metrics.roc_auc_score(ytrain,trainpred))\n",
    "print(\"-----Test data-----\")\n",
    "print(\"precision :\",metrics.precision_score(ytest,testpred))\n",
    "print(\"AUC :\",metrics.roc_auc_score(ytest,testpred))"
   ]
  },
  {
   "cell_type": "code",
   "execution_count": null,
   "id": "62714ea5",
   "metadata": {},
   "outputs": [],
   "source": []
  },
  {
   "cell_type": "markdown",
   "id": "4372c27e",
   "metadata": {},
   "source": [
    "## P-Value check"
   ]
  },
  {
   "cell_type": "code",
   "execution_count": 173,
   "id": "0c3cf4b3",
   "metadata": {},
   "outputs": [],
   "source": [
    "import statsmodels.api as sm"
   ]
  },
  {
   "cell_type": "code",
   "execution_count": 174,
   "id": "0db2b74a",
   "metadata": {},
   "outputs": [
    {
     "name": "stderr",
     "output_type": "stream",
     "text": [
      "C:\\Users\\user\\anaconda3\\lib\\site-packages\\statsmodels\\genmod\\families\\links.py:188: RuntimeWarning: overflow encountered in exp\n",
      "  t = np.exp(-z)\n"
     ]
    }
   ],
   "source": [
    "Xtrain_1=sm.add_constant(Xtrain)\n",
    "\n",
    "lrmodel=sm.GLM(ytrain,Xtrain_1,family=sm.families.Binomial() )\n",
    "\n",
    "lrresult=lrmodel.fit()"
   ]
  },
  {
   "cell_type": "code",
   "execution_count": 175,
   "id": "abeb1990",
   "metadata": {},
   "outputs": [
    {
     "name": "stderr",
     "output_type": "stream",
     "text": [
      "C:\\Users\\user\\anaconda3\\lib\\site-packages\\statsmodels\\genmod\\families\\family.py:947: RuntimeWarning: divide by zero encountered in log\n",
      "  y * np.log(mu / (1 - mu + 1e-20)) +\n",
      "C:\\Users\\user\\anaconda3\\lib\\site-packages\\statsmodels\\genmod\\families\\family.py:947: RuntimeWarning: invalid value encountered in multiply\n",
      "  y * np.log(mu / (1 - mu + 1e-20)) +\n"
     ]
    },
    {
     "data": {
      "text/html": [
       "<table class=\"simpletable\">\n",
       "<caption>Generalized Linear Model Regression Results</caption>\n",
       "<tr>\n",
       "  <th>Dep. Variable:</th>      <td>Obs_attend</td>    <th>  No. Observations:  </th>  <td>   752</td> \n",
       "</tr>\n",
       "<tr>\n",
       "  <th>Model:</th>                  <td>GLM</td>       <th>  Df Residuals:      </th>  <td>   716</td> \n",
       "</tr>\n",
       "<tr>\n",
       "  <th>Model Family:</th>        <td>Binomial</td>     <th>  Df Model:          </th>  <td>    35</td> \n",
       "</tr>\n",
       "<tr>\n",
       "  <th>Link Function:</th>         <td>logit</td>      <th>  Scale:             </th> <td>  1.0000</td>\n",
       "</tr>\n",
       "<tr>\n",
       "  <th>Method:</th>                <td>IRLS</td>       <th>  Log-Likelihood:    </th> <td>     nan</td>\n",
       "</tr>\n",
       "<tr>\n",
       "  <th>Date:</th>            <td>Wed, 17 Nov 2021</td> <th>  Deviance:          </th> <td>  30486.</td>\n",
       "</tr>\n",
       "<tr>\n",
       "  <th>Time:</th>                <td>19:34:15</td>     <th>  Pearson chi2:      </th> <td>1.49e+18</td>\n",
       "</tr>\n",
       "<tr>\n",
       "  <th>No. Iterations:</th>         <td>100</td>       <th>                     </th>     <td> </td>   \n",
       "</tr>\n",
       "<tr>\n",
       "  <th>Covariance Type:</th>     <td>nonrobust</td>    <th>                     </th>     <td> </td>   \n",
       "</tr>\n",
       "</table>\n",
       "<table class=\"simpletable\">\n",
       "<tr>\n",
       "                       <td></td>                          <th>coef</th>     <th>std err</th>      <th>z</th>      <th>P>|z|</th>  <th>[0.025</th>    <th>0.975]</th>  \n",
       "</tr>\n",
       "<tr>\n",
       "  <th>const</th>                                       <td>-3.226e+14</td> <td>  2.7e+06</td> <td> -1.2e+08</td> <td> 0.000</td> <td>-3.23e+14</td> <td>-3.23e+14</td>\n",
       "</tr>\n",
       "<tr>\n",
       "  <th>Client_name_ANZ</th>                             <td> 8.117e+14</td> <td> 1.62e+07</td> <td> 5.01e+07</td> <td> 0.000</td> <td> 8.12e+14</td> <td> 8.12e+14</td>\n",
       "</tr>\n",
       "<tr>\n",
       "  <th>Client_name_Aon Hewitt</th>                      <td> -1.18e+15</td> <td> 2.66e+07</td> <td>-4.44e+07</td> <td> 0.000</td> <td>-1.18e+15</td> <td>-1.18e+15</td>\n",
       "</tr>\n",
       "<tr>\n",
       "  <th>Client_name_Aon hewitt Gurgaon</th>              <td> 7.161e+15</td> <td> 3.81e+07</td> <td> 1.88e+08</td> <td> 0.000</td> <td> 7.16e+15</td> <td> 7.16e+15</td>\n",
       "</tr>\n",
       "<tr>\n",
       "  <th>Client_name_Astrazeneca</th>                     <td> 1.342e+14</td> <td> 1.62e+07</td> <td> 8.28e+06</td> <td> 0.000</td> <td> 1.34e+14</td> <td> 1.34e+14</td>\n",
       "</tr>\n",
       "<tr>\n",
       "  <th>Client_name_Flextronics</th>                     <td> 2.301e+14</td> <td> 9.76e+06</td> <td> 2.36e+07</td> <td> 0.000</td> <td>  2.3e+14</td> <td>  2.3e+14</td>\n",
       "</tr>\n",
       "<tr>\n",
       "  <th>Client_name_Hewitt</th>                          <td>-4.391e+15</td> <td> 3.06e+07</td> <td>-1.44e+08</td> <td> 0.000</td> <td>-4.39e+15</td> <td>-4.39e+15</td>\n",
       "</tr>\n",
       "<tr>\n",
       "  <th>Client_name_Hospira</th>                         <td>-7.365e+14</td> <td> 1.36e+07</td> <td>-5.41e+07</td> <td> 0.000</td> <td>-7.36e+14</td> <td>-7.36e+14</td>\n",
       "</tr>\n",
       "<tr>\n",
       "  <th>Client_name_Standard Chartered Bank</th>         <td> 2.143e+13</td> <td> 1.27e+07</td> <td> 1.69e+06</td> <td> 0.000</td> <td> 2.14e+13</td> <td> 2.14e+13</td>\n",
       "</tr>\n",
       "<tr>\n",
       "  <th>Client_name_Standard Chartered Bank Chennai</th> <td>-1.615e+15</td> <td> 1.68e+07</td> <td>-9.59e+07</td> <td> 0.000</td> <td>-1.61e+15</td> <td>-1.61e+15</td>\n",
       "</tr>\n",
       "<tr>\n",
       "  <th>Client_name_UST</th>                             <td>-7.227e+14</td> <td> 3.09e+07</td> <td>-2.34e+07</td> <td> 0.000</td> <td>-7.23e+14</td> <td>-7.23e+14</td>\n",
       "</tr>\n",
       "<tr>\n",
       "  <th>Client_name_Williams Lea</th>                    <td>-3.549e+13</td> <td> 4.68e+07</td> <td>-7.59e+05</td> <td> 0.000</td> <td>-3.55e+13</td> <td>-3.55e+13</td>\n",
       "</tr>\n",
       "<tr>\n",
       "  <th>Industry_BFSI</th>                               <td>-7.817e+14</td> <td> 9.69e+06</td> <td>-8.06e+07</td> <td> 0.000</td> <td>-7.82e+14</td> <td>-7.82e+14</td>\n",
       "</tr>\n",
       "<tr>\n",
       "  <th>Industry_Electronics</th>                        <td> 2.301e+14</td> <td> 9.76e+06</td> <td> 2.36e+07</td> <td> 0.000</td> <td>  2.3e+14</td> <td>  2.3e+14</td>\n",
       "</tr>\n",
       "<tr>\n",
       "  <th>Industry_IT</th>                                 <td> 8.313e+14</td> <td> 1.59e+07</td> <td> 5.24e+07</td> <td> 0.000</td> <td> 8.31e+14</td> <td> 8.31e+14</td>\n",
       "</tr>\n",
       "<tr>\n",
       "  <th>Industry_Pharmaceuticals</th>                    <td>-6.022e+14</td> <td> 1.05e+07</td> <td>-5.75e+07</td> <td> 0.000</td> <td>-6.02e+14</td> <td>-6.02e+14</td>\n",
       "</tr>\n",
       "<tr>\n",
       "  <th>Closed_pos_Non-Routine</th>                      <td> 1.429e+14</td> <td> 6.39e+06</td> <td> 2.24e+07</td> <td> 0.000</td> <td> 1.43e+14</td> <td> 1.43e+14</td>\n",
       "</tr>\n",
       "<tr>\n",
       "  <th>Closed_pos_Routine</th>                          <td>-4.655e+14</td> <td> 5.73e+06</td> <td>-8.12e+07</td> <td> 0.000</td> <td>-4.65e+14</td> <td>-4.65e+14</td>\n",
       "</tr>\n",
       "<tr>\n",
       "  <th>Interview_type_scheduled</th>                    <td>-7.492e+13</td> <td> 8.96e+06</td> <td>-8.36e+06</td> <td> 0.000</td> <td>-7.49e+13</td> <td>-7.49e+13</td>\n",
       "</tr>\n",
       "<tr>\n",
       "  <th>Interview_type_scheduled_walkin</th>             <td>-5.213e+14</td> <td> 5.99e+06</td> <td>-8.71e+07</td> <td> 0.000</td> <td>-5.21e+14</td> <td>-5.21e+14</td>\n",
       "</tr>\n",
       "<tr>\n",
       "  <th>Interview_type_walkin</th>                       <td> 2.736e+14</td> <td> 8.12e+06</td> <td> 3.37e+07</td> <td> 0.000</td> <td> 2.74e+14</td> <td> 2.74e+14</td>\n",
       "</tr>\n",
       "<tr>\n",
       "  <th>Gender_Female</th>                               <td>-2.206e+14</td> <td> 3.51e+06</td> <td>-6.28e+07</td> <td> 0.000</td> <td>-2.21e+14</td> <td>-2.21e+14</td>\n",
       "</tr>\n",
       "<tr>\n",
       "  <th>Gender_Male</th>                                 <td> -1.02e+14</td> <td> 3.26e+06</td> <td>-3.13e+07</td> <td> 0.000</td> <td>-1.02e+14</td> <td>-1.02e+14</td>\n",
       "</tr>\n",
       "<tr>\n",
       "  <th>Curr_loc_Chennai</th>                            <td>-1.496e+15</td> <td>  2.2e+07</td> <td> -6.8e+07</td> <td> 0.000</td> <td> -1.5e+15</td> <td> -1.5e+15</td>\n",
       "</tr>\n",
       "<tr>\n",
       "  <th>Curr_loc_bangalore</th>                          <td> -4.16e+14</td> <td> 2.28e+07</td> <td>-1.83e+07</td> <td> 0.000</td> <td>-4.16e+14</td> <td>-4.16e+14</td>\n",
       "</tr>\n",
       "<tr>\n",
       "  <th>Curr_loc_delhi</th>                              <td> 1.228e+15</td> <td> 4.22e+07</td> <td> 2.91e+07</td> <td> 0.000</td> <td> 1.23e+15</td> <td> 1.23e+15</td>\n",
       "</tr>\n",
       "<tr>\n",
       "  <th>Curr_loc_gurgaon</th>                            <td>-9.354e+11</td> <td> 3.38e+07</td> <td>-2.77e+04</td> <td> 0.000</td> <td>-9.35e+11</td> <td>-9.35e+11</td>\n",
       "</tr>\n",
       "<tr>\n",
       "  <th>Curr_loc_noida</th>                              <td> 3.623e+14</td> <td> 1.08e+07</td> <td> 3.35e+07</td> <td> 0.000</td> <td> 3.62e+14</td> <td> 3.62e+14</td>\n",
       "</tr>\n",
       "<tr>\n",
       "  <th>Curr_job_loc_bangalore</th>                      <td>  1.32e+15</td> <td> 5.11e+07</td> <td> 2.58e+07</td> <td> 0.000</td> <td> 1.32e+15</td> <td> 1.32e+15</td>\n",
       "</tr>\n",
       "<tr>\n",
       "  <th>Curr_job_loc_chennai</th>                        <td>-2.327e+15</td> <td> 4.57e+07</td> <td>-5.09e+07</td> <td> 0.000</td> <td>-2.33e+15</td> <td>-2.33e+15</td>\n",
       "</tr>\n",
       "<tr>\n",
       "  <th>Curr_job_loc_gurgaon</th>                        <td> 1.227e+15</td> <td>  1.2e+07</td> <td> 1.03e+08</td> <td> 0.000</td> <td> 1.23e+15</td> <td> 1.23e+15</td>\n",
       "</tr>\n",
       "<tr>\n",
       "  <th>Curr_job_loc_hosur</th>                          <td> -9.05e+14</td> <td> 5.54e+07</td> <td>-1.63e+07</td> <td> 0.000</td> <td>-9.05e+14</td> <td>-9.05e+14</td>\n",
       "</tr>\n",
       "<tr>\n",
       "  <th>Curr_job_loc_noida</th>                          <td> 3.623e+14</td> <td> 1.08e+07</td> <td> 3.35e+07</td> <td> 0.000</td> <td> 3.62e+14</td> <td> 3.62e+14</td>\n",
       "</tr>\n",
       "<tr>\n",
       "  <th>Interview_venue_bangalore</th>                   <td> -4.16e+14</td> <td> 2.28e+07</td> <td>-1.83e+07</td> <td> 0.000</td> <td>-4.16e+14</td> <td>-4.16e+14</td>\n",
       "</tr>\n",
       "<tr>\n",
       "  <th>Interview_venue_chennai</th>                     <td> 3.885e+15</td> <td>  3.2e+07</td> <td> 1.21e+08</td> <td> 0.000</td> <td> 3.88e+15</td> <td> 3.88e+15</td>\n",
       "</tr>\n",
       "<tr>\n",
       "  <th>Interview_venue_gurgaon</th>                     <td> 1.227e+15</td> <td>  1.2e+07</td> <td> 1.03e+08</td> <td> 0.000</td> <td> 1.23e+15</td> <td> 1.23e+15</td>\n",
       "</tr>\n",
       "<tr>\n",
       "  <th>Interview_venue_hosur</th>                       <td>-5.381e+15</td> <td> 2.89e+07</td> <td>-1.86e+08</td> <td> 0.000</td> <td>-5.38e+15</td> <td>-5.38e+15</td>\n",
       "</tr>\n",
       "<tr>\n",
       "  <th>Interview_venue_noida</th>                       <td> 3.623e+14</td> <td> 1.08e+07</td> <td> 3.35e+07</td> <td> 0.000</td> <td> 3.62e+14</td> <td> 3.62e+14</td>\n",
       "</tr>\n",
       "<tr>\n",
       "  <th>Permission_status_no</th>                        <td>-8.107e+14</td> <td> 1.25e+07</td> <td>-6.46e+07</td> <td> 0.000</td> <td>-8.11e+14</td> <td>-8.11e+14</td>\n",
       "</tr>\n",
       "<tr>\n",
       "  <th>Permission_status_yes</th>                       <td> 4.882e+14</td> <td> 1.27e+07</td> <td> 3.86e+07</td> <td> 0.000</td> <td> 4.88e+14</td> <td> 4.88e+14</td>\n",
       "</tr>\n",
       "<tr>\n",
       "  <th>Unscd_meet_status_no</th>                        <td>-4.959e+15</td> <td> 2.66e+07</td> <td>-1.87e+08</td> <td> 0.000</td> <td>-4.96e+15</td> <td>-4.96e+15</td>\n",
       "</tr>\n",
       "<tr>\n",
       "  <th>Unscd_meet_status_yes</th>                       <td> 4.637e+15</td> <td> 2.68e+07</td> <td> 1.73e+08</td> <td> 0.000</td> <td> 4.64e+15</td> <td> 4.64e+15</td>\n",
       "</tr>\n",
       "<tr>\n",
       "  <th>Followup_status_no</th>                          <td>-9.152e+14</td> <td> 1.63e+07</td> <td>-5.63e+07</td> <td> 0.000</td> <td>-9.15e+14</td> <td>-9.15e+14</td>\n",
       "</tr>\n",
       "<tr>\n",
       "  <th>Followup_status_yes</th>                         <td> 5.926e+14</td> <td> 1.64e+07</td> <td> 3.61e+07</td> <td> 0.000</td> <td> 5.93e+14</td> <td> 5.93e+14</td>\n",
       "</tr>\n",
       "<tr>\n",
       "  <th>AltNum_status_no</th>                            <td> 2.775e+15</td> <td> 3.61e+07</td> <td> 7.68e+07</td> <td> 0.000</td> <td> 2.77e+15</td> <td> 2.77e+15</td>\n",
       "</tr>\n",
       "<tr>\n",
       "  <th>AltNum_status_yes</th>                           <td>-3.097e+15</td> <td> 3.57e+07</td> <td>-8.67e+07</td> <td> 0.000</td> <td> -3.1e+15</td> <td> -3.1e+15</td>\n",
       "</tr>\n",
       "<tr>\n",
       "  <th>Resume_status_no</th>                            <td>-1.213e+15</td> <td> 1.24e+07</td> <td>-9.75e+07</td> <td> 0.000</td> <td>-1.21e+15</td> <td>-1.21e+15</td>\n",
       "</tr>\n",
       "<tr>\n",
       "  <th>Resume_status_yes</th>                           <td> 8.906e+14</td> <td> 1.26e+07</td> <td> 7.04e+07</td> <td> 0.000</td> <td> 8.91e+14</td> <td> 8.91e+14</td>\n",
       "</tr>\n",
       "<tr>\n",
       "  <th>Venue_status_no</th>                             <td> 3.696e+15</td> <td> 1.41e+07</td> <td> 2.63e+08</td> <td> 0.000</td> <td>  3.7e+15</td> <td>  3.7e+15</td>\n",
       "</tr>\n",
       "<tr>\n",
       "  <th>Venue_status_yes</th>                            <td>-4.019e+15</td> <td> 1.43e+07</td> <td> -2.8e+08</td> <td> 0.000</td> <td>-4.02e+15</td> <td>-4.02e+15</td>\n",
       "</tr>\n",
       "<tr>\n",
       "  <th>Call_letter_status_no</th>                       <td>-5.952e+14</td> <td>  1.3e+07</td> <td>-4.59e+07</td> <td> 0.000</td> <td>-5.95e+14</td> <td>-5.95e+14</td>\n",
       "</tr>\n",
       "<tr>\n",
       "  <th>Call_letter_status_yes</th>                      <td> 2.727e+14</td> <td> 1.31e+07</td> <td> 2.08e+07</td> <td> 0.000</td> <td> 2.73e+14</td> <td> 2.73e+14</td>\n",
       "</tr>\n",
       "<tr>\n",
       "  <th>Ex_attend_no</th>                                <td>-6.488e+15</td> <td>    1e+07</td> <td>-6.46e+08</td> <td> 0.000</td> <td>-6.49e+15</td> <td>-6.49e+15</td>\n",
       "</tr>\n",
       "<tr>\n",
       "  <th>Ex_attend_uncertain</th>                         <td> 3.318e+15</td> <td> 9.51e+06</td> <td> 3.49e+08</td> <td> 0.000</td> <td> 3.32e+15</td> <td> 3.32e+15</td>\n",
       "</tr>\n",
       "<tr>\n",
       "  <th>Ex_attend_yes</th>                               <td> 2.847e+15</td> <td> 1.37e+07</td> <td> 2.08e+08</td> <td> 0.000</td> <td> 2.85e+15</td> <td> 2.85e+15</td>\n",
       "</tr>\n",
       "<tr>\n",
       "  <th>Matital_status_Married</th>                      <td>-1.857e+14</td> <td> 3.13e+06</td> <td>-5.93e+07</td> <td> 0.000</td> <td>-1.86e+14</td> <td>-1.86e+14</td>\n",
       "</tr>\n",
       "<tr>\n",
       "  <th>Matital_status_Single</th>                       <td>-1.369e+14</td> <td> 3.15e+06</td> <td>-4.35e+07</td> <td> 0.000</td> <td>-1.37e+14</td> <td>-1.37e+14</td>\n",
       "</tr>\n",
       "<tr>\n",
       "  <th>Skill_Fresher</th>                               <td> 1.254e+15</td> <td> 1.86e+07</td> <td> 6.73e+07</td> <td> 0.000</td> <td> 1.25e+15</td> <td> 1.25e+15</td>\n",
       "</tr>\n",
       "<tr>\n",
       "  <th>Skill_Java</th>                                  <td>-5.445e+14</td> <td>  7.9e+06</td> <td> -6.9e+07</td> <td> 0.000</td> <td>-5.45e+14</td> <td>-5.45e+14</td>\n",
       "</tr>\n",
       "<tr>\n",
       "  <th>Skill_KYC</th>                                   <td>-6.141e+14</td> <td>  9.9e+06</td> <td> -6.2e+07</td> <td> 0.000</td> <td>-6.14e+14</td> <td>-6.14e+14</td>\n",
       "</tr>\n",
       "<tr>\n",
       "  <th>Skill_Operations</th>                            <td> 1.318e+15</td> <td> 9.78e+06</td> <td> 1.35e+08</td> <td> 0.000</td> <td> 1.32e+15</td> <td> 1.32e+15</td>\n",
       "</tr>\n",
       "<tr>\n",
       "  <th>Skill_Oracle</th>                                <td>-5.312e+14</td> <td> 1.01e+07</td> <td>-5.24e+07</td> <td> 0.000</td> <td>-5.31e+14</td> <td>-5.31e+14</td>\n",
       "</tr>\n",
       "<tr>\n",
       "  <th>Skill_Routine</th>                               <td>-8.031e+14</td> <td> 1.35e+07</td> <td>-5.96e+07</td> <td> 0.000</td> <td>-8.03e+14</td> <td>-8.03e+14</td>\n",
       "</tr>\n",
       "<tr>\n",
       "  <th>Skill_Testing</th>                               <td>-4.016e+14</td> <td> 2.23e+07</td> <td> -1.8e+07</td> <td> 0.000</td> <td>-4.02e+14</td> <td>-4.02e+14</td>\n",
       "</tr>\n",
       "</table>"
      ],
      "text/plain": [
       "<class 'statsmodels.iolib.summary.Summary'>\n",
       "\"\"\"\n",
       "                 Generalized Linear Model Regression Results                  \n",
       "==============================================================================\n",
       "Dep. Variable:             Obs_attend   No. Observations:                  752\n",
       "Model:                            GLM   Df Residuals:                      716\n",
       "Model Family:                Binomial   Df Model:                           35\n",
       "Link Function:                  logit   Scale:                          1.0000\n",
       "Method:                          IRLS   Log-Likelihood:                    nan\n",
       "Date:                Wed, 17 Nov 2021   Deviance:                       30486.\n",
       "Time:                        19:34:15   Pearson chi2:                 1.49e+18\n",
       "No. Iterations:                   100                                         \n",
       "Covariance Type:            nonrobust                                         \n",
       "===============================================================================================================\n",
       "                                                  coef    std err          z      P>|z|      [0.025      0.975]\n",
       "---------------------------------------------------------------------------------------------------------------\n",
       "const                                       -3.226e+14    2.7e+06   -1.2e+08      0.000   -3.23e+14   -3.23e+14\n",
       "Client_name_ANZ                              8.117e+14   1.62e+07   5.01e+07      0.000    8.12e+14    8.12e+14\n",
       "Client_name_Aon Hewitt                       -1.18e+15   2.66e+07  -4.44e+07      0.000   -1.18e+15   -1.18e+15\n",
       "Client_name_Aon hewitt Gurgaon               7.161e+15   3.81e+07   1.88e+08      0.000    7.16e+15    7.16e+15\n",
       "Client_name_Astrazeneca                      1.342e+14   1.62e+07   8.28e+06      0.000    1.34e+14    1.34e+14\n",
       "Client_name_Flextronics                      2.301e+14   9.76e+06   2.36e+07      0.000     2.3e+14     2.3e+14\n",
       "Client_name_Hewitt                          -4.391e+15   3.06e+07  -1.44e+08      0.000   -4.39e+15   -4.39e+15\n",
       "Client_name_Hospira                         -7.365e+14   1.36e+07  -5.41e+07      0.000   -7.36e+14   -7.36e+14\n",
       "Client_name_Standard Chartered Bank          2.143e+13   1.27e+07   1.69e+06      0.000    2.14e+13    2.14e+13\n",
       "Client_name_Standard Chartered Bank Chennai -1.615e+15   1.68e+07  -9.59e+07      0.000   -1.61e+15   -1.61e+15\n",
       "Client_name_UST                             -7.227e+14   3.09e+07  -2.34e+07      0.000   -7.23e+14   -7.23e+14\n",
       "Client_name_Williams Lea                    -3.549e+13   4.68e+07  -7.59e+05      0.000   -3.55e+13   -3.55e+13\n",
       "Industry_BFSI                               -7.817e+14   9.69e+06  -8.06e+07      0.000   -7.82e+14   -7.82e+14\n",
       "Industry_Electronics                         2.301e+14   9.76e+06   2.36e+07      0.000     2.3e+14     2.3e+14\n",
       "Industry_IT                                  8.313e+14   1.59e+07   5.24e+07      0.000    8.31e+14    8.31e+14\n",
       "Industry_Pharmaceuticals                    -6.022e+14   1.05e+07  -5.75e+07      0.000   -6.02e+14   -6.02e+14\n",
       "Closed_pos_Non-Routine                       1.429e+14   6.39e+06   2.24e+07      0.000    1.43e+14    1.43e+14\n",
       "Closed_pos_Routine                          -4.655e+14   5.73e+06  -8.12e+07      0.000   -4.65e+14   -4.65e+14\n",
       "Interview_type_scheduled                    -7.492e+13   8.96e+06  -8.36e+06      0.000   -7.49e+13   -7.49e+13\n",
       "Interview_type_scheduled_walkin             -5.213e+14   5.99e+06  -8.71e+07      0.000   -5.21e+14   -5.21e+14\n",
       "Interview_type_walkin                        2.736e+14   8.12e+06   3.37e+07      0.000    2.74e+14    2.74e+14\n",
       "Gender_Female                               -2.206e+14   3.51e+06  -6.28e+07      0.000   -2.21e+14   -2.21e+14\n",
       "Gender_Male                                  -1.02e+14   3.26e+06  -3.13e+07      0.000   -1.02e+14   -1.02e+14\n",
       "Curr_loc_Chennai                            -1.496e+15    2.2e+07   -6.8e+07      0.000    -1.5e+15    -1.5e+15\n",
       "Curr_loc_bangalore                           -4.16e+14   2.28e+07  -1.83e+07      0.000   -4.16e+14   -4.16e+14\n",
       "Curr_loc_delhi                               1.228e+15   4.22e+07   2.91e+07      0.000    1.23e+15    1.23e+15\n",
       "Curr_loc_gurgaon                            -9.354e+11   3.38e+07  -2.77e+04      0.000   -9.35e+11   -9.35e+11\n",
       "Curr_loc_noida                               3.623e+14   1.08e+07   3.35e+07      0.000    3.62e+14    3.62e+14\n",
       "Curr_job_loc_bangalore                        1.32e+15   5.11e+07   2.58e+07      0.000    1.32e+15    1.32e+15\n",
       "Curr_job_loc_chennai                        -2.327e+15   4.57e+07  -5.09e+07      0.000   -2.33e+15   -2.33e+15\n",
       "Curr_job_loc_gurgaon                         1.227e+15    1.2e+07   1.03e+08      0.000    1.23e+15    1.23e+15\n",
       "Curr_job_loc_hosur                           -9.05e+14   5.54e+07  -1.63e+07      0.000   -9.05e+14   -9.05e+14\n",
       "Curr_job_loc_noida                           3.623e+14   1.08e+07   3.35e+07      0.000    3.62e+14    3.62e+14\n",
       "Interview_venue_bangalore                    -4.16e+14   2.28e+07  -1.83e+07      0.000   -4.16e+14   -4.16e+14\n",
       "Interview_venue_chennai                      3.885e+15    3.2e+07   1.21e+08      0.000    3.88e+15    3.88e+15\n",
       "Interview_venue_gurgaon                      1.227e+15    1.2e+07   1.03e+08      0.000    1.23e+15    1.23e+15\n",
       "Interview_venue_hosur                       -5.381e+15   2.89e+07  -1.86e+08      0.000   -5.38e+15   -5.38e+15\n",
       "Interview_venue_noida                        3.623e+14   1.08e+07   3.35e+07      0.000    3.62e+14    3.62e+14\n",
       "Permission_status_no                        -8.107e+14   1.25e+07  -6.46e+07      0.000   -8.11e+14   -8.11e+14\n",
       "Permission_status_yes                        4.882e+14   1.27e+07   3.86e+07      0.000    4.88e+14    4.88e+14\n",
       "Unscd_meet_status_no                        -4.959e+15   2.66e+07  -1.87e+08      0.000   -4.96e+15   -4.96e+15\n",
       "Unscd_meet_status_yes                        4.637e+15   2.68e+07   1.73e+08      0.000    4.64e+15    4.64e+15\n",
       "Followup_status_no                          -9.152e+14   1.63e+07  -5.63e+07      0.000   -9.15e+14   -9.15e+14\n",
       "Followup_status_yes                          5.926e+14   1.64e+07   3.61e+07      0.000    5.93e+14    5.93e+14\n",
       "AltNum_status_no                             2.775e+15   3.61e+07   7.68e+07      0.000    2.77e+15    2.77e+15\n",
       "AltNum_status_yes                           -3.097e+15   3.57e+07  -8.67e+07      0.000    -3.1e+15    -3.1e+15\n",
       "Resume_status_no                            -1.213e+15   1.24e+07  -9.75e+07      0.000   -1.21e+15   -1.21e+15\n",
       "Resume_status_yes                            8.906e+14   1.26e+07   7.04e+07      0.000    8.91e+14    8.91e+14\n",
       "Venue_status_no                              3.696e+15   1.41e+07   2.63e+08      0.000     3.7e+15     3.7e+15\n",
       "Venue_status_yes                            -4.019e+15   1.43e+07   -2.8e+08      0.000   -4.02e+15   -4.02e+15\n",
       "Call_letter_status_no                       -5.952e+14    1.3e+07  -4.59e+07      0.000   -5.95e+14   -5.95e+14\n",
       "Call_letter_status_yes                       2.727e+14   1.31e+07   2.08e+07      0.000    2.73e+14    2.73e+14\n",
       "Ex_attend_no                                -6.488e+15      1e+07  -6.46e+08      0.000   -6.49e+15   -6.49e+15\n",
       "Ex_attend_uncertain                          3.318e+15   9.51e+06   3.49e+08      0.000    3.32e+15    3.32e+15\n",
       "Ex_attend_yes                                2.847e+15   1.37e+07   2.08e+08      0.000    2.85e+15    2.85e+15\n",
       "Matital_status_Married                      -1.857e+14   3.13e+06  -5.93e+07      0.000   -1.86e+14   -1.86e+14\n",
       "Matital_status_Single                       -1.369e+14   3.15e+06  -4.35e+07      0.000   -1.37e+14   -1.37e+14\n",
       "Skill_Fresher                                1.254e+15   1.86e+07   6.73e+07      0.000    1.25e+15    1.25e+15\n",
       "Skill_Java                                  -5.445e+14    7.9e+06   -6.9e+07      0.000   -5.45e+14   -5.45e+14\n",
       "Skill_KYC                                   -6.141e+14    9.9e+06   -6.2e+07      0.000   -6.14e+14   -6.14e+14\n",
       "Skill_Operations                             1.318e+15   9.78e+06   1.35e+08      0.000    1.32e+15    1.32e+15\n",
       "Skill_Oracle                                -5.312e+14   1.01e+07  -5.24e+07      0.000   -5.31e+14   -5.31e+14\n",
       "Skill_Routine                               -8.031e+14   1.35e+07  -5.96e+07      0.000   -8.03e+14   -8.03e+14\n",
       "Skill_Testing                               -4.016e+14   2.23e+07   -1.8e+07      0.000   -4.02e+14   -4.02e+14\n",
       "===============================================================================================================\n",
       "\"\"\""
      ]
     },
     "execution_count": 175,
     "metadata": {},
     "output_type": "execute_result"
    }
   ],
   "source": [
    "lrresult.summary()"
   ]
  },
  {
   "cell_type": "code",
   "execution_count": null,
   "id": "6420ef24",
   "metadata": {},
   "outputs": [],
   "source": []
  },
  {
   "cell_type": "code",
   "execution_count": null,
   "id": "2ebdc747",
   "metadata": {},
   "outputs": [],
   "source": []
  },
  {
   "cell_type": "markdown",
   "id": "3fbbcb02",
   "metadata": {},
   "source": [
    "## Performing RFE"
   ]
  },
  {
   "cell_type": "code",
   "execution_count": 176,
   "id": "d3cdbb4c",
   "metadata": {},
   "outputs": [
    {
     "name": "stderr",
     "output_type": "stream",
     "text": [
      "C:\\Users\\user\\anaconda3\\lib\\site-packages\\sklearn\\linear_model\\_logistic.py:763: ConvergenceWarning: lbfgs failed to converge (status=1):\n",
      "STOP: TOTAL NO. of ITERATIONS REACHED LIMIT.\n",
      "\n",
      "Increase the number of iterations (max_iter) or scale the data as shown in:\n",
      "    https://scikit-learn.org/stable/modules/preprocessing.html\n",
      "Please also refer to the documentation for alternative solver options:\n",
      "    https://scikit-learn.org/stable/modules/linear_model.html#logistic-regression\n",
      "  n_iter_i = _check_optimize_result(\n"
     ]
    },
    {
     "data": {
      "text/plain": [
       "LogisticRegression()"
      ]
     },
     "execution_count": 176,
     "metadata": {},
     "output_type": "execute_result"
    }
   ],
   "source": [
    "model=linear_model.LogisticRegression()\n",
    "model.fit(Xtrain,ytrain)"
   ]
  },
  {
   "cell_type": "code",
   "execution_count": 177,
   "id": "5c504892",
   "metadata": {},
   "outputs": [],
   "source": [
    "#Recursive feature elimination\n",
    "rfeobj=feature_selection.RFE(estimator=model,n_features_to_select=10)"
   ]
  },
  {
   "cell_type": "code",
   "execution_count": 178,
   "id": "1f73ca0e",
   "metadata": {},
   "outputs": [
    {
     "name": "stderr",
     "output_type": "stream",
     "text": [
      "C:\\Users\\user\\anaconda3\\lib\\site-packages\\sklearn\\linear_model\\_logistic.py:763: ConvergenceWarning: lbfgs failed to converge (status=1):\n",
      "STOP: TOTAL NO. of ITERATIONS REACHED LIMIT.\n",
      "\n",
      "Increase the number of iterations (max_iter) or scale the data as shown in:\n",
      "    https://scikit-learn.org/stable/modules/preprocessing.html\n",
      "Please also refer to the documentation for alternative solver options:\n",
      "    https://scikit-learn.org/stable/modules/linear_model.html#logistic-regression\n",
      "  n_iter_i = _check_optimize_result(\n",
      "C:\\Users\\user\\anaconda3\\lib\\site-packages\\sklearn\\linear_model\\_logistic.py:763: ConvergenceWarning: lbfgs failed to converge (status=1):\n",
      "STOP: TOTAL NO. of ITERATIONS REACHED LIMIT.\n",
      "\n",
      "Increase the number of iterations (max_iter) or scale the data as shown in:\n",
      "    https://scikit-learn.org/stable/modules/preprocessing.html\n",
      "Please also refer to the documentation for alternative solver options:\n",
      "    https://scikit-learn.org/stable/modules/linear_model.html#logistic-regression\n",
      "  n_iter_i = _check_optimize_result(\n",
      "C:\\Users\\user\\anaconda3\\lib\\site-packages\\sklearn\\linear_model\\_logistic.py:763: ConvergenceWarning: lbfgs failed to converge (status=1):\n",
      "STOP: TOTAL NO. of ITERATIONS REACHED LIMIT.\n",
      "\n",
      "Increase the number of iterations (max_iter) or scale the data as shown in:\n",
      "    https://scikit-learn.org/stable/modules/preprocessing.html\n",
      "Please also refer to the documentation for alternative solver options:\n",
      "    https://scikit-learn.org/stable/modules/linear_model.html#logistic-regression\n",
      "  n_iter_i = _check_optimize_result(\n",
      "C:\\Users\\user\\anaconda3\\lib\\site-packages\\sklearn\\linear_model\\_logistic.py:763: ConvergenceWarning: lbfgs failed to converge (status=1):\n",
      "STOP: TOTAL NO. of ITERATIONS REACHED LIMIT.\n",
      "\n",
      "Increase the number of iterations (max_iter) or scale the data as shown in:\n",
      "    https://scikit-learn.org/stable/modules/preprocessing.html\n",
      "Please also refer to the documentation for alternative solver options:\n",
      "    https://scikit-learn.org/stable/modules/linear_model.html#logistic-regression\n",
      "  n_iter_i = _check_optimize_result(\n",
      "C:\\Users\\user\\anaconda3\\lib\\site-packages\\sklearn\\linear_model\\_logistic.py:763: ConvergenceWarning: lbfgs failed to converge (status=1):\n",
      "STOP: TOTAL NO. of ITERATIONS REACHED LIMIT.\n",
      "\n",
      "Increase the number of iterations (max_iter) or scale the data as shown in:\n",
      "    https://scikit-learn.org/stable/modules/preprocessing.html\n",
      "Please also refer to the documentation for alternative solver options:\n",
      "    https://scikit-learn.org/stable/modules/linear_model.html#logistic-regression\n",
      "  n_iter_i = _check_optimize_result(\n",
      "C:\\Users\\user\\anaconda3\\lib\\site-packages\\sklearn\\linear_model\\_logistic.py:763: ConvergenceWarning: lbfgs failed to converge (status=1):\n",
      "STOP: TOTAL NO. of ITERATIONS REACHED LIMIT.\n",
      "\n",
      "Increase the number of iterations (max_iter) or scale the data as shown in:\n",
      "    https://scikit-learn.org/stable/modules/preprocessing.html\n",
      "Please also refer to the documentation for alternative solver options:\n",
      "    https://scikit-learn.org/stable/modules/linear_model.html#logistic-regression\n",
      "  n_iter_i = _check_optimize_result(\n",
      "C:\\Users\\user\\anaconda3\\lib\\site-packages\\sklearn\\linear_model\\_logistic.py:763: ConvergenceWarning: lbfgs failed to converge (status=1):\n",
      "STOP: TOTAL NO. of ITERATIONS REACHED LIMIT.\n",
      "\n",
      "Increase the number of iterations (max_iter) or scale the data as shown in:\n",
      "    https://scikit-learn.org/stable/modules/preprocessing.html\n",
      "Please also refer to the documentation for alternative solver options:\n",
      "    https://scikit-learn.org/stable/modules/linear_model.html#logistic-regression\n",
      "  n_iter_i = _check_optimize_result(\n",
      "C:\\Users\\user\\anaconda3\\lib\\site-packages\\sklearn\\linear_model\\_logistic.py:763: ConvergenceWarning: lbfgs failed to converge (status=1):\n",
      "STOP: TOTAL NO. of ITERATIONS REACHED LIMIT.\n",
      "\n",
      "Increase the number of iterations (max_iter) or scale the data as shown in:\n",
      "    https://scikit-learn.org/stable/modules/preprocessing.html\n",
      "Please also refer to the documentation for alternative solver options:\n",
      "    https://scikit-learn.org/stable/modules/linear_model.html#logistic-regression\n",
      "  n_iter_i = _check_optimize_result(\n"
     ]
    },
    {
     "data": {
      "text/plain": [
       "RFE(estimator=LogisticRegression(), n_features_to_select=10)"
      ]
     },
     "execution_count": 178,
     "metadata": {},
     "output_type": "execute_result"
    }
   ],
   "source": [
    "rfeobj.fit(Xtrain,ytrain)"
   ]
  },
  {
   "cell_type": "code",
   "execution_count": 179,
   "id": "60354de5",
   "metadata": {},
   "outputs": [
    {
     "data": {
      "text/plain": [
       "Index(['Client_name_ANZ', 'Client_name_Hospira', 'Interview_type_scheduled',\n",
       "       'Interview_venue_hosur', 'Permission_status_no', 'Resume_status_no',\n",
       "       'Venue_status_no', 'Ex_attend_no', 'Ex_attend_uncertain',\n",
       "       'Ex_attend_yes'],\n",
       "      dtype='object')"
      ]
     },
     "execution_count": 179,
     "metadata": {},
     "output_type": "execute_result"
    }
   ],
   "source": [
    "Xtrain.columns[rfeobj.support_]"
   ]
  },
  {
   "cell_type": "code",
   "execution_count": 180,
   "id": "f202e77b",
   "metadata": {},
   "outputs": [],
   "source": [
    "arr=rfeobj.transform(Xtrain)"
   ]
  },
  {
   "cell_type": "code",
   "execution_count": 181,
   "id": "2f7e6dbc",
   "metadata": {},
   "outputs": [],
   "source": [
    "Xtrain1=pd.DataFrame(arr,columns=Xtrain.columns[rfeobj.support_],index=Xtrain.index)"
   ]
  },
  {
   "cell_type": "code",
   "execution_count": 182,
   "id": "712724ed",
   "metadata": {},
   "outputs": [
    {
     "data": {
      "text/html": [
       "<div>\n",
       "<style scoped>\n",
       "    .dataframe tbody tr th:only-of-type {\n",
       "        vertical-align: middle;\n",
       "    }\n",
       "\n",
       "    .dataframe tbody tr th {\n",
       "        vertical-align: top;\n",
       "    }\n",
       "\n",
       "    .dataframe thead th {\n",
       "        text-align: right;\n",
       "    }\n",
       "</style>\n",
       "<table border=\"1\" class=\"dataframe\">\n",
       "  <thead>\n",
       "    <tr style=\"text-align: right;\">\n",
       "      <th></th>\n",
       "      <th>Client_name_ANZ</th>\n",
       "      <th>Client_name_Hospira</th>\n",
       "      <th>Interview_type_scheduled</th>\n",
       "      <th>Interview_venue_hosur</th>\n",
       "      <th>Permission_status_no</th>\n",
       "      <th>Resume_status_no</th>\n",
       "      <th>Venue_status_no</th>\n",
       "      <th>Ex_attend_no</th>\n",
       "      <th>Ex_attend_uncertain</th>\n",
       "      <th>Ex_attend_yes</th>\n",
       "    </tr>\n",
       "  </thead>\n",
       "  <tbody>\n",
       "    <tr>\n",
       "      <th>13</th>\n",
       "      <td>0</td>\n",
       "      <td>0</td>\n",
       "      <td>0</td>\n",
       "      <td>0</td>\n",
       "      <td>1</td>\n",
       "      <td>0</td>\n",
       "      <td>0</td>\n",
       "      <td>0</td>\n",
       "      <td>1</td>\n",
       "      <td>0</td>\n",
       "    </tr>\n",
       "    <tr>\n",
       "      <th>74</th>\n",
       "      <td>0</td>\n",
       "      <td>0</td>\n",
       "      <td>0</td>\n",
       "      <td>0</td>\n",
       "      <td>0</td>\n",
       "      <td>0</td>\n",
       "      <td>0</td>\n",
       "      <td>0</td>\n",
       "      <td>0</td>\n",
       "      <td>1</td>\n",
       "    </tr>\n",
       "    <tr>\n",
       "      <th>815</th>\n",
       "      <td>0</td>\n",
       "      <td>0</td>\n",
       "      <td>0</td>\n",
       "      <td>0</td>\n",
       "      <td>0</td>\n",
       "      <td>0</td>\n",
       "      <td>0</td>\n",
       "      <td>0</td>\n",
       "      <td>0</td>\n",
       "      <td>1</td>\n",
       "    </tr>\n",
       "    <tr>\n",
       "      <th>895</th>\n",
       "      <td>0</td>\n",
       "      <td>0</td>\n",
       "      <td>0</td>\n",
       "      <td>0</td>\n",
       "      <td>0</td>\n",
       "      <td>0</td>\n",
       "      <td>0</td>\n",
       "      <td>0</td>\n",
       "      <td>0</td>\n",
       "      <td>1</td>\n",
       "    </tr>\n",
       "    <tr>\n",
       "      <th>447</th>\n",
       "      <td>0</td>\n",
       "      <td>0</td>\n",
       "      <td>0</td>\n",
       "      <td>0</td>\n",
       "      <td>0</td>\n",
       "      <td>0</td>\n",
       "      <td>0</td>\n",
       "      <td>0</td>\n",
       "      <td>0</td>\n",
       "      <td>1</td>\n",
       "    </tr>\n",
       "  </tbody>\n",
       "</table>\n",
       "</div>"
      ],
      "text/plain": [
       "     Client_name_ANZ  Client_name_Hospira  Interview_type_scheduled  \\\n",
       "13                 0                    0                         0   \n",
       "74                 0                    0                         0   \n",
       "815                0                    0                         0   \n",
       "895                0                    0                         0   \n",
       "447                0                    0                         0   \n",
       "\n",
       "     Interview_venue_hosur  Permission_status_no  Resume_status_no  \\\n",
       "13                       0                     1                 0   \n",
       "74                       0                     0                 0   \n",
       "815                      0                     0                 0   \n",
       "895                      0                     0                 0   \n",
       "447                      0                     0                 0   \n",
       "\n",
       "     Venue_status_no  Ex_attend_no  Ex_attend_uncertain  Ex_attend_yes  \n",
       "13                 0             0                    1              0  \n",
       "74                 0             0                    0              1  \n",
       "815                0             0                    0              1  \n",
       "895                0             0                    0              1  \n",
       "447                0             0                    0              1  "
      ]
     },
     "execution_count": 182,
     "metadata": {},
     "output_type": "execute_result"
    }
   ],
   "source": [
    "Xtrain1[:5]"
   ]
  },
  {
   "cell_type": "code",
   "execution_count": 183,
   "id": "ce533ce7",
   "metadata": {},
   "outputs": [],
   "source": [
    "Xtest1=pd.DataFrame(rfeobj.transform(Xtest),columns=Xtest.columns[rfeobj.support_],index=Xtest.index)"
   ]
  },
  {
   "cell_type": "code",
   "execution_count": 184,
   "id": "33605a6e",
   "metadata": {},
   "outputs": [
    {
     "data": {
      "text/html": [
       "<div>\n",
       "<style scoped>\n",
       "    .dataframe tbody tr th:only-of-type {\n",
       "        vertical-align: middle;\n",
       "    }\n",
       "\n",
       "    .dataframe tbody tr th {\n",
       "        vertical-align: top;\n",
       "    }\n",
       "\n",
       "    .dataframe thead th {\n",
       "        text-align: right;\n",
       "    }\n",
       "</style>\n",
       "<table border=\"1\" class=\"dataframe\">\n",
       "  <thead>\n",
       "    <tr style=\"text-align: right;\">\n",
       "      <th></th>\n",
       "      <th>Client_name_ANZ</th>\n",
       "      <th>Client_name_Hospira</th>\n",
       "      <th>Interview_type_scheduled</th>\n",
       "      <th>Interview_venue_hosur</th>\n",
       "      <th>Permission_status_no</th>\n",
       "      <th>Resume_status_no</th>\n",
       "      <th>Venue_status_no</th>\n",
       "      <th>Ex_attend_no</th>\n",
       "      <th>Ex_attend_uncertain</th>\n",
       "      <th>Ex_attend_yes</th>\n",
       "    </tr>\n",
       "  </thead>\n",
       "  <tbody>\n",
       "    <tr>\n",
       "      <th>770</th>\n",
       "      <td>0</td>\n",
       "      <td>0</td>\n",
       "      <td>1</td>\n",
       "      <td>0</td>\n",
       "      <td>0</td>\n",
       "      <td>0</td>\n",
       "      <td>0</td>\n",
       "      <td>0</td>\n",
       "      <td>0</td>\n",
       "      <td>1</td>\n",
       "    </tr>\n",
       "    <tr>\n",
       "      <th>346</th>\n",
       "      <td>0</td>\n",
       "      <td>0</td>\n",
       "      <td>0</td>\n",
       "      <td>0</td>\n",
       "      <td>1</td>\n",
       "      <td>1</td>\n",
       "      <td>1</td>\n",
       "      <td>0</td>\n",
       "      <td>1</td>\n",
       "      <td>0</td>\n",
       "    </tr>\n",
       "    <tr>\n",
       "      <th>558</th>\n",
       "      <td>0</td>\n",
       "      <td>0</td>\n",
       "      <td>0</td>\n",
       "      <td>0</td>\n",
       "      <td>0</td>\n",
       "      <td>0</td>\n",
       "      <td>0</td>\n",
       "      <td>0</td>\n",
       "      <td>0</td>\n",
       "      <td>1</td>\n",
       "    </tr>\n",
       "    <tr>\n",
       "      <th>587</th>\n",
       "      <td>0</td>\n",
       "      <td>0</td>\n",
       "      <td>0</td>\n",
       "      <td>0</td>\n",
       "      <td>0</td>\n",
       "      <td>0</td>\n",
       "      <td>0</td>\n",
       "      <td>0</td>\n",
       "      <td>0</td>\n",
       "      <td>1</td>\n",
       "    </tr>\n",
       "    <tr>\n",
       "      <th>274</th>\n",
       "      <td>0</td>\n",
       "      <td>0</td>\n",
       "      <td>0</td>\n",
       "      <td>0</td>\n",
       "      <td>0</td>\n",
       "      <td>0</td>\n",
       "      <td>0</td>\n",
       "      <td>0</td>\n",
       "      <td>0</td>\n",
       "      <td>1</td>\n",
       "    </tr>\n",
       "  </tbody>\n",
       "</table>\n",
       "</div>"
      ],
      "text/plain": [
       "     Client_name_ANZ  Client_name_Hospira  Interview_type_scheduled  \\\n",
       "770                0                    0                         1   \n",
       "346                0                    0                         0   \n",
       "558                0                    0                         0   \n",
       "587                0                    0                         0   \n",
       "274                0                    0                         0   \n",
       "\n",
       "     Interview_venue_hosur  Permission_status_no  Resume_status_no  \\\n",
       "770                      0                     0                 0   \n",
       "346                      0                     1                 1   \n",
       "558                      0                     0                 0   \n",
       "587                      0                     0                 0   \n",
       "274                      0                     0                 0   \n",
       "\n",
       "     Venue_status_no  Ex_attend_no  Ex_attend_uncertain  Ex_attend_yes  \n",
       "770                0             0                    0              1  \n",
       "346                1             0                    1              0  \n",
       "558                0             0                    0              1  \n",
       "587                0             0                    0              1  \n",
       "274                0             0                    0              1  "
      ]
     },
     "execution_count": 184,
     "metadata": {},
     "output_type": "execute_result"
    }
   ],
   "source": [
    "Xtest1[:5]"
   ]
  },
  {
   "cell_type": "code",
   "execution_count": 185,
   "id": "2d3c7ea0",
   "metadata": {},
   "outputs": [
    {
     "data": {
      "text/plain": [
       "LogisticRegression()"
      ]
     },
     "execution_count": 185,
     "metadata": {},
     "output_type": "execute_result"
    }
   ],
   "source": [
    "model=linear_model.LogisticRegression()\n",
    "model.fit(Xtrain1,ytrain)"
   ]
  },
  {
   "cell_type": "code",
   "execution_count": 186,
   "id": "5e8fb321",
   "metadata": {},
   "outputs": [],
   "source": [
    "trainpred=model.predict(Xtrain1)\n",
    "testpred=model.predict(Xtest1)"
   ]
  },
  {
   "cell_type": "markdown",
   "id": "2201135d",
   "metadata": {},
   "source": [
    "## Metrics for the model"
   ]
  },
  {
   "cell_type": "code",
   "execution_count": 187,
   "id": "8b618fb0",
   "metadata": {},
   "outputs": [
    {
     "name": "stdout",
     "output_type": "stream",
     "text": [
      "-----Train data-----\n",
      "precision : 0.7102966841186736\n",
      "AUC : 0.6406156998952738\n",
      "-----Test data-----\n",
      "precision : 0.7412587412587412\n",
      "AUC : 0.684866828087167\n"
     ]
    }
   ],
   "source": [
    "print(\"-----Train data-----\")\n",
    "print(\"precision :\",metrics.precision_score(ytrain,trainpred))\n",
    "print(\"AUC :\",metrics.roc_auc_score(ytrain,trainpred))\n",
    "print(\"-----Test data-----\")\n",
    "print(\"precision :\",metrics.precision_score(ytest,testpred))\n",
    "print(\"AUC :\",metrics.roc_auc_score(ytest,testpred))"
   ]
  },
  {
   "cell_type": "code",
   "execution_count": 188,
   "id": "f1e66ab5",
   "metadata": {},
   "outputs": [
    {
     "data": {
      "text/plain": [
       "Index(['Client_name_ANZ', 'Client_name_Hospira', 'Interview_type_scheduled',\n",
       "       'Interview_venue_hosur', 'Permission_status_no', 'Resume_status_no',\n",
       "       'Venue_status_no', 'Ex_attend_no', 'Ex_attend_uncertain',\n",
       "       'Ex_attend_yes'],\n",
       "      dtype='object')"
      ]
     },
     "execution_count": 188,
     "metadata": {},
     "output_type": "execute_result"
    }
   ],
   "source": [
    "## Final Columns to be chosen\n",
    "Xtrain.columns[rfeobj.support_]"
   ]
  },
  {
   "cell_type": "code",
   "execution_count": null,
   "id": "24f95d14",
   "metadata": {},
   "outputs": [],
   "source": []
  },
  {
   "cell_type": "code",
   "execution_count": null,
   "id": "933813e9",
   "metadata": {},
   "outputs": [],
   "source": []
  },
  {
   "cell_type": "code",
   "execution_count": null,
   "id": "715d3833",
   "metadata": {},
   "outputs": [],
   "source": []
  },
  {
   "cell_type": "markdown",
   "id": "561fae33",
   "metadata": {},
   "source": [
    "# Model2: Decision Tree"
   ]
  },
  {
   "cell_type": "code",
   "execution_count": 215,
   "id": "04909e4f",
   "metadata": {},
   "outputs": [],
   "source": [
    "df=pd.read_csv(\"F:\\Programming\\Machine Learning\\ClassWorks\\project\\interview(Cleaned).csv\")"
   ]
  },
  {
   "cell_type": "code",
   "execution_count": 216,
   "id": "62a2d75f",
   "metadata": {},
   "outputs": [
    {
     "data": {
      "text/html": [
       "<div>\n",
       "<style scoped>\n",
       "    .dataframe tbody tr th:only-of-type {\n",
       "        vertical-align: middle;\n",
       "    }\n",
       "\n",
       "    .dataframe tbody tr th {\n",
       "        vertical-align: top;\n",
       "    }\n",
       "\n",
       "    .dataframe thead th {\n",
       "        text-align: right;\n",
       "    }\n",
       "</style>\n",
       "<table border=\"1\" class=\"dataframe\">\n",
       "  <thead>\n",
       "    <tr style=\"text-align: right;\">\n",
       "      <th></th>\n",
       "      <th>Client_name</th>\n",
       "      <th>Industry</th>\n",
       "      <th>Closed_pos</th>\n",
       "      <th>Interview_type</th>\n",
       "      <th>Gender</th>\n",
       "      <th>Curr_loc</th>\n",
       "      <th>Curr_job_loc</th>\n",
       "      <th>Interview_venue</th>\n",
       "      <th>Permission_status</th>\n",
       "      <th>Unscd_meet_status</th>\n",
       "      <th>Followup_status</th>\n",
       "      <th>AltNum_status</th>\n",
       "      <th>Resume_status</th>\n",
       "      <th>Venue_status</th>\n",
       "      <th>Call_letter_status</th>\n",
       "      <th>Ex_attend</th>\n",
       "      <th>Obs_attend</th>\n",
       "      <th>Matital_status</th>\n",
       "      <th>Skill</th>\n",
       "    </tr>\n",
       "  </thead>\n",
       "  <tbody>\n",
       "    <tr>\n",
       "      <th>0</th>\n",
       "      <td>Hospira</td>\n",
       "      <td>Pharmaceuticals</td>\n",
       "      <td>Non-Routine</td>\n",
       "      <td>scheduled_walkin</td>\n",
       "      <td>Male</td>\n",
       "      <td>Chennai</td>\n",
       "      <td>hosur</td>\n",
       "      <td>hosur</td>\n",
       "      <td>yes</td>\n",
       "      <td>yes</td>\n",
       "      <td>yes</td>\n",
       "      <td>yes</td>\n",
       "      <td>yes</td>\n",
       "      <td>yes</td>\n",
       "      <td>yes</td>\n",
       "      <td>yes</td>\n",
       "      <td>no</td>\n",
       "      <td>Single</td>\n",
       "      <td>Routine</td>\n",
       "    </tr>\n",
       "    <tr>\n",
       "      <th>1</th>\n",
       "      <td>Hospira</td>\n",
       "      <td>Pharmaceuticals</td>\n",
       "      <td>Non-Routine</td>\n",
       "      <td>scheduled_walkin</td>\n",
       "      <td>Male</td>\n",
       "      <td>Chennai</td>\n",
       "      <td>bangalore</td>\n",
       "      <td>hosur</td>\n",
       "      <td>yes</td>\n",
       "      <td>yes</td>\n",
       "      <td>yes</td>\n",
       "      <td>yes</td>\n",
       "      <td>yes</td>\n",
       "      <td>yes</td>\n",
       "      <td>yes</td>\n",
       "      <td>yes</td>\n",
       "      <td>no</td>\n",
       "      <td>Single</td>\n",
       "      <td>Routine</td>\n",
       "    </tr>\n",
       "    <tr>\n",
       "      <th>2</th>\n",
       "      <td>Hospira</td>\n",
       "      <td>Pharmaceuticals</td>\n",
       "      <td>Non-Routine</td>\n",
       "      <td>scheduled_walkin</td>\n",
       "      <td>Male</td>\n",
       "      <td>Chennai</td>\n",
       "      <td>chennai</td>\n",
       "      <td>hosur</td>\n",
       "      <td>no</td>\n",
       "      <td>no</td>\n",
       "      <td>no</td>\n",
       "      <td>no</td>\n",
       "      <td>no</td>\n",
       "      <td>no</td>\n",
       "      <td>no</td>\n",
       "      <td>uncertain</td>\n",
       "      <td>no</td>\n",
       "      <td>Single</td>\n",
       "      <td>Routine</td>\n",
       "    </tr>\n",
       "    <tr>\n",
       "      <th>3</th>\n",
       "      <td>Hospira</td>\n",
       "      <td>Pharmaceuticals</td>\n",
       "      <td>Non-Routine</td>\n",
       "      <td>scheduled_walkin</td>\n",
       "      <td>Male</td>\n",
       "      <td>Chennai</td>\n",
       "      <td>chennai</td>\n",
       "      <td>hosur</td>\n",
       "      <td>yes</td>\n",
       "      <td>yes</td>\n",
       "      <td>no</td>\n",
       "      <td>yes</td>\n",
       "      <td>no</td>\n",
       "      <td>yes</td>\n",
       "      <td>yes</td>\n",
       "      <td>uncertain</td>\n",
       "      <td>no</td>\n",
       "      <td>Single</td>\n",
       "      <td>Routine</td>\n",
       "    </tr>\n",
       "    <tr>\n",
       "      <th>4</th>\n",
       "      <td>Hospira</td>\n",
       "      <td>Pharmaceuticals</td>\n",
       "      <td>Non-Routine</td>\n",
       "      <td>scheduled_walkin</td>\n",
       "      <td>Male</td>\n",
       "      <td>Chennai</td>\n",
       "      <td>bangalore</td>\n",
       "      <td>hosur</td>\n",
       "      <td>yes</td>\n",
       "      <td>yes</td>\n",
       "      <td>yes</td>\n",
       "      <td>yes</td>\n",
       "      <td>yes</td>\n",
       "      <td>yes</td>\n",
       "      <td>yes</td>\n",
       "      <td>uncertain</td>\n",
       "      <td>no</td>\n",
       "      <td>Married</td>\n",
       "      <td>Routine</td>\n",
       "    </tr>\n",
       "    <tr>\n",
       "      <th>5</th>\n",
       "      <td>Aon Hewitt</td>\n",
       "      <td>IT</td>\n",
       "      <td>Non-Routine</td>\n",
       "      <td>scheduled_walkin</td>\n",
       "      <td>Male</td>\n",
       "      <td>gurgaon</td>\n",
       "      <td>gurgaon</td>\n",
       "      <td>gurgaon</td>\n",
       "      <td>yes</td>\n",
       "      <td>yes</td>\n",
       "      <td>yes</td>\n",
       "      <td>yes</td>\n",
       "      <td>yes</td>\n",
       "      <td>yes</td>\n",
       "      <td>yes</td>\n",
       "      <td>yes</td>\n",
       "      <td>yes</td>\n",
       "      <td>Single</td>\n",
       "      <td>Routine</td>\n",
       "    </tr>\n",
       "    <tr>\n",
       "      <th>6</th>\n",
       "      <td>Aon Hewitt</td>\n",
       "      <td>IT</td>\n",
       "      <td>Non-Routine</td>\n",
       "      <td>scheduled_walkin</td>\n",
       "      <td>Male</td>\n",
       "      <td>gurgaon</td>\n",
       "      <td>gurgaon</td>\n",
       "      <td>gurgaon</td>\n",
       "      <td>yes</td>\n",
       "      <td>yes</td>\n",
       "      <td>yes</td>\n",
       "      <td>yes</td>\n",
       "      <td>yes</td>\n",
       "      <td>yes</td>\n",
       "      <td>yes</td>\n",
       "      <td>yes</td>\n",
       "      <td>yes</td>\n",
       "      <td>Single</td>\n",
       "      <td>Routine</td>\n",
       "    </tr>\n",
       "    <tr>\n",
       "      <th>7</th>\n",
       "      <td>Aon Hewitt</td>\n",
       "      <td>IT</td>\n",
       "      <td>Non-Routine</td>\n",
       "      <td>scheduled_walkin</td>\n",
       "      <td>Female</td>\n",
       "      <td>gurgaon</td>\n",
       "      <td>gurgaon</td>\n",
       "      <td>gurgaon</td>\n",
       "      <td>yes</td>\n",
       "      <td>yes</td>\n",
       "      <td>yes</td>\n",
       "      <td>yes</td>\n",
       "      <td>yes</td>\n",
       "      <td>yes</td>\n",
       "      <td>yes</td>\n",
       "      <td>yes</td>\n",
       "      <td>yes</td>\n",
       "      <td>Single</td>\n",
       "      <td>Routine</td>\n",
       "    </tr>\n",
       "    <tr>\n",
       "      <th>8</th>\n",
       "      <td>Aon Hewitt</td>\n",
       "      <td>IT</td>\n",
       "      <td>Non-Routine</td>\n",
       "      <td>scheduled_walkin</td>\n",
       "      <td>Male</td>\n",
       "      <td>gurgaon</td>\n",
       "      <td>gurgaon</td>\n",
       "      <td>gurgaon</td>\n",
       "      <td>yes</td>\n",
       "      <td>yes</td>\n",
       "      <td>yes</td>\n",
       "      <td>yes</td>\n",
       "      <td>yes</td>\n",
       "      <td>yes</td>\n",
       "      <td>yes</td>\n",
       "      <td>yes</td>\n",
       "      <td>yes</td>\n",
       "      <td>Single</td>\n",
       "      <td>Routine</td>\n",
       "    </tr>\n",
       "    <tr>\n",
       "      <th>9</th>\n",
       "      <td>Aon Hewitt</td>\n",
       "      <td>IT</td>\n",
       "      <td>Non-Routine</td>\n",
       "      <td>scheduled_walkin</td>\n",
       "      <td>Female</td>\n",
       "      <td>gurgaon</td>\n",
       "      <td>gurgaon</td>\n",
       "      <td>gurgaon</td>\n",
       "      <td>yes</td>\n",
       "      <td>yes</td>\n",
       "      <td>yes</td>\n",
       "      <td>yes</td>\n",
       "      <td>yes</td>\n",
       "      <td>yes</td>\n",
       "      <td>yes</td>\n",
       "      <td>yes</td>\n",
       "      <td>no</td>\n",
       "      <td>Single</td>\n",
       "      <td>Routine</td>\n",
       "    </tr>\n",
       "  </tbody>\n",
       "</table>\n",
       "</div>"
      ],
      "text/plain": [
       "  Client_name         Industry   Closed_pos    Interview_type  Gender  \\\n",
       "0     Hospira  Pharmaceuticals  Non-Routine  scheduled_walkin    Male   \n",
       "1     Hospira  Pharmaceuticals  Non-Routine  scheduled_walkin    Male   \n",
       "2     Hospira  Pharmaceuticals  Non-Routine  scheduled_walkin    Male   \n",
       "3     Hospira  Pharmaceuticals  Non-Routine  scheduled_walkin    Male   \n",
       "4     Hospira  Pharmaceuticals  Non-Routine  scheduled_walkin    Male   \n",
       "5  Aon Hewitt               IT  Non-Routine  scheduled_walkin    Male   \n",
       "6  Aon Hewitt               IT  Non-Routine  scheduled_walkin    Male   \n",
       "7  Aon Hewitt               IT  Non-Routine  scheduled_walkin  Female   \n",
       "8  Aon Hewitt               IT  Non-Routine  scheduled_walkin    Male   \n",
       "9  Aon Hewitt               IT  Non-Routine  scheduled_walkin  Female   \n",
       "\n",
       "  Curr_loc Curr_job_loc Interview_venue Permission_status Unscd_meet_status  \\\n",
       "0  Chennai        hosur           hosur               yes               yes   \n",
       "1  Chennai    bangalore           hosur               yes               yes   \n",
       "2  Chennai      chennai           hosur                no                no   \n",
       "3  Chennai      chennai           hosur               yes               yes   \n",
       "4  Chennai    bangalore           hosur               yes               yes   \n",
       "5  gurgaon      gurgaon         gurgaon               yes               yes   \n",
       "6  gurgaon      gurgaon         gurgaon               yes               yes   \n",
       "7  gurgaon      gurgaon         gurgaon               yes               yes   \n",
       "8  gurgaon      gurgaon         gurgaon               yes               yes   \n",
       "9  gurgaon      gurgaon         gurgaon               yes               yes   \n",
       "\n",
       "  Followup_status AltNum_status Resume_status Venue_status Call_letter_status  \\\n",
       "0             yes           yes           yes          yes                yes   \n",
       "1             yes           yes           yes          yes                yes   \n",
       "2              no            no            no           no                 no   \n",
       "3              no           yes            no          yes                yes   \n",
       "4             yes           yes           yes          yes                yes   \n",
       "5             yes           yes           yes          yes                yes   \n",
       "6             yes           yes           yes          yes                yes   \n",
       "7             yes           yes           yes          yes                yes   \n",
       "8             yes           yes           yes          yes                yes   \n",
       "9             yes           yes           yes          yes                yes   \n",
       "\n",
       "   Ex_attend Obs_attend Matital_status    Skill  \n",
       "0        yes         no         Single  Routine  \n",
       "1        yes         no         Single  Routine  \n",
       "2  uncertain         no         Single  Routine  \n",
       "3  uncertain         no         Single  Routine  \n",
       "4  uncertain         no        Married  Routine  \n",
       "5        yes        yes         Single  Routine  \n",
       "6        yes        yes         Single  Routine  \n",
       "7        yes        yes         Single  Routine  \n",
       "8        yes        yes         Single  Routine  \n",
       "9        yes         no         Single  Routine  "
      ]
     },
     "execution_count": 216,
     "metadata": {},
     "output_type": "execute_result"
    }
   ],
   "source": [
    "df.head(10)"
   ]
  },
  {
   "cell_type": "code",
   "execution_count": 217,
   "id": "d22cd9e5",
   "metadata": {},
   "outputs": [
    {
     "data": {
      "text/plain": [
       "(940, 19)"
      ]
     },
     "execution_count": 217,
     "metadata": {},
     "output_type": "execute_result"
    }
   ],
   "source": [
    "df.shape"
   ]
  },
  {
   "cell_type": "code",
   "execution_count": 218,
   "id": "463fcc71",
   "metadata": {},
   "outputs": [],
   "source": [
    "df[\"Ex_attend\"]=df[\"Ex_attend\"].replace({\"yes\":1,\"no\":0,\"uncertain\":2})"
   ]
  },
  {
   "cell_type": "code",
   "execution_count": 219,
   "id": "8fda7e4c",
   "metadata": {},
   "outputs": [],
   "source": [
    "#Applying LabelEndoding on all the categorical columns\n",
    "from sklearn import preprocessing\n",
    "le = preprocessing.LabelEncoder()\n",
    "for column_name in df.columns:\n",
    "    if df[column_name].dtype == object:\n",
    "        df[column_name] = le.fit_transform(df[column_name])\n",
    "    else:\n",
    "        pass"
   ]
  },
  {
   "cell_type": "code",
   "execution_count": 220,
   "id": "922836f0",
   "metadata": {},
   "outputs": [],
   "source": [
    "#X->Data    \n",
    "#y-> Target column : 1-> \"will attend the interview\" , 0-> \"will NOT attend the interview\"\n",
    "X=df.drop(\"Obs_attend\",axis=1)\n",
    "y=df[\"Obs_attend\"]"
   ]
  },
  {
   "cell_type": "code",
   "execution_count": 221,
   "id": "a28cece7",
   "metadata": {},
   "outputs": [],
   "source": [
    "def printscores(act,pred):\n",
    "    print(\"precision :\",metrics.precision_score(act,pred))\n",
    "    print(\"AUC :\",metrics.roc_auc_score(act,pred))"
   ]
  },
  {
   "cell_type": "code",
   "execution_count": 222,
   "id": "3bdfbed7",
   "metadata": {},
   "outputs": [
    {
     "data": {
      "text/html": [
       "<div>\n",
       "<style scoped>\n",
       "    .dataframe tbody tr th:only-of-type {\n",
       "        vertical-align: middle;\n",
       "    }\n",
       "\n",
       "    .dataframe tbody tr th {\n",
       "        vertical-align: top;\n",
       "    }\n",
       "\n",
       "    .dataframe thead th {\n",
       "        text-align: right;\n",
       "    }\n",
       "</style>\n",
       "<table border=\"1\" class=\"dataframe\">\n",
       "  <thead>\n",
       "    <tr style=\"text-align: right;\">\n",
       "      <th></th>\n",
       "      <th>Client_name</th>\n",
       "      <th>Industry</th>\n",
       "      <th>Closed_pos</th>\n",
       "      <th>Interview_type</th>\n",
       "      <th>Gender</th>\n",
       "      <th>Curr_loc</th>\n",
       "      <th>Curr_job_loc</th>\n",
       "      <th>Interview_venue</th>\n",
       "      <th>Permission_status</th>\n",
       "      <th>Unscd_meet_status</th>\n",
       "      <th>Followup_status</th>\n",
       "      <th>AltNum_status</th>\n",
       "      <th>Resume_status</th>\n",
       "      <th>Venue_status</th>\n",
       "      <th>Call_letter_status</th>\n",
       "      <th>Ex_attend</th>\n",
       "      <th>Obs_attend</th>\n",
       "      <th>Matital_status</th>\n",
       "      <th>Skill</th>\n",
       "    </tr>\n",
       "  </thead>\n",
       "  <tbody>\n",
       "    <tr>\n",
       "      <th>0</th>\n",
       "      <td>6</td>\n",
       "      <td>3</td>\n",
       "      <td>0</td>\n",
       "      <td>1</td>\n",
       "      <td>1</td>\n",
       "      <td>0</td>\n",
       "      <td>3</td>\n",
       "      <td>3</td>\n",
       "      <td>1</td>\n",
       "      <td>1</td>\n",
       "      <td>1</td>\n",
       "      <td>1</td>\n",
       "      <td>1</td>\n",
       "      <td>1</td>\n",
       "      <td>1</td>\n",
       "      <td>1</td>\n",
       "      <td>0</td>\n",
       "      <td>1</td>\n",
       "      <td>5</td>\n",
       "    </tr>\n",
       "    <tr>\n",
       "      <th>1</th>\n",
       "      <td>6</td>\n",
       "      <td>3</td>\n",
       "      <td>0</td>\n",
       "      <td>1</td>\n",
       "      <td>1</td>\n",
       "      <td>0</td>\n",
       "      <td>0</td>\n",
       "      <td>3</td>\n",
       "      <td>1</td>\n",
       "      <td>1</td>\n",
       "      <td>1</td>\n",
       "      <td>1</td>\n",
       "      <td>1</td>\n",
       "      <td>1</td>\n",
       "      <td>1</td>\n",
       "      <td>1</td>\n",
       "      <td>0</td>\n",
       "      <td>1</td>\n",
       "      <td>5</td>\n",
       "    </tr>\n",
       "    <tr>\n",
       "      <th>2</th>\n",
       "      <td>6</td>\n",
       "      <td>3</td>\n",
       "      <td>0</td>\n",
       "      <td>1</td>\n",
       "      <td>1</td>\n",
       "      <td>0</td>\n",
       "      <td>1</td>\n",
       "      <td>3</td>\n",
       "      <td>0</td>\n",
       "      <td>0</td>\n",
       "      <td>0</td>\n",
       "      <td>0</td>\n",
       "      <td>0</td>\n",
       "      <td>0</td>\n",
       "      <td>0</td>\n",
       "      <td>2</td>\n",
       "      <td>0</td>\n",
       "      <td>1</td>\n",
       "      <td>5</td>\n",
       "    </tr>\n",
       "    <tr>\n",
       "      <th>3</th>\n",
       "      <td>6</td>\n",
       "      <td>3</td>\n",
       "      <td>0</td>\n",
       "      <td>1</td>\n",
       "      <td>1</td>\n",
       "      <td>0</td>\n",
       "      <td>1</td>\n",
       "      <td>3</td>\n",
       "      <td>1</td>\n",
       "      <td>1</td>\n",
       "      <td>0</td>\n",
       "      <td>1</td>\n",
       "      <td>0</td>\n",
       "      <td>1</td>\n",
       "      <td>1</td>\n",
       "      <td>2</td>\n",
       "      <td>0</td>\n",
       "      <td>1</td>\n",
       "      <td>5</td>\n",
       "    </tr>\n",
       "    <tr>\n",
       "      <th>4</th>\n",
       "      <td>6</td>\n",
       "      <td>3</td>\n",
       "      <td>0</td>\n",
       "      <td>1</td>\n",
       "      <td>1</td>\n",
       "      <td>0</td>\n",
       "      <td>0</td>\n",
       "      <td>3</td>\n",
       "      <td>1</td>\n",
       "      <td>1</td>\n",
       "      <td>1</td>\n",
       "      <td>1</td>\n",
       "      <td>1</td>\n",
       "      <td>1</td>\n",
       "      <td>1</td>\n",
       "      <td>2</td>\n",
       "      <td>0</td>\n",
       "      <td>0</td>\n",
       "      <td>5</td>\n",
       "    </tr>\n",
       "  </tbody>\n",
       "</table>\n",
       "</div>"
      ],
      "text/plain": [
       "   Client_name  Industry  Closed_pos  Interview_type  Gender  Curr_loc  \\\n",
       "0            6         3           0               1       1         0   \n",
       "1            6         3           0               1       1         0   \n",
       "2            6         3           0               1       1         0   \n",
       "3            6         3           0               1       1         0   \n",
       "4            6         3           0               1       1         0   \n",
       "\n",
       "   Curr_job_loc  Interview_venue  Permission_status  Unscd_meet_status  \\\n",
       "0             3                3                  1                  1   \n",
       "1             0                3                  1                  1   \n",
       "2             1                3                  0                  0   \n",
       "3             1                3                  1                  1   \n",
       "4             0                3                  1                  1   \n",
       "\n",
       "   Followup_status  AltNum_status  Resume_status  Venue_status  \\\n",
       "0                1              1              1             1   \n",
       "1                1              1              1             1   \n",
       "2                0              0              0             0   \n",
       "3                0              1              0             1   \n",
       "4                1              1              1             1   \n",
       "\n",
       "   Call_letter_status  Ex_attend  Obs_attend  Matital_status  Skill  \n",
       "0                   1          1           0               1      5  \n",
       "1                   1          1           0               1      5  \n",
       "2                   0          2           0               1      5  \n",
       "3                   1          2           0               1      5  \n",
       "4                   1          2           0               0      5  "
      ]
     },
     "execution_count": 222,
     "metadata": {},
     "output_type": "execute_result"
    }
   ],
   "source": [
    "df.head()"
   ]
  },
  {
   "cell_type": "code",
   "execution_count": 223,
   "id": "5cd85c44",
   "metadata": {},
   "outputs": [],
   "source": [
    "#Splitting into trainging and testing data\n",
    "Xtrain,Xtest,ytrain,ytest=model_selection.train_test_split(X,y,test_size=.1,random_state=123)"
   ]
  },
  {
   "cell_type": "markdown",
   "id": "78e6516d",
   "metadata": {},
   "source": [
    "## Applying Hyperparameter Tuning"
   ]
  },
  {
   "cell_type": "markdown",
   "id": "974ddc5c",
   "metadata": {},
   "source": [
    "##### hyperparameter tuning on 'max_depth'"
   ]
  },
  {
   "cell_type": "code",
   "execution_count": null,
   "id": "d90b5a20",
   "metadata": {},
   "outputs": [],
   "source": []
  },
  {
   "cell_type": "code",
   "execution_count": 224,
   "id": "eed44657",
   "metadata": {},
   "outputs": [],
   "source": [
    "grid={\"max_depth\":[1,2,3,4,5,6,7,8,9,10]}\n",
    "model=tree.DecisionTreeClassifier(random_state=53)"
   ]
  },
  {
   "cell_type": "code",
   "execution_count": 225,
   "id": "32761938",
   "metadata": {},
   "outputs": [],
   "source": [
    "gobj=model_selection.GridSearchCV(model,param_grid=grid,cv=5,scoring=\"precision\",n_jobs=-1,return_train_score=True)"
   ]
  },
  {
   "cell_type": "code",
   "execution_count": 226,
   "id": "6a19800e",
   "metadata": {},
   "outputs": [
    {
     "data": {
      "text/plain": [
       "GridSearchCV(cv=5, estimator=DecisionTreeClassifier(random_state=53), n_jobs=-1,\n",
       "             param_grid={'max_depth': [1, 2, 3, 4, 5, 6, 7, 8, 9, 10]},\n",
       "             return_train_score=True, scoring='precision')"
      ]
     },
     "execution_count": 226,
     "metadata": {},
     "output_type": "execute_result"
    }
   ],
   "source": [
    "gobj.fit(Xtrain,ytrain)"
   ]
  },
  {
   "cell_type": "code",
   "execution_count": 227,
   "id": "a8369775",
   "metadata": {},
   "outputs": [
    {
     "data": {
      "text/plain": [
       "{'max_depth': 2}"
      ]
     },
     "execution_count": 227,
     "metadata": {},
     "output_type": "execute_result"
    }
   ],
   "source": [
    "gobj.best_params_"
   ]
  },
  {
   "cell_type": "code",
   "execution_count": 228,
   "id": "3a179e97",
   "metadata": {},
   "outputs": [],
   "source": [
    "gobjdf=pd.DataFrame(gobj.cv_results_)"
   ]
  },
  {
   "cell_type": "code",
   "execution_count": 229,
   "id": "b4e9ddcf",
   "metadata": {},
   "outputs": [
    {
     "data": {
      "text/plain": [
       "(10, 21)"
      ]
     },
     "execution_count": 229,
     "metadata": {},
     "output_type": "execute_result"
    }
   ],
   "source": [
    "gobjdf.shape"
   ]
  },
  {
   "cell_type": "code",
   "execution_count": 230,
   "id": "3ee99312",
   "metadata": {},
   "outputs": [
    {
     "data": {
      "text/html": [
       "<div>\n",
       "<style scoped>\n",
       "    .dataframe tbody tr th:only-of-type {\n",
       "        vertical-align: middle;\n",
       "    }\n",
       "\n",
       "    .dataframe tbody tr th {\n",
       "        vertical-align: top;\n",
       "    }\n",
       "\n",
       "    .dataframe thead th {\n",
       "        text-align: right;\n",
       "    }\n",
       "</style>\n",
       "<table border=\"1\" class=\"dataframe\">\n",
       "  <thead>\n",
       "    <tr style=\"text-align: right;\">\n",
       "      <th></th>\n",
       "      <th>params</th>\n",
       "      <th>mean_train_score</th>\n",
       "      <th>mean_test_score</th>\n",
       "    </tr>\n",
       "  </thead>\n",
       "  <tbody>\n",
       "    <tr>\n",
       "      <th>0</th>\n",
       "      <td>{'max_depth': 1}</td>\n",
       "      <td>0.66203</td>\n",
       "      <td>0.66209</td>\n",
       "    </tr>\n",
       "    <tr>\n",
       "      <th>1</th>\n",
       "      <td>{'max_depth': 2}</td>\n",
       "      <td>0.71018</td>\n",
       "      <td>0.70672</td>\n",
       "    </tr>\n",
       "    <tr>\n",
       "      <th>2</th>\n",
       "      <td>{'max_depth': 3}</td>\n",
       "      <td>0.70521</td>\n",
       "      <td>0.68522</td>\n",
       "    </tr>\n",
       "    <tr>\n",
       "      <th>3</th>\n",
       "      <td>{'max_depth': 4}</td>\n",
       "      <td>0.71657</td>\n",
       "      <td>0.69373</td>\n",
       "    </tr>\n",
       "    <tr>\n",
       "      <th>4</th>\n",
       "      <td>{'max_depth': 5}</td>\n",
       "      <td>0.71484</td>\n",
       "      <td>0.69179</td>\n",
       "    </tr>\n",
       "    <tr>\n",
       "      <th>5</th>\n",
       "      <td>{'max_depth': 6}</td>\n",
       "      <td>0.71362</td>\n",
       "      <td>0.68607</td>\n",
       "    </tr>\n",
       "    <tr>\n",
       "      <th>6</th>\n",
       "      <td>{'max_depth': 7}</td>\n",
       "      <td>0.72429</td>\n",
       "      <td>0.68415</td>\n",
       "    </tr>\n",
       "    <tr>\n",
       "      <th>7</th>\n",
       "      <td>{'max_depth': 8}</td>\n",
       "      <td>0.73196</td>\n",
       "      <td>0.68168</td>\n",
       "    </tr>\n",
       "    <tr>\n",
       "      <th>8</th>\n",
       "      <td>{'max_depth': 9}</td>\n",
       "      <td>0.73687</td>\n",
       "      <td>0.67770</td>\n",
       "    </tr>\n",
       "    <tr>\n",
       "      <th>9</th>\n",
       "      <td>{'max_depth': 10}</td>\n",
       "      <td>0.73918</td>\n",
       "      <td>0.67853</td>\n",
       "    </tr>\n",
       "  </tbody>\n",
       "</table>\n",
       "</div>"
      ],
      "text/plain": [
       "              params  mean_train_score  mean_test_score\n",
       "0   {'max_depth': 1}           0.66203          0.66209\n",
       "1   {'max_depth': 2}           0.71018          0.70672\n",
       "2   {'max_depth': 3}           0.70521          0.68522\n",
       "3   {'max_depth': 4}           0.71657          0.69373\n",
       "4   {'max_depth': 5}           0.71484          0.69179\n",
       "5   {'max_depth': 6}           0.71362          0.68607\n",
       "6   {'max_depth': 7}           0.72429          0.68415\n",
       "7   {'max_depth': 8}           0.73196          0.68168\n",
       "8   {'max_depth': 9}           0.73687          0.67770\n",
       "9  {'max_depth': 10}           0.73918          0.67853"
      ]
     },
     "execution_count": 230,
     "metadata": {},
     "output_type": "execute_result"
    }
   ],
   "source": [
    "gobjdf[[\"params\",\"mean_train_score\",\"mean_test_score\"]]"
   ]
  },
  {
   "cell_type": "code",
   "execution_count": null,
   "id": "4ae21130",
   "metadata": {},
   "outputs": [],
   "source": []
  },
  {
   "cell_type": "code",
   "execution_count": 231,
   "id": "924548b2",
   "metadata": {},
   "outputs": [
    {
     "data": {
      "text/plain": [
       "DecisionTreeClassifier(max_depth=2, random_state=53)"
      ]
     },
     "execution_count": 231,
     "metadata": {},
     "output_type": "execute_result"
    }
   ],
   "source": [
    "model=tree.DecisionTreeClassifier(max_depth=2,random_state=53)\n",
    "model.fit(Xtrain,ytrain)"
   ]
  },
  {
   "cell_type": "code",
   "execution_count": 232,
   "id": "6e5669f8",
   "metadata": {},
   "outputs": [
    {
     "name": "stdout",
     "output_type": "stream",
     "text": [
      "Training data: \n",
      "precision : 0.7110754414125201\n",
      "AUC : 0.64320681807406\n",
      "\n",
      "Test data: \n",
      "precision : 0.7671232876712328\n",
      "AUC : 0.6702508960573477\n"
     ]
    }
   ],
   "source": [
    "#Prediction on training and testing data\n",
    "#Prediction on training and testing data\n",
    "trainpred=model.predict(Xtrain)\n",
    "testpred=model.predict(Xtest)\n",
    "print(\"Training data: \")\n",
    "printscores(ytrain,trainpred)\n",
    "print(\"\\nTest data: \")\n",
    "printscores(ytest,testpred)"
   ]
  },
  {
   "cell_type": "code",
   "execution_count": null,
   "id": "3727e02d",
   "metadata": {},
   "outputs": [],
   "source": []
  },
  {
   "cell_type": "code",
   "execution_count": null,
   "id": "55eaa62a",
   "metadata": {},
   "outputs": [],
   "source": []
  },
  {
   "cell_type": "code",
   "execution_count": null,
   "id": "af1e911a",
   "metadata": {},
   "outputs": [],
   "source": []
  },
  {
   "cell_type": "markdown",
   "id": "a1a38bcd",
   "metadata": {},
   "source": [
    "##### hyperparameter tuning on \"min_samples_split\"  and  \"min_samples_leaf\""
   ]
  },
  {
   "cell_type": "code",
   "execution_count": null,
   "id": "f724572d",
   "metadata": {},
   "outputs": [],
   "source": []
  },
  {
   "cell_type": "code",
   "execution_count": 233,
   "id": "e7ecc309",
   "metadata": {},
   "outputs": [],
   "source": [
    "grid={\"min_samples_split\":[2,3,4,5],\"min_samples_leaf\":[18,19,20,21,22,23]}\n",
    "model=tree.DecisionTreeClassifier(random_state=53)"
   ]
  },
  {
   "cell_type": "code",
   "execution_count": 234,
   "id": "b3058e9e",
   "metadata": {},
   "outputs": [],
   "source": [
    "gobj=model_selection.GridSearchCV(model,param_grid=grid,cv=5,scoring=\"precision\",n_jobs=-1,return_train_score=True)"
   ]
  },
  {
   "cell_type": "code",
   "execution_count": 235,
   "id": "5f31fc07",
   "metadata": {},
   "outputs": [
    {
     "data": {
      "text/plain": [
       "GridSearchCV(cv=5, estimator=DecisionTreeClassifier(random_state=53), n_jobs=-1,\n",
       "             param_grid={'min_samples_leaf': [18, 19, 20, 21, 22, 23],\n",
       "                         'min_samples_split': [2, 3, 4, 5]},\n",
       "             return_train_score=True, scoring='precision')"
      ]
     },
     "execution_count": 235,
     "metadata": {},
     "output_type": "execute_result"
    }
   ],
   "source": [
    "gobj.fit(Xtrain,ytrain)"
   ]
  },
  {
   "cell_type": "code",
   "execution_count": 236,
   "id": "ef853d96",
   "metadata": {},
   "outputs": [
    {
     "data": {
      "text/plain": [
       "{'min_samples_leaf': 19, 'min_samples_split': 2}"
      ]
     },
     "execution_count": 236,
     "metadata": {},
     "output_type": "execute_result"
    }
   ],
   "source": [
    "gobj.best_params_"
   ]
  },
  {
   "cell_type": "code",
   "execution_count": 237,
   "id": "e815d2e2",
   "metadata": {},
   "outputs": [],
   "source": [
    "gobjdf=pd.DataFrame(gobj.cv_results_)"
   ]
  },
  {
   "cell_type": "code",
   "execution_count": 238,
   "id": "b441f952",
   "metadata": {},
   "outputs": [
    {
     "data": {
      "text/plain": [
       "(24, 22)"
      ]
     },
     "execution_count": 238,
     "metadata": {},
     "output_type": "execute_result"
    }
   ],
   "source": [
    "gobjdf.shape"
   ]
  },
  {
   "cell_type": "code",
   "execution_count": 239,
   "id": "d97173dd",
   "metadata": {},
   "outputs": [
    {
     "data": {
      "text/html": [
       "<div>\n",
       "<style scoped>\n",
       "    .dataframe tbody tr th:only-of-type {\n",
       "        vertical-align: middle;\n",
       "    }\n",
       "\n",
       "    .dataframe tbody tr th {\n",
       "        vertical-align: top;\n",
       "    }\n",
       "\n",
       "    .dataframe thead th {\n",
       "        text-align: right;\n",
       "    }\n",
       "</style>\n",
       "<table border=\"1\" class=\"dataframe\">\n",
       "  <thead>\n",
       "    <tr style=\"text-align: right;\">\n",
       "      <th></th>\n",
       "      <th>params</th>\n",
       "      <th>mean_train_score</th>\n",
       "      <th>mean_test_score</th>\n",
       "    </tr>\n",
       "  </thead>\n",
       "  <tbody>\n",
       "    <tr>\n",
       "      <th>0</th>\n",
       "      <td>{'min_samples_leaf': 18, 'min_samples_split': 2}</td>\n",
       "      <td>0.70454</td>\n",
       "      <td>0.68620</td>\n",
       "    </tr>\n",
       "    <tr>\n",
       "      <th>1</th>\n",
       "      <td>{'min_samples_leaf': 18, 'min_samples_split': 3}</td>\n",
       "      <td>0.70454</td>\n",
       "      <td>0.68620</td>\n",
       "    </tr>\n",
       "    <tr>\n",
       "      <th>2</th>\n",
       "      <td>{'min_samples_leaf': 18, 'min_samples_split': 4}</td>\n",
       "      <td>0.70454</td>\n",
       "      <td>0.68620</td>\n",
       "    </tr>\n",
       "    <tr>\n",
       "      <th>3</th>\n",
       "      <td>{'min_samples_leaf': 18, 'min_samples_split': 5}</td>\n",
       "      <td>0.70454</td>\n",
       "      <td>0.68620</td>\n",
       "    </tr>\n",
       "    <tr>\n",
       "      <th>4</th>\n",
       "      <td>{'min_samples_leaf': 19, 'min_samples_split': 2}</td>\n",
       "      <td>0.70606</td>\n",
       "      <td>0.69106</td>\n",
       "    </tr>\n",
       "    <tr>\n",
       "      <th>5</th>\n",
       "      <td>{'min_samples_leaf': 19, 'min_samples_split': 3}</td>\n",
       "      <td>0.70606</td>\n",
       "      <td>0.69106</td>\n",
       "    </tr>\n",
       "    <tr>\n",
       "      <th>6</th>\n",
       "      <td>{'min_samples_leaf': 19, 'min_samples_split': 4}</td>\n",
       "      <td>0.70606</td>\n",
       "      <td>0.69106</td>\n",
       "    </tr>\n",
       "    <tr>\n",
       "      <th>7</th>\n",
       "      <td>{'min_samples_leaf': 19, 'min_samples_split': 5}</td>\n",
       "      <td>0.70606</td>\n",
       "      <td>0.69106</td>\n",
       "    </tr>\n",
       "    <tr>\n",
       "      <th>8</th>\n",
       "      <td>{'min_samples_leaf': 20, 'min_samples_split': 2}</td>\n",
       "      <td>0.70485</td>\n",
       "      <td>0.69060</td>\n",
       "    </tr>\n",
       "    <tr>\n",
       "      <th>9</th>\n",
       "      <td>{'min_samples_leaf': 20, 'min_samples_split': 3}</td>\n",
       "      <td>0.70485</td>\n",
       "      <td>0.69060</td>\n",
       "    </tr>\n",
       "    <tr>\n",
       "      <th>10</th>\n",
       "      <td>{'min_samples_leaf': 20, 'min_samples_split': 4}</td>\n",
       "      <td>0.70485</td>\n",
       "      <td>0.69060</td>\n",
       "    </tr>\n",
       "    <tr>\n",
       "      <th>11</th>\n",
       "      <td>{'min_samples_leaf': 20, 'min_samples_split': 5}</td>\n",
       "      <td>0.70485</td>\n",
       "      <td>0.69060</td>\n",
       "    </tr>\n",
       "    <tr>\n",
       "      <th>12</th>\n",
       "      <td>{'min_samples_leaf': 21, 'min_samples_split': 2}</td>\n",
       "      <td>0.70145</td>\n",
       "      <td>0.68161</td>\n",
       "    </tr>\n",
       "    <tr>\n",
       "      <th>13</th>\n",
       "      <td>{'min_samples_leaf': 21, 'min_samples_split': 3}</td>\n",
       "      <td>0.70145</td>\n",
       "      <td>0.68161</td>\n",
       "    </tr>\n",
       "    <tr>\n",
       "      <th>14</th>\n",
       "      <td>{'min_samples_leaf': 21, 'min_samples_split': 4}</td>\n",
       "      <td>0.70145</td>\n",
       "      <td>0.68161</td>\n",
       "    </tr>\n",
       "    <tr>\n",
       "      <th>15</th>\n",
       "      <td>{'min_samples_leaf': 21, 'min_samples_split': 5}</td>\n",
       "      <td>0.70145</td>\n",
       "      <td>0.68161</td>\n",
       "    </tr>\n",
       "    <tr>\n",
       "      <th>16</th>\n",
       "      <td>{'min_samples_leaf': 22, 'min_samples_split': 2}</td>\n",
       "      <td>0.70094</td>\n",
       "      <td>0.68334</td>\n",
       "    </tr>\n",
       "    <tr>\n",
       "      <th>17</th>\n",
       "      <td>{'min_samples_leaf': 22, 'min_samples_split': 3}</td>\n",
       "      <td>0.70094</td>\n",
       "      <td>0.68334</td>\n",
       "    </tr>\n",
       "    <tr>\n",
       "      <th>18</th>\n",
       "      <td>{'min_samples_leaf': 22, 'min_samples_split': 4}</td>\n",
       "      <td>0.70094</td>\n",
       "      <td>0.68334</td>\n",
       "    </tr>\n",
       "    <tr>\n",
       "      <th>19</th>\n",
       "      <td>{'min_samples_leaf': 22, 'min_samples_split': 5}</td>\n",
       "      <td>0.70094</td>\n",
       "      <td>0.68334</td>\n",
       "    </tr>\n",
       "    <tr>\n",
       "      <th>20</th>\n",
       "      <td>{'min_samples_leaf': 23, 'min_samples_split': 2}</td>\n",
       "      <td>0.70204</td>\n",
       "      <td>0.68171</td>\n",
       "    </tr>\n",
       "    <tr>\n",
       "      <th>21</th>\n",
       "      <td>{'min_samples_leaf': 23, 'min_samples_split': 3}</td>\n",
       "      <td>0.70204</td>\n",
       "      <td>0.68171</td>\n",
       "    </tr>\n",
       "    <tr>\n",
       "      <th>22</th>\n",
       "      <td>{'min_samples_leaf': 23, 'min_samples_split': 4}</td>\n",
       "      <td>0.70204</td>\n",
       "      <td>0.68171</td>\n",
       "    </tr>\n",
       "    <tr>\n",
       "      <th>23</th>\n",
       "      <td>{'min_samples_leaf': 23, 'min_samples_split': 5}</td>\n",
       "      <td>0.70204</td>\n",
       "      <td>0.68171</td>\n",
       "    </tr>\n",
       "  </tbody>\n",
       "</table>\n",
       "</div>"
      ],
      "text/plain": [
       "                                              params  mean_train_score  \\\n",
       "0   {'min_samples_leaf': 18, 'min_samples_split': 2}           0.70454   \n",
       "1   {'min_samples_leaf': 18, 'min_samples_split': 3}           0.70454   \n",
       "2   {'min_samples_leaf': 18, 'min_samples_split': 4}           0.70454   \n",
       "3   {'min_samples_leaf': 18, 'min_samples_split': 5}           0.70454   \n",
       "4   {'min_samples_leaf': 19, 'min_samples_split': 2}           0.70606   \n",
       "5   {'min_samples_leaf': 19, 'min_samples_split': 3}           0.70606   \n",
       "6   {'min_samples_leaf': 19, 'min_samples_split': 4}           0.70606   \n",
       "7   {'min_samples_leaf': 19, 'min_samples_split': 5}           0.70606   \n",
       "8   {'min_samples_leaf': 20, 'min_samples_split': 2}           0.70485   \n",
       "9   {'min_samples_leaf': 20, 'min_samples_split': 3}           0.70485   \n",
       "10  {'min_samples_leaf': 20, 'min_samples_split': 4}           0.70485   \n",
       "11  {'min_samples_leaf': 20, 'min_samples_split': 5}           0.70485   \n",
       "12  {'min_samples_leaf': 21, 'min_samples_split': 2}           0.70145   \n",
       "13  {'min_samples_leaf': 21, 'min_samples_split': 3}           0.70145   \n",
       "14  {'min_samples_leaf': 21, 'min_samples_split': 4}           0.70145   \n",
       "15  {'min_samples_leaf': 21, 'min_samples_split': 5}           0.70145   \n",
       "16  {'min_samples_leaf': 22, 'min_samples_split': 2}           0.70094   \n",
       "17  {'min_samples_leaf': 22, 'min_samples_split': 3}           0.70094   \n",
       "18  {'min_samples_leaf': 22, 'min_samples_split': 4}           0.70094   \n",
       "19  {'min_samples_leaf': 22, 'min_samples_split': 5}           0.70094   \n",
       "20  {'min_samples_leaf': 23, 'min_samples_split': 2}           0.70204   \n",
       "21  {'min_samples_leaf': 23, 'min_samples_split': 3}           0.70204   \n",
       "22  {'min_samples_leaf': 23, 'min_samples_split': 4}           0.70204   \n",
       "23  {'min_samples_leaf': 23, 'min_samples_split': 5}           0.70204   \n",
       "\n",
       "    mean_test_score  \n",
       "0           0.68620  \n",
       "1           0.68620  \n",
       "2           0.68620  \n",
       "3           0.68620  \n",
       "4           0.69106  \n",
       "5           0.69106  \n",
       "6           0.69106  \n",
       "7           0.69106  \n",
       "8           0.69060  \n",
       "9           0.69060  \n",
       "10          0.69060  \n",
       "11          0.69060  \n",
       "12          0.68161  \n",
       "13          0.68161  \n",
       "14          0.68161  \n",
       "15          0.68161  \n",
       "16          0.68334  \n",
       "17          0.68334  \n",
       "18          0.68334  \n",
       "19          0.68334  \n",
       "20          0.68171  \n",
       "21          0.68171  \n",
       "22          0.68171  \n",
       "23          0.68171  "
      ]
     },
     "execution_count": 239,
     "metadata": {},
     "output_type": "execute_result"
    }
   ],
   "source": [
    "gobjdf[[\"params\",\"mean_train_score\",\"mean_test_score\"]]"
   ]
  },
  {
   "cell_type": "code",
   "execution_count": 240,
   "id": "b6cb465e",
   "metadata": {},
   "outputs": [
    {
     "data": {
      "text/plain": [
       "DecisionTreeClassifier(min_samples_leaf=19, random_state=53)"
      ]
     },
     "execution_count": 240,
     "metadata": {},
     "output_type": "execute_result"
    }
   ],
   "source": [
    "model=tree.DecisionTreeClassifier(min_samples_leaf=19,min_samples_split=2,random_state=53)\n",
    "model.fit(Xtrain,ytrain)"
   ]
  },
  {
   "cell_type": "code",
   "execution_count": 241,
   "id": "33d0338a",
   "metadata": {},
   "outputs": [
    {
     "name": "stdout",
     "output_type": "stream",
     "text": [
      "Training data: \n",
      "precision : 0.7101226993865031\n",
      "AUC : 0.6483156322602057\n",
      "\n",
      "Test data: \n",
      "precision : 0.76\n",
      "AUC : 0.6620583717357911\n"
     ]
    }
   ],
   "source": [
    "#Prediction on training and testing data\n",
    "trainpred=model.predict(Xtrain)\n",
    "testpred=model.predict(Xtest)\n",
    "print(\"Training data: \")\n",
    "printscores(ytrain,trainpred)\n",
    "print(\"\\nTest data: \")\n",
    "printscores(ytest,testpred)"
   ]
  },
  {
   "cell_type": "code",
   "execution_count": null,
   "id": "96c7d67c",
   "metadata": {},
   "outputs": [],
   "source": []
  },
  {
   "cell_type": "markdown",
   "id": "5ee55096",
   "metadata": {},
   "source": [
    "#### Now we are going to use RFE through GridSearch"
   ]
  },
  {
   "cell_type": "code",
   "execution_count": null,
   "id": "388ecbc4",
   "metadata": {},
   "outputs": [],
   "source": []
  },
  {
   "cell_type": "code",
   "execution_count": 242,
   "id": "04226a1b",
   "metadata": {},
   "outputs": [],
   "source": [
    "model=tree.DecisionTreeClassifier(max_depth=2,min_samples_leaf=19,min_samples_split=2,random_state=53)"
   ]
  },
  {
   "cell_type": "code",
   "execution_count": 243,
   "id": "a33b1156",
   "metadata": {},
   "outputs": [],
   "source": [
    "from sklearn import feature_selection\n",
    "rfeobj=feature_selection.RFE(estimator=model)"
   ]
  },
  {
   "cell_type": "code",
   "execution_count": 244,
   "id": "48731dbb",
   "metadata": {},
   "outputs": [],
   "source": [
    "grid={ 'n_features_to_select': [1,2,3,4,5,6,7,8,9]}\n",
    "gobj=model_selection.GridSearchCV(return_train_score=True,estimator=rfeobj,param_grid=grid,cv=5,scoring=\"precision\",n_jobs=-1)"
   ]
  },
  {
   "cell_type": "code",
   "execution_count": 245,
   "id": "97385c67",
   "metadata": {},
   "outputs": [
    {
     "data": {
      "text/plain": [
       "GridSearchCV(cv=5,\n",
       "             estimator=RFE(estimator=DecisionTreeClassifier(max_depth=2,\n",
       "                                                            min_samples_leaf=19,\n",
       "                                                            random_state=53)),\n",
       "             n_jobs=-1,\n",
       "             param_grid={'n_features_to_select': [1, 2, 3, 4, 5, 6, 7, 8, 9]},\n",
       "             return_train_score=True, scoring='precision')"
      ]
     },
     "execution_count": 245,
     "metadata": {},
     "output_type": "execute_result"
    }
   ],
   "source": [
    "gobj.fit(Xtrain,ytrain)"
   ]
  },
  {
   "cell_type": "code",
   "execution_count": 246,
   "id": "4dd17623",
   "metadata": {},
   "outputs": [
    {
     "data": {
      "text/plain": [
       "{'n_features_to_select': 1}"
      ]
     },
     "execution_count": 246,
     "metadata": {},
     "output_type": "execute_result"
    }
   ],
   "source": [
    "gobj.best_params_"
   ]
  },
  {
   "cell_type": "code",
   "execution_count": 247,
   "id": "43bb78ae",
   "metadata": {},
   "outputs": [],
   "source": [
    "gdf=pd.DataFrame(gobj.cv_results_)"
   ]
  },
  {
   "cell_type": "code",
   "execution_count": 248,
   "id": "bb0291fb",
   "metadata": {},
   "outputs": [
    {
     "data": {
      "text/html": [
       "<div>\n",
       "<style scoped>\n",
       "    .dataframe tbody tr th:only-of-type {\n",
       "        vertical-align: middle;\n",
       "    }\n",
       "\n",
       "    .dataframe tbody tr th {\n",
       "        vertical-align: top;\n",
       "    }\n",
       "\n",
       "    .dataframe thead th {\n",
       "        text-align: right;\n",
       "    }\n",
       "</style>\n",
       "<table border=\"1\" class=\"dataframe\">\n",
       "  <thead>\n",
       "    <tr style=\"text-align: right;\">\n",
       "      <th></th>\n",
       "      <th>params</th>\n",
       "      <th>mean_train_score</th>\n",
       "      <th>mean_test_score</th>\n",
       "    </tr>\n",
       "  </thead>\n",
       "  <tbody>\n",
       "    <tr>\n",
       "      <th>0</th>\n",
       "      <td>{'n_features_to_select': 1}</td>\n",
       "      <td>0.71110</td>\n",
       "      <td>0.71142</td>\n",
       "    </tr>\n",
       "    <tr>\n",
       "      <th>1</th>\n",
       "      <td>{'n_features_to_select': 2}</td>\n",
       "      <td>0.71018</td>\n",
       "      <td>0.70672</td>\n",
       "    </tr>\n",
       "    <tr>\n",
       "      <th>2</th>\n",
       "      <td>{'n_features_to_select': 3}</td>\n",
       "      <td>0.71018</td>\n",
       "      <td>0.70672</td>\n",
       "    </tr>\n",
       "    <tr>\n",
       "      <th>3</th>\n",
       "      <td>{'n_features_to_select': 4}</td>\n",
       "      <td>0.71018</td>\n",
       "      <td>0.70672</td>\n",
       "    </tr>\n",
       "    <tr>\n",
       "      <th>4</th>\n",
       "      <td>{'n_features_to_select': 5}</td>\n",
       "      <td>0.71018</td>\n",
       "      <td>0.70672</td>\n",
       "    </tr>\n",
       "    <tr>\n",
       "      <th>5</th>\n",
       "      <td>{'n_features_to_select': 6}</td>\n",
       "      <td>0.71018</td>\n",
       "      <td>0.70672</td>\n",
       "    </tr>\n",
       "    <tr>\n",
       "      <th>6</th>\n",
       "      <td>{'n_features_to_select': 7}</td>\n",
       "      <td>0.71018</td>\n",
       "      <td>0.70672</td>\n",
       "    </tr>\n",
       "    <tr>\n",
       "      <th>7</th>\n",
       "      <td>{'n_features_to_select': 8}</td>\n",
       "      <td>0.71018</td>\n",
       "      <td>0.70672</td>\n",
       "    </tr>\n",
       "    <tr>\n",
       "      <th>8</th>\n",
       "      <td>{'n_features_to_select': 9}</td>\n",
       "      <td>0.71018</td>\n",
       "      <td>0.70672</td>\n",
       "    </tr>\n",
       "  </tbody>\n",
       "</table>\n",
       "</div>"
      ],
      "text/plain": [
       "                        params  mean_train_score  mean_test_score\n",
       "0  {'n_features_to_select': 1}           0.71110          0.71142\n",
       "1  {'n_features_to_select': 2}           0.71018          0.70672\n",
       "2  {'n_features_to_select': 3}           0.71018          0.70672\n",
       "3  {'n_features_to_select': 4}           0.71018          0.70672\n",
       "4  {'n_features_to_select': 5}           0.71018          0.70672\n",
       "5  {'n_features_to_select': 6}           0.71018          0.70672\n",
       "6  {'n_features_to_select': 7}           0.71018          0.70672\n",
       "7  {'n_features_to_select': 8}           0.71018          0.70672\n",
       "8  {'n_features_to_select': 9}           0.71018          0.70672"
      ]
     },
     "execution_count": 248,
     "metadata": {},
     "output_type": "execute_result"
    }
   ],
   "source": [
    "gdf[ [\"params\",\"mean_train_score\",\"mean_test_score\"] ]"
   ]
  },
  {
   "cell_type": "code",
   "execution_count": null,
   "id": "1f1b0d56",
   "metadata": {},
   "outputs": [],
   "source": []
  },
  {
   "cell_type": "code",
   "execution_count": 249,
   "id": "d021b52a",
   "metadata": {},
   "outputs": [],
   "source": [
    "#Though we are getting n_features_to_select=1 , it is better to consider more than 1 column.\n",
    "#Since Train and Test score remain same for n_features_to_select>1.\n",
    "#Lets consider n_features_to_select=6\n",
    "rfeobj=feature_selection.RFE(estimator=model,n_features_to_select=6)"
   ]
  },
  {
   "cell_type": "code",
   "execution_count": 250,
   "id": "aa1ff259",
   "metadata": {},
   "outputs": [
    {
     "data": {
      "text/plain": [
       "RFE(estimator=DecisionTreeClassifier(max_depth=2, min_samples_leaf=19,\n",
       "                                     random_state=53),\n",
       "    n_features_to_select=6)"
      ]
     },
     "execution_count": 250,
     "metadata": {},
     "output_type": "execute_result"
    }
   ],
   "source": [
    "rfeobj.fit(Xtrain,ytrain)"
   ]
  },
  {
   "cell_type": "code",
   "execution_count": 251,
   "id": "bd1d5358",
   "metadata": {},
   "outputs": [
    {
     "data": {
      "text/plain": [
       "Index(['Gender', 'Venue_status', 'Call_letter_status', 'Ex_attend',\n",
       "       'Matital_status', 'Skill'],\n",
       "      dtype='object')"
      ]
     },
     "execution_count": 251,
     "metadata": {},
     "output_type": "execute_result"
    }
   ],
   "source": [
    "Xtrain.columns[rfeobj.support_]"
   ]
  },
  {
   "cell_type": "code",
   "execution_count": null,
   "id": "6cdc2ecb",
   "metadata": {},
   "outputs": [],
   "source": []
  },
  {
   "cell_type": "code",
   "execution_count": null,
   "id": "4359f83f",
   "metadata": {},
   "outputs": [],
   "source": []
  },
  {
   "cell_type": "code",
   "execution_count": 252,
   "id": "1c67b449",
   "metadata": {},
   "outputs": [],
   "source": [
    "arr1=rfeobj.transform(Xtrain)\n",
    "arr2=rfeobj.transform(Xtest)"
   ]
  },
  {
   "cell_type": "code",
   "execution_count": 253,
   "id": "7f0d7701",
   "metadata": {},
   "outputs": [],
   "source": [
    "Xtrain3=pd.DataFrame(arr1,columns=Xtrain.columns[rfeobj.support_],index=Xtrain.index)\n",
    "Xtest3=pd.DataFrame(arr2,columns=Xtest.columns[rfeobj.support_],index=Xtest.index)"
   ]
  },
  {
   "cell_type": "code",
   "execution_count": null,
   "id": "97f6f7dd",
   "metadata": {},
   "outputs": [],
   "source": []
  },
  {
   "cell_type": "code",
   "execution_count": null,
   "id": "022d7d8a",
   "metadata": {},
   "outputs": [],
   "source": []
  },
  {
   "cell_type": "code",
   "execution_count": 254,
   "id": "46d8bf99",
   "metadata": {},
   "outputs": [
    {
     "data": {
      "text/plain": [
       "DecisionTreeClassifier(max_depth=2, min_samples_leaf=19, random_state=53)"
      ]
     },
     "execution_count": 254,
     "metadata": {},
     "output_type": "execute_result"
    }
   ],
   "source": [
    "model=tree.DecisionTreeClassifier(max_depth=2,min_samples_leaf=19,min_samples_split=2,random_state=53)\n",
    "model.fit(Xtrain3,ytrain)"
   ]
  },
  {
   "cell_type": "code",
   "execution_count": 255,
   "id": "e9b10979",
   "metadata": {},
   "outputs": [
    {
     "name": "stdout",
     "output_type": "stream",
     "text": [
      "Training data: \n",
      "precision : 0.7110754414125201\n",
      "AUC : 0.64320681807406\n",
      "\n",
      "Test data: \n",
      "precision : 0.7671232876712328\n",
      "AUC : 0.6702508960573477\n"
     ]
    }
   ],
   "source": [
    "#Prediction on training and testing data\n",
    "trainpred=model.predict(Xtrain3)\n",
    "testpred=model.predict(Xtest3)\n",
    "print(\"Training data: \")\n",
    "printscores(ytrain,trainpred)\n",
    "print(\"\\nTest data: \")\n",
    "printscores(ytest,testpred)"
   ]
  },
  {
   "cell_type": "code",
   "execution_count": 258,
   "id": "cef6a783",
   "metadata": {},
   "outputs": [
    {
     "data": {
      "text/plain": [
       "Index(['Gender', 'Venue_status', 'Call_letter_status', 'Ex_attend',\n",
       "       'Matital_status', 'Skill'],\n",
       "      dtype='object')"
      ]
     },
     "execution_count": 258,
     "metadata": {},
     "output_type": "execute_result"
    }
   ],
   "source": [
    "## Final Columns to be chosen\n",
    "Xtrain.columns[rfeobj.support_]"
   ]
  },
  {
   "cell_type": "code",
   "execution_count": null,
   "id": "44b0674b",
   "metadata": {},
   "outputs": [],
   "source": []
  },
  {
   "cell_type": "code",
   "execution_count": null,
   "id": "0bc493b1",
   "metadata": {},
   "outputs": [],
   "source": []
  },
  {
   "cell_type": "code",
   "execution_count": null,
   "id": "a33ce152",
   "metadata": {},
   "outputs": [],
   "source": []
  },
  {
   "cell_type": "markdown",
   "id": "54dedf30",
   "metadata": {},
   "source": [
    "# Model 3: Random Forest"
   ]
  },
  {
   "cell_type": "code",
   "execution_count": 259,
   "id": "c57519f3",
   "metadata": {},
   "outputs": [],
   "source": [
    "df1=pd.read_csv('F:\\Programming\\Machine Learning\\ClassWorks\\project\\interview(Cleaned).csv')"
   ]
  },
  {
   "cell_type": "code",
   "execution_count": 260,
   "id": "5b64dd25",
   "metadata": {},
   "outputs": [
    {
     "data": {
      "text/html": [
       "<div>\n",
       "<style scoped>\n",
       "    .dataframe tbody tr th:only-of-type {\n",
       "        vertical-align: middle;\n",
       "    }\n",
       "\n",
       "    .dataframe tbody tr th {\n",
       "        vertical-align: top;\n",
       "    }\n",
       "\n",
       "    .dataframe thead th {\n",
       "        text-align: right;\n",
       "    }\n",
       "</style>\n",
       "<table border=\"1\" class=\"dataframe\">\n",
       "  <thead>\n",
       "    <tr style=\"text-align: right;\">\n",
       "      <th></th>\n",
       "      <th>Client_name</th>\n",
       "      <th>Industry</th>\n",
       "      <th>Closed_pos</th>\n",
       "      <th>Interview_type</th>\n",
       "      <th>Gender</th>\n",
       "      <th>Curr_loc</th>\n",
       "      <th>Curr_job_loc</th>\n",
       "      <th>Interview_venue</th>\n",
       "      <th>Permission_status</th>\n",
       "      <th>Unscd_meet_status</th>\n",
       "      <th>Followup_status</th>\n",
       "      <th>AltNum_status</th>\n",
       "      <th>Resume_status</th>\n",
       "      <th>Venue_status</th>\n",
       "      <th>Call_letter_status</th>\n",
       "      <th>Ex_attend</th>\n",
       "      <th>Obs_attend</th>\n",
       "      <th>Matital_status</th>\n",
       "      <th>Skill</th>\n",
       "    </tr>\n",
       "  </thead>\n",
       "  <tbody>\n",
       "    <tr>\n",
       "      <th>0</th>\n",
       "      <td>Hospira</td>\n",
       "      <td>Pharmaceuticals</td>\n",
       "      <td>Non-Routine</td>\n",
       "      <td>scheduled_walkin</td>\n",
       "      <td>Male</td>\n",
       "      <td>Chennai</td>\n",
       "      <td>hosur</td>\n",
       "      <td>hosur</td>\n",
       "      <td>yes</td>\n",
       "      <td>yes</td>\n",
       "      <td>yes</td>\n",
       "      <td>yes</td>\n",
       "      <td>yes</td>\n",
       "      <td>yes</td>\n",
       "      <td>yes</td>\n",
       "      <td>yes</td>\n",
       "      <td>no</td>\n",
       "      <td>Single</td>\n",
       "      <td>Routine</td>\n",
       "    </tr>\n",
       "    <tr>\n",
       "      <th>1</th>\n",
       "      <td>Hospira</td>\n",
       "      <td>Pharmaceuticals</td>\n",
       "      <td>Non-Routine</td>\n",
       "      <td>scheduled_walkin</td>\n",
       "      <td>Male</td>\n",
       "      <td>Chennai</td>\n",
       "      <td>bangalore</td>\n",
       "      <td>hosur</td>\n",
       "      <td>yes</td>\n",
       "      <td>yes</td>\n",
       "      <td>yes</td>\n",
       "      <td>yes</td>\n",
       "      <td>yes</td>\n",
       "      <td>yes</td>\n",
       "      <td>yes</td>\n",
       "      <td>yes</td>\n",
       "      <td>no</td>\n",
       "      <td>Single</td>\n",
       "      <td>Routine</td>\n",
       "    </tr>\n",
       "    <tr>\n",
       "      <th>2</th>\n",
       "      <td>Hospira</td>\n",
       "      <td>Pharmaceuticals</td>\n",
       "      <td>Non-Routine</td>\n",
       "      <td>scheduled_walkin</td>\n",
       "      <td>Male</td>\n",
       "      <td>Chennai</td>\n",
       "      <td>chennai</td>\n",
       "      <td>hosur</td>\n",
       "      <td>no</td>\n",
       "      <td>no</td>\n",
       "      <td>no</td>\n",
       "      <td>no</td>\n",
       "      <td>no</td>\n",
       "      <td>no</td>\n",
       "      <td>no</td>\n",
       "      <td>uncertain</td>\n",
       "      <td>no</td>\n",
       "      <td>Single</td>\n",
       "      <td>Routine</td>\n",
       "    </tr>\n",
       "    <tr>\n",
       "      <th>3</th>\n",
       "      <td>Hospira</td>\n",
       "      <td>Pharmaceuticals</td>\n",
       "      <td>Non-Routine</td>\n",
       "      <td>scheduled_walkin</td>\n",
       "      <td>Male</td>\n",
       "      <td>Chennai</td>\n",
       "      <td>chennai</td>\n",
       "      <td>hosur</td>\n",
       "      <td>yes</td>\n",
       "      <td>yes</td>\n",
       "      <td>no</td>\n",
       "      <td>yes</td>\n",
       "      <td>no</td>\n",
       "      <td>yes</td>\n",
       "      <td>yes</td>\n",
       "      <td>uncertain</td>\n",
       "      <td>no</td>\n",
       "      <td>Single</td>\n",
       "      <td>Routine</td>\n",
       "    </tr>\n",
       "    <tr>\n",
       "      <th>4</th>\n",
       "      <td>Hospira</td>\n",
       "      <td>Pharmaceuticals</td>\n",
       "      <td>Non-Routine</td>\n",
       "      <td>scheduled_walkin</td>\n",
       "      <td>Male</td>\n",
       "      <td>Chennai</td>\n",
       "      <td>bangalore</td>\n",
       "      <td>hosur</td>\n",
       "      <td>yes</td>\n",
       "      <td>yes</td>\n",
       "      <td>yes</td>\n",
       "      <td>yes</td>\n",
       "      <td>yes</td>\n",
       "      <td>yes</td>\n",
       "      <td>yes</td>\n",
       "      <td>uncertain</td>\n",
       "      <td>no</td>\n",
       "      <td>Married</td>\n",
       "      <td>Routine</td>\n",
       "    </tr>\n",
       "  </tbody>\n",
       "</table>\n",
       "</div>"
      ],
      "text/plain": [
       "  Client_name         Industry   Closed_pos    Interview_type Gender Curr_loc  \\\n",
       "0     Hospira  Pharmaceuticals  Non-Routine  scheduled_walkin   Male  Chennai   \n",
       "1     Hospira  Pharmaceuticals  Non-Routine  scheduled_walkin   Male  Chennai   \n",
       "2     Hospira  Pharmaceuticals  Non-Routine  scheduled_walkin   Male  Chennai   \n",
       "3     Hospira  Pharmaceuticals  Non-Routine  scheduled_walkin   Male  Chennai   \n",
       "4     Hospira  Pharmaceuticals  Non-Routine  scheduled_walkin   Male  Chennai   \n",
       "\n",
       "  Curr_job_loc Interview_venue Permission_status Unscd_meet_status  \\\n",
       "0        hosur           hosur               yes               yes   \n",
       "1    bangalore           hosur               yes               yes   \n",
       "2      chennai           hosur                no                no   \n",
       "3      chennai           hosur               yes               yes   \n",
       "4    bangalore           hosur               yes               yes   \n",
       "\n",
       "  Followup_status AltNum_status Resume_status Venue_status Call_letter_status  \\\n",
       "0             yes           yes           yes          yes                yes   \n",
       "1             yes           yes           yes          yes                yes   \n",
       "2              no            no            no           no                 no   \n",
       "3              no           yes            no          yes                yes   \n",
       "4             yes           yes           yes          yes                yes   \n",
       "\n",
       "   Ex_attend Obs_attend Matital_status    Skill  \n",
       "0        yes         no         Single  Routine  \n",
       "1        yes         no         Single  Routine  \n",
       "2  uncertain         no         Single  Routine  \n",
       "3  uncertain         no         Single  Routine  \n",
       "4  uncertain         no        Married  Routine  "
      ]
     },
     "execution_count": 260,
     "metadata": {},
     "output_type": "execute_result"
    }
   ],
   "source": [
    "df1[:5]"
   ]
  },
  {
   "cell_type": "markdown",
   "id": "08036c0e",
   "metadata": {},
   "source": [
    "# Converting the categorical values into numerical"
   ]
  },
  {
   "cell_type": "code",
   "execution_count": 261,
   "id": "52ef76d5",
   "metadata": {},
   "outputs": [],
   "source": [
    "dict1 = {'Standard Chartered Bank' : 1, 'Hospira' : 2, 'ANZ' : 3, 'Flextronics' : 4, 'UST' : 5, 'Standard Chartered Bank Chennai' : 6, 'Aon Hewitt' : 7, 'Astrazeneca' : 8, 'Hewitt' : 9, 'Williams Lea' : 10, 'Aon hewitt Gurgaon' : 11}\n",
    "dict2 = {'BFSI' : 1, 'Pharmaceuticals' : 2, 'IT' : 3, 'Electronics' : 4}\n",
    "dict3 = {'Routine' : 1, 'Non-Routine' : 2}\n",
    "dict4 = {'scheduled_walkin' : 1, 'walkin' : 2, 'scheduled' : 3}\n",
    "dict5 = {'Male' : 1, 'Female' : 2}\n",
    "dict6 = {'Chennai' : 1, 'bangalore' : 2, 'gurgaon' : 3, 'noida' : 4, 'delhi' : 5}\n",
    "dict7 = {'chennai' : 1, 'bangalore' : 2, 'gurgaon' : 3, 'noida' : 4, 'hosur' : 5}\n",
    "dict8 = {'yes' : 1, 'no' : 0}\n",
    "dict9 = {'yes' : 1, 'no' : 2, \"uncertain\":3}\n",
    "dict10 = {'Single' : 1, 'Married' : 2}\n",
    "dict11 = {'Java' : 1, 'KYC' : 2, 'Operations' : 3, 'Fresher' : 4, 'Oracle' : 5, 'Routine' : 6, 'Testing' : 7}\n",
    "\n",
    "df1['Client_name']= df1['Client_name'].map(dict1)\n",
    "df1['Industry']= df1['Industry'].map(dict2)\n",
    "df1['Closed_pos']= df1['Closed_pos'].map(dict3)\n",
    "df1['Interview_type']= df1['Interview_type'].map(dict4)\n",
    "df1['Gender']= df1['Gender'].map(dict5)\n",
    "df1['Curr_loc']= df1['Curr_loc'].map(dict6)\n",
    "df1['Curr_job_loc']= df1['Curr_job_loc'].map(dict7)\n",
    "df1['Interview_venue']= df1['Interview_venue'].map(dict7)\n",
    "df1['Permission_status']= df1['Permission_status'].map(dict8)\n",
    "df1['Unscd_meet_status']= df1['Unscd_meet_status'].map(dict8)\n",
    "df1['Followup_status']= df1['Followup_status'].map(dict8)\n",
    "df1['AltNum_status']= df1['AltNum_status'].map(dict8)\n",
    "df1['Resume_status']= df1['Resume_status'].map(dict8)\n",
    "df1['Venue_status']= df1['Venue_status'].map(dict8)\n",
    "df1['Call_letter_status']= df1['Call_letter_status'].map(dict8)\n",
    "df1['Ex_attend']= df1['Ex_attend'].map(dict9)\n",
    "df1['Matital_status']= df1['Matital_status'].map(dict10)\n",
    "df1['Obs_attend']= df1['Obs_attend'].map(dict8)\n",
    "df1['Skill']= df1['Skill'].map(dict11)\n",
    "\n"
   ]
  },
  {
   "cell_type": "code",
   "execution_count": 262,
   "id": "cc5e6393",
   "metadata": {},
   "outputs": [
    {
     "data": {
      "text/html": [
       "<div>\n",
       "<style scoped>\n",
       "    .dataframe tbody tr th:only-of-type {\n",
       "        vertical-align: middle;\n",
       "    }\n",
       "\n",
       "    .dataframe tbody tr th {\n",
       "        vertical-align: top;\n",
       "    }\n",
       "\n",
       "    .dataframe thead th {\n",
       "        text-align: right;\n",
       "    }\n",
       "</style>\n",
       "<table border=\"1\" class=\"dataframe\">\n",
       "  <thead>\n",
       "    <tr style=\"text-align: right;\">\n",
       "      <th></th>\n",
       "      <th>Client_name</th>\n",
       "      <th>Industry</th>\n",
       "      <th>Closed_pos</th>\n",
       "      <th>Interview_type</th>\n",
       "      <th>Gender</th>\n",
       "      <th>Curr_loc</th>\n",
       "      <th>Curr_job_loc</th>\n",
       "      <th>Interview_venue</th>\n",
       "      <th>Permission_status</th>\n",
       "      <th>Unscd_meet_status</th>\n",
       "      <th>Followup_status</th>\n",
       "      <th>AltNum_status</th>\n",
       "      <th>Resume_status</th>\n",
       "      <th>Venue_status</th>\n",
       "      <th>Call_letter_status</th>\n",
       "      <th>Ex_attend</th>\n",
       "      <th>Obs_attend</th>\n",
       "      <th>Matital_status</th>\n",
       "      <th>Skill</th>\n",
       "    </tr>\n",
       "  </thead>\n",
       "  <tbody>\n",
       "    <tr>\n",
       "      <th>0</th>\n",
       "      <td>2</td>\n",
       "      <td>2</td>\n",
       "      <td>2</td>\n",
       "      <td>1</td>\n",
       "      <td>1</td>\n",
       "      <td>1</td>\n",
       "      <td>5</td>\n",
       "      <td>5</td>\n",
       "      <td>1</td>\n",
       "      <td>1</td>\n",
       "      <td>1</td>\n",
       "      <td>1</td>\n",
       "      <td>1</td>\n",
       "      <td>1</td>\n",
       "      <td>1</td>\n",
       "      <td>1</td>\n",
       "      <td>0</td>\n",
       "      <td>1</td>\n",
       "      <td>6</td>\n",
       "    </tr>\n",
       "    <tr>\n",
       "      <th>1</th>\n",
       "      <td>2</td>\n",
       "      <td>2</td>\n",
       "      <td>2</td>\n",
       "      <td>1</td>\n",
       "      <td>1</td>\n",
       "      <td>1</td>\n",
       "      <td>2</td>\n",
       "      <td>5</td>\n",
       "      <td>1</td>\n",
       "      <td>1</td>\n",
       "      <td>1</td>\n",
       "      <td>1</td>\n",
       "      <td>1</td>\n",
       "      <td>1</td>\n",
       "      <td>1</td>\n",
       "      <td>1</td>\n",
       "      <td>0</td>\n",
       "      <td>1</td>\n",
       "      <td>6</td>\n",
       "    </tr>\n",
       "    <tr>\n",
       "      <th>2</th>\n",
       "      <td>2</td>\n",
       "      <td>2</td>\n",
       "      <td>2</td>\n",
       "      <td>1</td>\n",
       "      <td>1</td>\n",
       "      <td>1</td>\n",
       "      <td>1</td>\n",
       "      <td>5</td>\n",
       "      <td>0</td>\n",
       "      <td>0</td>\n",
       "      <td>0</td>\n",
       "      <td>0</td>\n",
       "      <td>0</td>\n",
       "      <td>0</td>\n",
       "      <td>0</td>\n",
       "      <td>3</td>\n",
       "      <td>0</td>\n",
       "      <td>1</td>\n",
       "      <td>6</td>\n",
       "    </tr>\n",
       "    <tr>\n",
       "      <th>3</th>\n",
       "      <td>2</td>\n",
       "      <td>2</td>\n",
       "      <td>2</td>\n",
       "      <td>1</td>\n",
       "      <td>1</td>\n",
       "      <td>1</td>\n",
       "      <td>1</td>\n",
       "      <td>5</td>\n",
       "      <td>1</td>\n",
       "      <td>1</td>\n",
       "      <td>0</td>\n",
       "      <td>1</td>\n",
       "      <td>0</td>\n",
       "      <td>1</td>\n",
       "      <td>1</td>\n",
       "      <td>3</td>\n",
       "      <td>0</td>\n",
       "      <td>1</td>\n",
       "      <td>6</td>\n",
       "    </tr>\n",
       "    <tr>\n",
       "      <th>4</th>\n",
       "      <td>2</td>\n",
       "      <td>2</td>\n",
       "      <td>2</td>\n",
       "      <td>1</td>\n",
       "      <td>1</td>\n",
       "      <td>1</td>\n",
       "      <td>2</td>\n",
       "      <td>5</td>\n",
       "      <td>1</td>\n",
       "      <td>1</td>\n",
       "      <td>1</td>\n",
       "      <td>1</td>\n",
       "      <td>1</td>\n",
       "      <td>1</td>\n",
       "      <td>1</td>\n",
       "      <td>3</td>\n",
       "      <td>0</td>\n",
       "      <td>2</td>\n",
       "      <td>6</td>\n",
       "    </tr>\n",
       "  </tbody>\n",
       "</table>\n",
       "</div>"
      ],
      "text/plain": [
       "   Client_name  Industry  Closed_pos  Interview_type  Gender  Curr_loc  \\\n",
       "0            2         2           2               1       1         1   \n",
       "1            2         2           2               1       1         1   \n",
       "2            2         2           2               1       1         1   \n",
       "3            2         2           2               1       1         1   \n",
       "4            2         2           2               1       1         1   \n",
       "\n",
       "   Curr_job_loc  Interview_venue  Permission_status  Unscd_meet_status  \\\n",
       "0             5                5                  1                  1   \n",
       "1             2                5                  1                  1   \n",
       "2             1                5                  0                  0   \n",
       "3             1                5                  1                  1   \n",
       "4             2                5                  1                  1   \n",
       "\n",
       "   Followup_status  AltNum_status  Resume_status  Venue_status  \\\n",
       "0                1              1              1             1   \n",
       "1                1              1              1             1   \n",
       "2                0              0              0             0   \n",
       "3                0              1              0             1   \n",
       "4                1              1              1             1   \n",
       "\n",
       "   Call_letter_status  Ex_attend  Obs_attend  Matital_status  Skill  \n",
       "0                   1          1           0               1      6  \n",
       "1                   1          1           0               1      6  \n",
       "2                   0          3           0               1      6  \n",
       "3                   1          3           0               1      6  \n",
       "4                   1          3           0               2      6  "
      ]
     },
     "execution_count": 262,
     "metadata": {},
     "output_type": "execute_result"
    }
   ],
   "source": [
    "df1[:5]"
   ]
  },
  {
   "cell_type": "markdown",
   "id": "b8ac15ee",
   "metadata": {},
   "source": [
    "# Building Random Forest Model"
   ]
  },
  {
   "cell_type": "code",
   "execution_count": 263,
   "id": "7da7e2a6",
   "metadata": {},
   "outputs": [],
   "source": [
    "X=df1.drop(\"Obs_attend\",axis=1)\n",
    "y=df1[\"Obs_attend\"]\n",
    "Xtrain,Xtest,ytrain,ytest=model_selection.train_test_split(X,y,test_size=.1,random_state=123)"
   ]
  },
  {
   "cell_type": "code",
   "execution_count": 264,
   "id": "017dce90",
   "metadata": {},
   "outputs": [],
   "source": [
    "model=ensemble.RandomForestClassifier(random_state=42) "
   ]
  },
  {
   "cell_type": "code",
   "execution_count": 265,
   "id": "dc4b38db",
   "metadata": {},
   "outputs": [],
   "source": [
    "trees=list()\n",
    "for i in range(1,150):\n",
    "    trees.append(i)"
   ]
  },
  {
   "cell_type": "markdown",
   "id": "35947052",
   "metadata": {},
   "source": [
    "## Hyperparameter tuning"
   ]
  },
  {
   "cell_type": "code",
   "execution_count": 266,
   "id": "e6f15403",
   "metadata": {},
   "outputs": [],
   "source": [
    "grid1={ \"max_depth\":[1,2,3,4,5,6,7,8,9,10,11,12]}\n",
    "grid2={ \"max_features\": ['auto', 'sqrt', 'log2']}\n",
    "grid3={ \"n_estimators\" : trees}\n",
    "grid4={\"min_samples_split\":[2,3,4,5]}\n",
    "grid5={\"min_samples_leaf\":[10,11,12,13,14]}"
   ]
  },
  {
   "cell_type": "markdown",
   "id": "c64d7264",
   "metadata": {},
   "source": [
    "### For max_depth"
   ]
  },
  {
   "cell_type": "code",
   "execution_count": 267,
   "id": "cfbc6bb2",
   "metadata": {},
   "outputs": [],
   "source": [
    "gobj=model_selection.GridSearchCV(model,param_grid=grid1,cv=5,scoring=\"precision\",n_jobs=-1,return_train_score=True)"
   ]
  },
  {
   "cell_type": "code",
   "execution_count": 268,
   "id": "77bedd7a",
   "metadata": {},
   "outputs": [
    {
     "data": {
      "text/plain": [
       "GridSearchCV(cv=5, estimator=RandomForestClassifier(random_state=42), n_jobs=-1,\n",
       "             param_grid={'max_depth': [1, 2, 3, 4, 5, 6, 7, 8, 9, 10, 11, 12]},\n",
       "             return_train_score=True, scoring='precision')"
      ]
     },
     "execution_count": 268,
     "metadata": {},
     "output_type": "execute_result"
    }
   ],
   "source": [
    "gobj.fit(Xtrain,ytrain)"
   ]
  },
  {
   "cell_type": "code",
   "execution_count": 269,
   "id": "c84a7735",
   "metadata": {},
   "outputs": [
    {
     "data": {
      "text/plain": [
       "{'max_depth': 3}"
      ]
     },
     "execution_count": 269,
     "metadata": {},
     "output_type": "execute_result"
    }
   ],
   "source": [
    "gobj.best_params_"
   ]
  },
  {
   "cell_type": "code",
   "execution_count": 270,
   "id": "006b43de",
   "metadata": {},
   "outputs": [],
   "source": [
    "#model=ensemble.RandomForestClassifier(n_estimators=60,max_features=8,max_depth=2,random_state=42) \n",
    "model=ensemble.RandomForestClassifier(max_depth=3,random_state=42) "
   ]
  },
  {
   "cell_type": "code",
   "execution_count": 271,
   "id": "db398724",
   "metadata": {},
   "outputs": [
    {
     "data": {
      "text/plain": [
       "RandomForestClassifier(max_depth=3, random_state=42)"
      ]
     },
     "execution_count": 271,
     "metadata": {},
     "output_type": "execute_result"
    }
   ],
   "source": [
    "model.fit(Xtrain,ytrain)"
   ]
  },
  {
   "cell_type": "code",
   "execution_count": 272,
   "id": "42ae1d18",
   "metadata": {},
   "outputs": [],
   "source": [
    "trainpred=model.predict(Xtrain)\n",
    "testpred=model.predict(Xtest)"
   ]
  },
  {
   "cell_type": "code",
   "execution_count": 273,
   "id": "323052c1",
   "metadata": {},
   "outputs": [
    {
     "name": "stdout",
     "output_type": "stream",
     "text": [
      "train precision : 0.7115689381933439\n",
      "test precision : 0.7702702702702703\n",
      "\n",
      "AUC for train : 0.6458264188516429\n",
      "AUC for test : 0.6781874039938556\n"
     ]
    }
   ],
   "source": [
    "print(\"train precision :\",metrics.precision_score(ytrain,trainpred))\n",
    "print(\"test precision :\",metrics.precision_score(ytest,testpred))\n",
    "\n",
    "print(\"\\nAUC for train :\",metrics.roc_auc_score(ytrain,trainpred))\n",
    "print(\"AUC for test :\",metrics.roc_auc_score(ytest,testpred))"
   ]
  },
  {
   "cell_type": "code",
   "execution_count": null,
   "id": "55a97e1c",
   "metadata": {},
   "outputs": [],
   "source": []
  },
  {
   "cell_type": "markdown",
   "id": "d8ff730b",
   "metadata": {},
   "source": [
    "### For n_estimators"
   ]
  },
  {
   "cell_type": "code",
   "execution_count": 274,
   "id": "9a21447f",
   "metadata": {},
   "outputs": [],
   "source": [
    "gobj_estimators=model_selection.GridSearchCV(model,param_grid=grid3,cv=5,scoring=\"precision\",n_jobs=-1,return_train_score=True)"
   ]
  },
  {
   "cell_type": "code",
   "execution_count": 275,
   "id": "f1e05e46",
   "metadata": {},
   "outputs": [
    {
     "data": {
      "text/plain": [
       "GridSearchCV(cv=5,\n",
       "             estimator=RandomForestClassifier(max_depth=3, random_state=42),\n",
       "             n_jobs=-1,\n",
       "             param_grid={'n_estimators': [1, 2, 3, 4, 5, 6, 7, 8, 9, 10, 11, 12,\n",
       "                                          13, 14, 15, 16, 17, 18, 19, 20, 21,\n",
       "                                          22, 23, 24, 25, 26, 27, 28, 29, 30, ...]},\n",
       "             return_train_score=True, scoring='precision')"
      ]
     },
     "execution_count": 275,
     "metadata": {},
     "output_type": "execute_result"
    }
   ],
   "source": [
    "gobj_estimators.fit(Xtrain,ytrain)"
   ]
  },
  {
   "cell_type": "code",
   "execution_count": 276,
   "id": "a1f1c4b8",
   "metadata": {},
   "outputs": [
    {
     "data": {
      "text/plain": [
       "{'n_estimators': 57}"
      ]
     },
     "execution_count": 276,
     "metadata": {},
     "output_type": "execute_result"
    }
   ],
   "source": [
    "gobj_estimators.best_params_"
   ]
  },
  {
   "cell_type": "code",
   "execution_count": 277,
   "id": "50ed58f3",
   "metadata": {},
   "outputs": [],
   "source": [
    "model=ensemble.RandomForestClassifier(n_estimators=57,max_depth=3,random_state=42) "
   ]
  },
  {
   "cell_type": "code",
   "execution_count": 278,
   "id": "8d0dc385",
   "metadata": {},
   "outputs": [
    {
     "data": {
      "text/plain": [
       "RandomForestClassifier(max_depth=3, n_estimators=57, random_state=42)"
      ]
     },
     "execution_count": 278,
     "metadata": {},
     "output_type": "execute_result"
    }
   ],
   "source": [
    "model.fit(Xtrain,ytrain)"
   ]
  },
  {
   "cell_type": "code",
   "execution_count": 279,
   "id": "c648c8eb",
   "metadata": {},
   "outputs": [],
   "source": [
    "trainpred=model.predict(Xtrain)\n",
    "testpred=model.predict(Xtest)"
   ]
  },
  {
   "cell_type": "code",
   "execution_count": 280,
   "id": "e1f938a2",
   "metadata": {},
   "outputs": [
    {
     "name": "stdout",
     "output_type": "stream",
     "text": [
      "train precision : 0.7133757961783439\n",
      "test precision : 0.7702702702702703\n",
      "\n",
      "AUC for train : 0.6479778104404723\n",
      "AUC for test : 0.6781874039938556\n"
     ]
    }
   ],
   "source": [
    "print(\"train precision :\",metrics.precision_score(ytrain,trainpred))\n",
    "print(\"test precision :\",metrics.precision_score(ytest,testpred))\n",
    "\n",
    "print(\"\\nAUC for train :\",metrics.roc_auc_score(ytrain,trainpred))\n",
    "print(\"AUC for test :\",metrics.roc_auc_score(ytest,testpred))"
   ]
  },
  {
   "cell_type": "markdown",
   "id": "118b3e82",
   "metadata": {},
   "source": [
    "### For max_features"
   ]
  },
  {
   "cell_type": "code",
   "execution_count": 281,
   "id": "8e19331f",
   "metadata": {},
   "outputs": [],
   "source": [
    "gobj_max_features=model_selection.GridSearchCV(model,param_grid=grid2,cv=5,scoring=\"precision\",n_jobs=-1,return_train_score=True)"
   ]
  },
  {
   "cell_type": "code",
   "execution_count": 282,
   "id": "e5962a56",
   "metadata": {},
   "outputs": [
    {
     "data": {
      "text/plain": [
       "GridSearchCV(cv=5,\n",
       "             estimator=RandomForestClassifier(max_depth=3, n_estimators=57,\n",
       "                                              random_state=42),\n",
       "             n_jobs=-1, param_grid={'max_features': ['auto', 'sqrt', 'log2']},\n",
       "             return_train_score=True, scoring='precision')"
      ]
     },
     "execution_count": 282,
     "metadata": {},
     "output_type": "execute_result"
    }
   ],
   "source": [
    "gobj_max_features.fit(Xtrain,ytrain)"
   ]
  },
  {
   "cell_type": "code",
   "execution_count": 283,
   "id": "e41470df",
   "metadata": {},
   "outputs": [
    {
     "data": {
      "text/plain": [
       "{'max_features': 'auto'}"
      ]
     },
     "execution_count": 283,
     "metadata": {},
     "output_type": "execute_result"
    }
   ],
   "source": [
    "gobj_max_features.best_params_"
   ]
  },
  {
   "cell_type": "code",
   "execution_count": 284,
   "id": "47414875",
   "metadata": {},
   "outputs": [],
   "source": [
    "model=ensemble.RandomForestClassifier(max_depth=3,n_estimators=57,max_features='auto',random_state=42) "
   ]
  },
  {
   "cell_type": "code",
   "execution_count": 285,
   "id": "a68f0337",
   "metadata": {},
   "outputs": [
    {
     "data": {
      "text/plain": [
       "RandomForestClassifier(max_depth=3, n_estimators=57, random_state=42)"
      ]
     },
     "execution_count": 285,
     "metadata": {},
     "output_type": "execute_result"
    }
   ],
   "source": [
    "model.fit(Xtrain,ytrain)"
   ]
  },
  {
   "cell_type": "code",
   "execution_count": 286,
   "id": "f637c1d1",
   "metadata": {},
   "outputs": [],
   "source": [
    "trainpred=model.predict(Xtrain)\n",
    "testpred=model.predict(Xtest)"
   ]
  },
  {
   "cell_type": "code",
   "execution_count": 287,
   "id": "489c6b83",
   "metadata": {},
   "outputs": [
    {
     "name": "stdout",
     "output_type": "stream",
     "text": [
      "train precision : 0.7133757961783439\n",
      "test precision : 0.7702702702702703\n",
      "\n",
      "AUC for train : 0.6479778104404723\n",
      "AUC for test : 0.6781874039938556\n"
     ]
    }
   ],
   "source": [
    "print(\"train precision :\",metrics.precision_score(ytrain,trainpred))\n",
    "print(\"test precision :\",metrics.precision_score(ytest,testpred))\n",
    "\n",
    "print(\"\\nAUC for train :\",metrics.roc_auc_score(ytrain,trainpred))\n",
    "print(\"AUC for test :\",metrics.roc_auc_score(ytest,testpred))"
   ]
  },
  {
   "cell_type": "markdown",
   "id": "c87a4f4e",
   "metadata": {},
   "source": [
    "### For min_samples_split"
   ]
  },
  {
   "cell_type": "code",
   "execution_count": 288,
   "id": "4abbe6f1",
   "metadata": {},
   "outputs": [],
   "source": [
    "gobj_min_samples_split=model_selection.GridSearchCV(model,param_grid=grid4,cv=5,scoring=\"precision\",n_jobs=-1,return_train_score=True)"
   ]
  },
  {
   "cell_type": "code",
   "execution_count": 289,
   "id": "c2efadb4",
   "metadata": {},
   "outputs": [
    {
     "data": {
      "text/plain": [
       "GridSearchCV(cv=5,\n",
       "             estimator=RandomForestClassifier(max_depth=3, n_estimators=57,\n",
       "                                              random_state=42),\n",
       "             n_jobs=-1, param_grid={'min_samples_split': [2, 3, 4, 5]},\n",
       "             return_train_score=True, scoring='precision')"
      ]
     },
     "execution_count": 289,
     "metadata": {},
     "output_type": "execute_result"
    }
   ],
   "source": [
    "gobj_min_samples_split.fit(Xtrain,ytrain)"
   ]
  },
  {
   "cell_type": "code",
   "execution_count": 290,
   "id": "24321e15",
   "metadata": {},
   "outputs": [
    {
     "data": {
      "text/plain": [
       "{'min_samples_split': 2}"
      ]
     },
     "execution_count": 290,
     "metadata": {},
     "output_type": "execute_result"
    }
   ],
   "source": [
    "gobj_min_samples_split.best_params_"
   ]
  },
  {
   "cell_type": "code",
   "execution_count": 291,
   "id": "416b5c03",
   "metadata": {},
   "outputs": [],
   "source": [
    "model=ensemble.RandomForestClassifier(max_depth=3,n_estimators=57,max_features='auto',min_samples_split=2,random_state=42) "
   ]
  },
  {
   "cell_type": "code",
   "execution_count": 292,
   "id": "9eaec0f2",
   "metadata": {},
   "outputs": [
    {
     "data": {
      "text/plain": [
       "RandomForestClassifier(max_depth=3, n_estimators=57, random_state=42)"
      ]
     },
     "execution_count": 292,
     "metadata": {},
     "output_type": "execute_result"
    }
   ],
   "source": [
    "model.fit(Xtrain,ytrain)"
   ]
  },
  {
   "cell_type": "code",
   "execution_count": 293,
   "id": "0acdf0ce",
   "metadata": {},
   "outputs": [],
   "source": [
    "trainpred=model.predict(Xtrain)\n",
    "testpred=model.predict(Xtest)"
   ]
  },
  {
   "cell_type": "code",
   "execution_count": 294,
   "id": "ec18fd41",
   "metadata": {},
   "outputs": [
    {
     "name": "stdout",
     "output_type": "stream",
     "text": [
      "train precision : 0.7133757961783439\n",
      "test precision : 0.7702702702702703\n",
      "\n",
      "AUC for train : 0.6479778104404723\n",
      "AUC for test : 0.6781874039938556\n"
     ]
    }
   ],
   "source": [
    "print(\"train precision :\",metrics.precision_score(ytrain,trainpred))\n",
    "print(\"test precision :\",metrics.precision_score(ytest,testpred))\n",
    "\n",
    "print(\"\\nAUC for train :\",metrics.roc_auc_score(ytrain,trainpred))\n",
    "print(\"AUC for test :\",metrics.roc_auc_score(ytest,testpred))"
   ]
  },
  {
   "cell_type": "code",
   "execution_count": null,
   "id": "f01bda06",
   "metadata": {},
   "outputs": [],
   "source": []
  },
  {
   "cell_type": "markdown",
   "id": "5851c31d",
   "metadata": {},
   "source": [
    "### For min_samples_leaf"
   ]
  },
  {
   "cell_type": "code",
   "execution_count": 295,
   "id": "f687bf5c",
   "metadata": {},
   "outputs": [],
   "source": [
    "gobj_min_samples_leaf=model_selection.GridSearchCV(model,param_grid=grid5,cv=5,scoring=\"precision\",n_jobs=-1,return_train_score=True)"
   ]
  },
  {
   "cell_type": "code",
   "execution_count": 296,
   "id": "70efb9ed",
   "metadata": {},
   "outputs": [
    {
     "data": {
      "text/plain": [
       "GridSearchCV(cv=5,\n",
       "             estimator=RandomForestClassifier(max_depth=3, n_estimators=57,\n",
       "                                              random_state=42),\n",
       "             n_jobs=-1, param_grid={'min_samples_leaf': [10, 11, 12, 13, 14]},\n",
       "             return_train_score=True, scoring='precision')"
      ]
     },
     "execution_count": 296,
     "metadata": {},
     "output_type": "execute_result"
    }
   ],
   "source": [
    "gobj_min_samples_leaf.fit(Xtrain,ytrain)"
   ]
  },
  {
   "cell_type": "code",
   "execution_count": 297,
   "id": "69e74846",
   "metadata": {},
   "outputs": [
    {
     "data": {
      "text/plain": [
       "{'min_samples_leaf': 10}"
      ]
     },
     "execution_count": 297,
     "metadata": {},
     "output_type": "execute_result"
    }
   ],
   "source": [
    "gobj_min_samples_leaf.best_params_"
   ]
  },
  {
   "cell_type": "code",
   "execution_count": 298,
   "id": "f1a81846",
   "metadata": {},
   "outputs": [],
   "source": [
    "model=ensemble.RandomForestClassifier(max_depth=3,n_estimators=57,max_features='auto',min_samples_leaf=10,min_samples_split=2,random_state=42) "
   ]
  },
  {
   "cell_type": "code",
   "execution_count": 299,
   "id": "2a1bb04b",
   "metadata": {},
   "outputs": [
    {
     "data": {
      "text/plain": [
       "RandomForestClassifier(max_depth=3, min_samples_leaf=10, n_estimators=57,\n",
       "                       random_state=42)"
      ]
     },
     "execution_count": 299,
     "metadata": {},
     "output_type": "execute_result"
    }
   ],
   "source": [
    "model.fit(Xtrain,ytrain)"
   ]
  },
  {
   "cell_type": "code",
   "execution_count": 300,
   "id": "9332dcbd",
   "metadata": {},
   "outputs": [],
   "source": [
    "trainpred=model.predict(Xtrain)\n",
    "testpred=model.predict(Xtest)"
   ]
  },
  {
   "cell_type": "code",
   "execution_count": 301,
   "id": "891d0df4",
   "metadata": {},
   "outputs": [
    {
     "name": "stdout",
     "output_type": "stream",
     "text": [
      "train precision : 0.7106518282988871\n",
      "test precision : 0.7702702702702703\n",
      "\n",
      "AUC for train : 0.643918021905078\n",
      "AUC for test : 0.6781874039938556\n"
     ]
    }
   ],
   "source": [
    "print(\"train precision :\",metrics.precision_score(ytrain,trainpred))\n",
    "print(\"test precision :\",metrics.precision_score(ytest,testpred))\n",
    "\n",
    "print(\"\\nAUC for train :\",metrics.roc_auc_score(ytrain,trainpred))\n",
    "print(\"AUC for test :\",metrics.roc_auc_score(ytest,testpred))"
   ]
  },
  {
   "cell_type": "code",
   "execution_count": null,
   "id": "12f2d6d5",
   "metadata": {},
   "outputs": [],
   "source": []
  },
  {
   "cell_type": "markdown",
   "id": "51288813",
   "metadata": {},
   "source": [
    "## Feature extraction using RFE"
   ]
  },
  {
   "cell_type": "code",
   "execution_count": 302,
   "id": "657ed804",
   "metadata": {},
   "outputs": [],
   "source": [
    "model=ensemble.RandomForestClassifier(max_depth=3,n_estimators=57,max_features='auto',min_samples_leaf=10,min_samples_split=2,random_state=42) "
   ]
  },
  {
   "cell_type": "code",
   "execution_count": 303,
   "id": "ab369f77",
   "metadata": {},
   "outputs": [],
   "source": [
    "rfeobj=feature_selection.RFE(estimator=model)"
   ]
  },
  {
   "cell_type": "code",
   "execution_count": 304,
   "id": "0bbf7e0d",
   "metadata": {},
   "outputs": [],
   "source": [
    "grid={ 'n_features_to_select': [3,4,5,6,7,8,9]}\n",
    "gobj2=model_selection.GridSearchCV(return_train_score=True,estimator=rfeobj,param_grid=grid,cv=5,scoring=\"precision\",n_jobs=-1)"
   ]
  },
  {
   "cell_type": "code",
   "execution_count": 305,
   "id": "6460d151",
   "metadata": {},
   "outputs": [
    {
     "data": {
      "text/plain": [
       "GridSearchCV(cv=5,\n",
       "             estimator=RFE(estimator=RandomForestClassifier(max_depth=3,\n",
       "                                                            min_samples_leaf=10,\n",
       "                                                            n_estimators=57,\n",
       "                                                            random_state=42)),\n",
       "             n_jobs=-1,\n",
       "             param_grid={'n_features_to_select': [3, 4, 5, 6, 7, 8, 9]},\n",
       "             return_train_score=True, scoring='precision')"
      ]
     },
     "execution_count": 305,
     "metadata": {},
     "output_type": "execute_result"
    }
   ],
   "source": [
    "gobj2.fit(Xtrain,ytrain)"
   ]
  },
  {
   "cell_type": "code",
   "execution_count": 306,
   "id": "31ceccda",
   "metadata": {},
   "outputs": [
    {
     "data": {
      "text/plain": [
       "{'n_features_to_select': 5}"
      ]
     },
     "execution_count": 306,
     "metadata": {},
     "output_type": "execute_result"
    }
   ],
   "source": [
    "gobj2.best_params_"
   ]
  },
  {
   "cell_type": "code",
   "execution_count": 307,
   "id": "6782fdc2",
   "metadata": {},
   "outputs": [],
   "source": [
    "rfeobj=feature_selection.RFE(estimator=model,n_features_to_select=5)"
   ]
  },
  {
   "cell_type": "code",
   "execution_count": 308,
   "id": "c6111163",
   "metadata": {},
   "outputs": [
    {
     "data": {
      "text/plain": [
       "RFE(estimator=RandomForestClassifier(max_depth=3, min_samples_leaf=10,\n",
       "                                     n_estimators=57, random_state=42),\n",
       "    n_features_to_select=5)"
      ]
     },
     "execution_count": 308,
     "metadata": {},
     "output_type": "execute_result"
    }
   ],
   "source": [
    "rfeobj.fit(Xtrain,ytrain)"
   ]
  },
  {
   "cell_type": "code",
   "execution_count": 309,
   "id": "482e0f73",
   "metadata": {},
   "outputs": [
    {
     "data": {
      "text/plain": [
       "Index(['Permission_status', 'Resume_status', 'Venue_status',\n",
       "       'Call_letter_status', 'Ex_attend'],\n",
       "      dtype='object')"
      ]
     },
     "execution_count": 309,
     "metadata": {},
     "output_type": "execute_result"
    }
   ],
   "source": [
    "Xtrain.columns[rfeobj.support_]"
   ]
  },
  {
   "cell_type": "code",
   "execution_count": 310,
   "id": "b85ebacf",
   "metadata": {},
   "outputs": [],
   "source": [
    "Xtrain1=Xtrain[Xtrain.columns[rfeobj.support_]]\n",
    "Xtest1=Xtest[Xtest.columns[rfeobj.support_]]"
   ]
  },
  {
   "cell_type": "code",
   "execution_count": 311,
   "id": "553962f6",
   "metadata": {},
   "outputs": [
    {
     "data": {
      "text/html": [
       "<div>\n",
       "<style scoped>\n",
       "    .dataframe tbody tr th:only-of-type {\n",
       "        vertical-align: middle;\n",
       "    }\n",
       "\n",
       "    .dataframe tbody tr th {\n",
       "        vertical-align: top;\n",
       "    }\n",
       "\n",
       "    .dataframe thead th {\n",
       "        text-align: right;\n",
       "    }\n",
       "</style>\n",
       "<table border=\"1\" class=\"dataframe\">\n",
       "  <thead>\n",
       "    <tr style=\"text-align: right;\">\n",
       "      <th></th>\n",
       "      <th>Permission_status</th>\n",
       "      <th>Resume_status</th>\n",
       "      <th>Venue_status</th>\n",
       "      <th>Call_letter_status</th>\n",
       "      <th>Ex_attend</th>\n",
       "    </tr>\n",
       "  </thead>\n",
       "  <tbody>\n",
       "    <tr>\n",
       "      <th>50</th>\n",
       "      <td>1</td>\n",
       "      <td>1</td>\n",
       "      <td>1</td>\n",
       "      <td>1</td>\n",
       "      <td>1</td>\n",
       "    </tr>\n",
       "    <tr>\n",
       "      <th>807</th>\n",
       "      <td>0</td>\n",
       "      <td>0</td>\n",
       "      <td>0</td>\n",
       "      <td>0</td>\n",
       "      <td>3</td>\n",
       "    </tr>\n",
       "    <tr>\n",
       "      <th>147</th>\n",
       "      <td>1</td>\n",
       "      <td>1</td>\n",
       "      <td>1</td>\n",
       "      <td>1</td>\n",
       "      <td>1</td>\n",
       "    </tr>\n",
       "    <tr>\n",
       "      <th>602</th>\n",
       "      <td>1</td>\n",
       "      <td>1</td>\n",
       "      <td>1</td>\n",
       "      <td>1</td>\n",
       "      <td>1</td>\n",
       "    </tr>\n",
       "    <tr>\n",
       "      <th>866</th>\n",
       "      <td>1</td>\n",
       "      <td>1</td>\n",
       "      <td>1</td>\n",
       "      <td>1</td>\n",
       "      <td>1</td>\n",
       "    </tr>\n",
       "  </tbody>\n",
       "</table>\n",
       "</div>"
      ],
      "text/plain": [
       "     Permission_status  Resume_status  Venue_status  Call_letter_status  \\\n",
       "50                   1              1             1                   1   \n",
       "807                  0              0             0                   0   \n",
       "147                  1              1             1                   1   \n",
       "602                  1              1             1                   1   \n",
       "866                  1              1             1                   1   \n",
       "\n",
       "     Ex_attend  \n",
       "50           1  \n",
       "807          3  \n",
       "147          1  \n",
       "602          1  \n",
       "866          1  "
      ]
     },
     "execution_count": 311,
     "metadata": {},
     "output_type": "execute_result"
    }
   ],
   "source": [
    "Xtrain1[:5]"
   ]
  },
  {
   "cell_type": "code",
   "execution_count": 312,
   "id": "6cb21e45",
   "metadata": {},
   "outputs": [
    {
     "data": {
      "text/html": [
       "<div>\n",
       "<style scoped>\n",
       "    .dataframe tbody tr th:only-of-type {\n",
       "        vertical-align: middle;\n",
       "    }\n",
       "\n",
       "    .dataframe tbody tr th {\n",
       "        vertical-align: top;\n",
       "    }\n",
       "\n",
       "    .dataframe thead th {\n",
       "        text-align: right;\n",
       "    }\n",
       "</style>\n",
       "<table border=\"1\" class=\"dataframe\">\n",
       "  <thead>\n",
       "    <tr style=\"text-align: right;\">\n",
       "      <th></th>\n",
       "      <th>Permission_status</th>\n",
       "      <th>Resume_status</th>\n",
       "      <th>Venue_status</th>\n",
       "      <th>Call_letter_status</th>\n",
       "      <th>Ex_attend</th>\n",
       "    </tr>\n",
       "  </thead>\n",
       "  <tbody>\n",
       "    <tr>\n",
       "      <th>770</th>\n",
       "      <td>1</td>\n",
       "      <td>1</td>\n",
       "      <td>1</td>\n",
       "      <td>1</td>\n",
       "      <td>1</td>\n",
       "    </tr>\n",
       "    <tr>\n",
       "      <th>346</th>\n",
       "      <td>0</td>\n",
       "      <td>0</td>\n",
       "      <td>0</td>\n",
       "      <td>0</td>\n",
       "      <td>3</td>\n",
       "    </tr>\n",
       "    <tr>\n",
       "      <th>558</th>\n",
       "      <td>1</td>\n",
       "      <td>1</td>\n",
       "      <td>1</td>\n",
       "      <td>1</td>\n",
       "      <td>1</td>\n",
       "    </tr>\n",
       "    <tr>\n",
       "      <th>587</th>\n",
       "      <td>1</td>\n",
       "      <td>1</td>\n",
       "      <td>1</td>\n",
       "      <td>1</td>\n",
       "      <td>1</td>\n",
       "    </tr>\n",
       "    <tr>\n",
       "      <th>274</th>\n",
       "      <td>1</td>\n",
       "      <td>1</td>\n",
       "      <td>1</td>\n",
       "      <td>1</td>\n",
       "      <td>1</td>\n",
       "    </tr>\n",
       "  </tbody>\n",
       "</table>\n",
       "</div>"
      ],
      "text/plain": [
       "     Permission_status  Resume_status  Venue_status  Call_letter_status  \\\n",
       "770                  1              1             1                   1   \n",
       "346                  0              0             0                   0   \n",
       "558                  1              1             1                   1   \n",
       "587                  1              1             1                   1   \n",
       "274                  1              1             1                   1   \n",
       "\n",
       "     Ex_attend  \n",
       "770          1  \n",
       "346          3  \n",
       "558          1  \n",
       "587          1  \n",
       "274          1  "
      ]
     },
     "execution_count": 312,
     "metadata": {},
     "output_type": "execute_result"
    }
   ],
   "source": [
    "Xtest1[:5]"
   ]
  },
  {
   "cell_type": "code",
   "execution_count": 313,
   "id": "261c3d0f",
   "metadata": {},
   "outputs": [
    {
     "data": {
      "text/plain": [
       "RandomForestClassifier(max_depth=3, min_samples_leaf=10, n_estimators=57,\n",
       "                       random_state=42)"
      ]
     },
     "execution_count": 313,
     "metadata": {},
     "output_type": "execute_result"
    }
   ],
   "source": [
    "model=ensemble.RandomForestClassifier(max_depth=3,n_estimators=57,max_features='auto',min_samples_leaf=10,min_samples_split=2,random_state=42)  \n",
    "model.fit(Xtrain1,ytrain)"
   ]
  },
  {
   "cell_type": "code",
   "execution_count": 314,
   "id": "971012b3",
   "metadata": {},
   "outputs": [],
   "source": [
    "trainpred_final=model.predict(Xtrain1)\n",
    "testpred_final=model.predict(Xtest1)"
   ]
  },
  {
   "cell_type": "code",
   "execution_count": null,
   "id": "8fa08af6",
   "metadata": {},
   "outputs": [],
   "source": []
  },
  {
   "cell_type": "markdown",
   "id": "5bdc403f",
   "metadata": {},
   "source": [
    "#### Metrics obtained for the model final Random forest model"
   ]
  },
  {
   "cell_type": "code",
   "execution_count": 315,
   "id": "35aae68c",
   "metadata": {},
   "outputs": [
    {
     "name": "stdout",
     "output_type": "stream",
     "text": [
      "train precision : 0.7110754414125201\n",
      "test precision : 0.7671232876712328\n",
      "\n",
      "AUC for train : 0.64320681807406\n",
      "AUC for test : 0.6702508960573477\n"
     ]
    }
   ],
   "source": [
    "print(\"train precision :\",metrics.precision_score(ytrain,trainpred_final))\n",
    "print(\"test precision :\",metrics.precision_score(ytest,testpred_final))\n",
    "\n",
    "print(\"\\nAUC for train :\",metrics.roc_auc_score(ytrain,trainpred_final))\n",
    "print(\"AUC for test :\",metrics.roc_auc_score(ytest,testpred_final))"
   ]
  },
  {
   "cell_type": "code",
   "execution_count": null,
   "id": "56af05b0",
   "metadata": {},
   "outputs": [],
   "source": []
  },
  {
   "cell_type": "code",
   "execution_count": null,
   "id": "3e6f1eef",
   "metadata": {},
   "outputs": [],
   "source": []
  },
  {
   "cell_type": "code",
   "execution_count": null,
   "id": "f2c80d30",
   "metadata": {},
   "outputs": [],
   "source": []
  },
  {
   "cell_type": "markdown",
   "id": "7a73cd2d",
   "metadata": {},
   "source": [
    "# Model 4: Naive bayes"
   ]
  },
  {
   "cell_type": "code",
   "execution_count": 316,
   "id": "7aa1984f",
   "metadata": {},
   "outputs": [],
   "source": [
    "from sklearn import naive_bayes"
   ]
  },
  {
   "cell_type": "code",
   "execution_count": 317,
   "id": "26059eb0",
   "metadata": {},
   "outputs": [],
   "source": [
    "df=pd.read_csv('F:\\Programming\\Machine Learning\\ClassWorks\\project\\interview(Cleaned).csv')"
   ]
  },
  {
   "cell_type": "code",
   "execution_count": 318,
   "id": "08427588",
   "metadata": {},
   "outputs": [
    {
     "data": {
      "text/html": [
       "<div>\n",
       "<style scoped>\n",
       "    .dataframe tbody tr th:only-of-type {\n",
       "        vertical-align: middle;\n",
       "    }\n",
       "\n",
       "    .dataframe tbody tr th {\n",
       "        vertical-align: top;\n",
       "    }\n",
       "\n",
       "    .dataframe thead th {\n",
       "        text-align: right;\n",
       "    }\n",
       "</style>\n",
       "<table border=\"1\" class=\"dataframe\">\n",
       "  <thead>\n",
       "    <tr style=\"text-align: right;\">\n",
       "      <th></th>\n",
       "      <th>Client_name</th>\n",
       "      <th>Industry</th>\n",
       "      <th>Closed_pos</th>\n",
       "      <th>Interview_type</th>\n",
       "      <th>Gender</th>\n",
       "      <th>Curr_loc</th>\n",
       "      <th>Curr_job_loc</th>\n",
       "      <th>Interview_venue</th>\n",
       "      <th>Permission_status</th>\n",
       "      <th>Unscd_meet_status</th>\n",
       "      <th>Followup_status</th>\n",
       "      <th>AltNum_status</th>\n",
       "      <th>Resume_status</th>\n",
       "      <th>Venue_status</th>\n",
       "      <th>Call_letter_status</th>\n",
       "      <th>Ex_attend</th>\n",
       "      <th>Obs_attend</th>\n",
       "      <th>Matital_status</th>\n",
       "      <th>Skill</th>\n",
       "    </tr>\n",
       "  </thead>\n",
       "  <tbody>\n",
       "    <tr>\n",
       "      <th>0</th>\n",
       "      <td>Hospira</td>\n",
       "      <td>Pharmaceuticals</td>\n",
       "      <td>Non-Routine</td>\n",
       "      <td>scheduled_walkin</td>\n",
       "      <td>Male</td>\n",
       "      <td>Chennai</td>\n",
       "      <td>hosur</td>\n",
       "      <td>hosur</td>\n",
       "      <td>yes</td>\n",
       "      <td>yes</td>\n",
       "      <td>yes</td>\n",
       "      <td>yes</td>\n",
       "      <td>yes</td>\n",
       "      <td>yes</td>\n",
       "      <td>yes</td>\n",
       "      <td>yes</td>\n",
       "      <td>no</td>\n",
       "      <td>Single</td>\n",
       "      <td>Routine</td>\n",
       "    </tr>\n",
       "    <tr>\n",
       "      <th>1</th>\n",
       "      <td>Hospira</td>\n",
       "      <td>Pharmaceuticals</td>\n",
       "      <td>Non-Routine</td>\n",
       "      <td>scheduled_walkin</td>\n",
       "      <td>Male</td>\n",
       "      <td>Chennai</td>\n",
       "      <td>bangalore</td>\n",
       "      <td>hosur</td>\n",
       "      <td>yes</td>\n",
       "      <td>yes</td>\n",
       "      <td>yes</td>\n",
       "      <td>yes</td>\n",
       "      <td>yes</td>\n",
       "      <td>yes</td>\n",
       "      <td>yes</td>\n",
       "      <td>yes</td>\n",
       "      <td>no</td>\n",
       "      <td>Single</td>\n",
       "      <td>Routine</td>\n",
       "    </tr>\n",
       "    <tr>\n",
       "      <th>2</th>\n",
       "      <td>Hospira</td>\n",
       "      <td>Pharmaceuticals</td>\n",
       "      <td>Non-Routine</td>\n",
       "      <td>scheduled_walkin</td>\n",
       "      <td>Male</td>\n",
       "      <td>Chennai</td>\n",
       "      <td>chennai</td>\n",
       "      <td>hosur</td>\n",
       "      <td>no</td>\n",
       "      <td>no</td>\n",
       "      <td>no</td>\n",
       "      <td>no</td>\n",
       "      <td>no</td>\n",
       "      <td>no</td>\n",
       "      <td>no</td>\n",
       "      <td>uncertain</td>\n",
       "      <td>no</td>\n",
       "      <td>Single</td>\n",
       "      <td>Routine</td>\n",
       "    </tr>\n",
       "    <tr>\n",
       "      <th>3</th>\n",
       "      <td>Hospira</td>\n",
       "      <td>Pharmaceuticals</td>\n",
       "      <td>Non-Routine</td>\n",
       "      <td>scheduled_walkin</td>\n",
       "      <td>Male</td>\n",
       "      <td>Chennai</td>\n",
       "      <td>chennai</td>\n",
       "      <td>hosur</td>\n",
       "      <td>yes</td>\n",
       "      <td>yes</td>\n",
       "      <td>no</td>\n",
       "      <td>yes</td>\n",
       "      <td>no</td>\n",
       "      <td>yes</td>\n",
       "      <td>yes</td>\n",
       "      <td>uncertain</td>\n",
       "      <td>no</td>\n",
       "      <td>Single</td>\n",
       "      <td>Routine</td>\n",
       "    </tr>\n",
       "    <tr>\n",
       "      <th>4</th>\n",
       "      <td>Hospira</td>\n",
       "      <td>Pharmaceuticals</td>\n",
       "      <td>Non-Routine</td>\n",
       "      <td>scheduled_walkin</td>\n",
       "      <td>Male</td>\n",
       "      <td>Chennai</td>\n",
       "      <td>bangalore</td>\n",
       "      <td>hosur</td>\n",
       "      <td>yes</td>\n",
       "      <td>yes</td>\n",
       "      <td>yes</td>\n",
       "      <td>yes</td>\n",
       "      <td>yes</td>\n",
       "      <td>yes</td>\n",
       "      <td>yes</td>\n",
       "      <td>uncertain</td>\n",
       "      <td>no</td>\n",
       "      <td>Married</td>\n",
       "      <td>Routine</td>\n",
       "    </tr>\n",
       "  </tbody>\n",
       "</table>\n",
       "</div>"
      ],
      "text/plain": [
       "  Client_name         Industry   Closed_pos    Interview_type Gender Curr_loc  \\\n",
       "0     Hospira  Pharmaceuticals  Non-Routine  scheduled_walkin   Male  Chennai   \n",
       "1     Hospira  Pharmaceuticals  Non-Routine  scheduled_walkin   Male  Chennai   \n",
       "2     Hospira  Pharmaceuticals  Non-Routine  scheduled_walkin   Male  Chennai   \n",
       "3     Hospira  Pharmaceuticals  Non-Routine  scheduled_walkin   Male  Chennai   \n",
       "4     Hospira  Pharmaceuticals  Non-Routine  scheduled_walkin   Male  Chennai   \n",
       "\n",
       "  Curr_job_loc Interview_venue Permission_status Unscd_meet_status  \\\n",
       "0        hosur           hosur               yes               yes   \n",
       "1    bangalore           hosur               yes               yes   \n",
       "2      chennai           hosur                no                no   \n",
       "3      chennai           hosur               yes               yes   \n",
       "4    bangalore           hosur               yes               yes   \n",
       "\n",
       "  Followup_status AltNum_status Resume_status Venue_status Call_letter_status  \\\n",
       "0             yes           yes           yes          yes                yes   \n",
       "1             yes           yes           yes          yes                yes   \n",
       "2              no            no            no           no                 no   \n",
       "3              no           yes            no          yes                yes   \n",
       "4             yes           yes           yes          yes                yes   \n",
       "\n",
       "   Ex_attend Obs_attend Matital_status    Skill  \n",
       "0        yes         no         Single  Routine  \n",
       "1        yes         no         Single  Routine  \n",
       "2  uncertain         no         Single  Routine  \n",
       "3  uncertain         no         Single  Routine  \n",
       "4  uncertain         no        Married  Routine  "
      ]
     },
     "execution_count": 318,
     "metadata": {},
     "output_type": "execute_result"
    }
   ],
   "source": [
    "df.head()"
   ]
  },
  {
   "cell_type": "code",
   "execution_count": 319,
   "id": "8f1edb58",
   "metadata": {},
   "outputs": [],
   "source": [
    "model=naive_bayes.GaussianNB()"
   ]
  },
  {
   "cell_type": "code",
   "execution_count": 320,
   "id": "fba1a197",
   "metadata": {},
   "outputs": [],
   "source": [
    "#Splitting into trainging and testing data\n",
    "Xtrain,Xtest,ytrain,ytest=model_selection.train_test_split(X,y,test_size=.1,random_state=123)"
   ]
  },
  {
   "cell_type": "code",
   "execution_count": 321,
   "id": "d43ec196",
   "metadata": {},
   "outputs": [
    {
     "data": {
      "text/plain": [
       "GaussianNB()"
      ]
     },
     "execution_count": 321,
     "metadata": {},
     "output_type": "execute_result"
    }
   ],
   "source": [
    "model.fit(Xtrain,ytrain)"
   ]
  },
  {
   "cell_type": "code",
   "execution_count": 322,
   "id": "1bc4f7e4",
   "metadata": {},
   "outputs": [],
   "source": [
    "def printscores(act,pred):\n",
    "    print(\"precision :\",metrics.precision_score(act,pred))\n",
    "    print(\"AUC :\",metrics.roc_auc_score(act,pred))"
   ]
  },
  {
   "cell_type": "code",
   "execution_count": 323,
   "id": "27920b0a",
   "metadata": {},
   "outputs": [
    {
     "name": "stdout",
     "output_type": "stream",
     "text": [
      "Training data: \n",
      "precision : 0.6987577639751553\n",
      "AUC : 0.6281470769522546\n",
      "\n",
      "Test data: \n",
      "precision : 0.75\n",
      "AUC : 0.6459293394777266\n"
     ]
    }
   ],
   "source": [
    "#Prediction on training and testing data\n",
    "trainpred=model.predict(Xtrain)\n",
    "testpred=model.predict(Xtest)\n",
    "print(\"Training data: \")\n",
    "printscores(ytrain,trainpred)\n",
    "print(\"\\nTest data: \")\n",
    "printscores(ytest,testpred)"
   ]
  },
  {
   "cell_type": "code",
   "execution_count": null,
   "id": "bad11981",
   "metadata": {},
   "outputs": [],
   "source": []
  },
  {
   "cell_type": "code",
   "execution_count": null,
   "id": "b01363d7",
   "metadata": {},
   "outputs": [],
   "source": []
  },
  {
   "cell_type": "code",
   "execution_count": null,
   "id": "258575a3",
   "metadata": {},
   "outputs": [],
   "source": []
  },
  {
   "cell_type": "markdown",
   "id": "0bc0608c",
   "metadata": {},
   "source": [
    "# Final Summary"
   ]
  },
  {
   "cell_type": "markdown",
   "id": "29de92e1",
   "metadata": {},
   "source": [
    "### All the results for each models are as follows"
   ]
  },
  {
   "cell_type": "markdown",
   "id": "2938f80f",
   "metadata": {},
   "source": [
    "### 1.Logistic regression "
   ]
  },
  {
   "cell_type": "markdown",
   "id": "c882b565",
   "metadata": {},
   "source": [
    "Training data:\n",
    "    \n",
    "    precision : 0.7102966841186736\n",
    "    AUC : 0.6406156998952738\n",
    "\n",
    "Test data: \n",
    "\n",
    "    precision : 0.7412587412587412\n",
    "    AUC : 0.684866828087167\n",
    "\n",
    "Final Columns to be chosen:\n",
    "\n",
    "{'Client_name_ANZ', 'Client_name_Hospira', 'Interview_type_scheduled',\n",
    "'Interview_venue_hosur', 'Permission_status_no', 'Resume_status_no',\n",
    "'Venue_status_no', 'Ex_attend_no', 'Ex_attend_uncertain',\n",
    "'Ex_attend_yes'}"
   ]
  },
  {
   "cell_type": "markdown",
   "id": "5d37dc4c",
   "metadata": {},
   "source": [
    "## 2.Decision Tree "
   ]
  },
  {
   "cell_type": "markdown",
   "id": "c3a2e8c5",
   "metadata": {},
   "source": [
    "Training data: \n",
    "\n",
    "    precision : 0.7110754414125201\n",
    "\n",
    "    AUC : 0.64320681807406\n",
    "\n",
    "Test data: \n",
    "\n",
    "    precision : 0.7671232876712328\n",
    "\n",
    "    AUC : 0.6702508960573477\n",
    "    \n",
    "Final Columns to be chosen:\n",
    "    \n",
    "{'Gender', 'Venue_status', 'Call_letter_status', 'Ex_attend',\n",
    "'Matital_status', 'Skill'}"
   ]
  },
  {
   "cell_type": "markdown",
   "id": "5a4dc401",
   "metadata": {},
   "source": [
    "## 3.Random Forest"
   ]
  },
  {
   "cell_type": "markdown",
   "id": "9b09e729",
   "metadata": {},
   "source": [
    "Training data:\n",
    "    \n",
    "    precision : 0.7110754414125201\n",
    "    AUC: 0.64320681807406\n",
    "\n",
    "Test data:\n",
    "    \n",
    "    precision : 0.7671232876712328\n",
    "    AUC: 0.6702508960573477\n",
    "    \n",
    "Final Columns to be chosen\n",
    "{'Permission_status', 'Resume_status', 'Venue_status',\n",
    "'Call_letter_status', 'Ex_attend'}"
   ]
  },
  {
   "cell_type": "markdown",
   "id": "cbd23313",
   "metadata": {},
   "source": [
    "## 4.Naive Bayes"
   ]
  },
  {
   "cell_type": "markdown",
   "id": "f5add758",
   "metadata": {},
   "source": [
    "Training data: \n",
    "\n",
    "    precision : 0.6987577639751553\n",
    "    AUC : 0.6281470769522546\n",
    "\n",
    "Test data: \n",
    "\n",
    "    precision : 0.75\n",
    "    AUC : 0.6459293394777266"
   ]
  },
  {
   "cell_type": "code",
   "execution_count": null,
   "id": "2bb84d1a",
   "metadata": {},
   "outputs": [],
   "source": []
  },
  {
   "cell_type": "markdown",
   "id": "437cda6e",
   "metadata": {},
   "source": [
    "# Conclusion"
   ]
  },
  {
   "cell_type": "markdown",
   "id": "a2608536",
   "metadata": {},
   "source": [
    "### For the given data Decision Tree (or) Random Forest are the best models"
   ]
  },
  {
   "cell_type": "code",
   "execution_count": null,
   "id": "e0139380",
   "metadata": {},
   "outputs": [],
   "source": []
  }
 ],
 "metadata": {
  "kernelspec": {
   "display_name": "Python 3",
   "language": "python",
   "name": "python3"
  },
  "language_info": {
   "codemirror_mode": {
    "name": "ipython",
    "version": 3
   },
   "file_extension": ".py",
   "mimetype": "text/x-python",
   "name": "python",
   "nbconvert_exporter": "python",
   "pygments_lexer": "ipython3",
   "version": "3.8.8"
  }
 },
 "nbformat": 4,
 "nbformat_minor": 5
}
